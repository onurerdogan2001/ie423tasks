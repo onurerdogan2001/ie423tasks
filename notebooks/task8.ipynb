{
  "cells": [
    {
      "cell_type": "markdown",
      "metadata": {
        "id": "view-in-github",
        "colab_type": "text"
      },
      "source": [
        "<a href=\"https://colab.research.google.com/github/onurerdogan2001/ie423tasks/blob/main/notebooks/task8.ipynb\" target=\"_parent\"><img src=\"https://colab.research.google.com/assets/colab-badge.svg\" alt=\"Open In Colab\"/></a>"
      ]
    },
    {
      "cell_type": "markdown",
      "source": [
        "![utexas_ds_orie_divider.png](data:image/png;base64,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)"
      ],
      "metadata": {
        "id": "QegpN7sWB6Rz"
      }
    },
    {
      "cell_type": "markdown",
      "metadata": {
        "id": "-C2Z-au9pV82"
      },
      "source": [
        "## <font color='#475468'> IE423 TASK8</font>\n",
        "### <font color='#475468'> Onur Erdoğan 21903313</font>"
      ]
    },
    {
      "cell_type": "markdown",
      "source": [
        "![utexas_ds_orie_divider.png](data:image/png;base64,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)"
      ],
      "metadata": {
        "id": "mqfmI4jyp4JY"
      }
    },
    {
      "cell_type": "markdown",
      "metadata": {
        "id": "T-ukPY5apV84"
      },
      "source": [
        "## Initialize"
      ]
    },
    {
      "cell_type": "code",
      "execution_count": 1,
      "metadata": {
        "id": "X2ABndf4pV84"
      },
      "outputs": [],
      "source": [
        "import pandas as pd\n",
        "import numpy as np\n",
        "import matplotlib.pyplot as plt\n",
        "import seaborn as sns\n",
        "from difflib import get_close_matches\n"
      ]
    },
    {
      "cell_type": "markdown",
      "metadata": {
        "id": "qhMn3zTdpV86"
      },
      "source": [
        "## Load Data"
      ]
    },
    {
      "cell_type": "code",
      "source": [
        "from google.colab import drive\n",
        "drive.mount('/content/drive')"
      ],
      "metadata": {
        "colab": {
          "base_uri": "https://localhost:8080/"
        },
        "id": "0BmqwCivp-gr",
        "outputId": "73775714-cd44-4886-921e-9405e967bba9"
      },
      "execution_count": 2,
      "outputs": [
        {
          "output_type": "stream",
          "name": "stdout",
          "text": [
            "Drive already mounted at /content/drive; to attempt to forcibly remount, call drive.mount(\"/content/drive\", force_remount=True).\n"
          ]
        }
      ]
    },
    {
      "cell_type": "code",
      "execution_count": 3,
      "metadata": {
        "id": "k9y3LspPpV88"
      },
      "outputs": [],
      "source": [
        "# Joke metadata\n",
        "dfMvs = pd.read_csv('/content/drive/MyDrive/yazokulu/JokeText.csv')\n",
        "\n",
        "# User ratings for each joke\n",
        "dfMvsRtg = pd.read_csv('/content/drive/MyDrive/yazokulu/JokeRatings2.csv')"
      ]
    },
    {
      "cell_type": "markdown",
      "metadata": {
        "id": "TzapTY4fpV89"
      },
      "source": [
        "## Build Recommendations"
      ]
    },
    {
      "cell_type": "markdown",
      "metadata": {
        "id": "u5UZo5-npV9E"
      },
      "source": [
        "#### Prepare data"
      ]
    },
    {
      "cell_type": "code",
      "execution_count": 4,
      "metadata": {
        "colab": {
          "base_uri": "https://localhost:8080/",
          "height": 206
        },
        "id": "aN63Qb2MpV9E",
        "outputId": "23747c72-1331-4cb0-d2e3-627e0dbf9a47"
      },
      "outputs": [
        {
          "output_type": "execute_result",
          "data": {
            "text/plain": [
              "   JokeId                                           JokeText\n",
              "0       0  A man visits the doctor. The doctor says \"I ha...\n",
              "1       1  This couple had an excellent relationship goin...\n",
              "2       2  Q. What's 200 feet long and has 4 teeth? \\n\\nA...\n",
              "3       3  Q. What's the difference between a man and a t...\n",
              "4       4  Q.\\tWhat's O. J. Simpson's Internet address? \\..."
            ],
            "text/html": [
              "\n",
              "  <div id=\"df-e697a284-2fcf-43bc-b81a-874884ab4591\" class=\"colab-df-container\">\n",
              "    <div>\n",
              "<style scoped>\n",
              "    .dataframe tbody tr th:only-of-type {\n",
              "        vertical-align: middle;\n",
              "    }\n",
              "\n",
              "    .dataframe tbody tr th {\n",
              "        vertical-align: top;\n",
              "    }\n",
              "\n",
              "    .dataframe thead th {\n",
              "        text-align: right;\n",
              "    }\n",
              "</style>\n",
              "<table border=\"1\" class=\"dataframe\">\n",
              "  <thead>\n",
              "    <tr style=\"text-align: right;\">\n",
              "      <th></th>\n",
              "      <th>JokeId</th>\n",
              "      <th>JokeText</th>\n",
              "    </tr>\n",
              "  </thead>\n",
              "  <tbody>\n",
              "    <tr>\n",
              "      <th>0</th>\n",
              "      <td>0</td>\n",
              "      <td>A man visits the doctor. The doctor says \"I ha...</td>\n",
              "    </tr>\n",
              "    <tr>\n",
              "      <th>1</th>\n",
              "      <td>1</td>\n",
              "      <td>This couple had an excellent relationship goin...</td>\n",
              "    </tr>\n",
              "    <tr>\n",
              "      <th>2</th>\n",
              "      <td>2</td>\n",
              "      <td>Q. What's 200 feet long and has 4 teeth? \\n\\nA...</td>\n",
              "    </tr>\n",
              "    <tr>\n",
              "      <th>3</th>\n",
              "      <td>3</td>\n",
              "      <td>Q. What's the difference between a man and a t...</td>\n",
              "    </tr>\n",
              "    <tr>\n",
              "      <th>4</th>\n",
              "      <td>4</td>\n",
              "      <td>Q.\\tWhat's O. J. Simpson's Internet address? \\...</td>\n",
              "    </tr>\n",
              "  </tbody>\n",
              "</table>\n",
              "</div>\n",
              "    <div class=\"colab-df-buttons\">\n",
              "\n",
              "  <div class=\"colab-df-container\">\n",
              "    <button class=\"colab-df-convert\" onclick=\"convertToInteractive('df-e697a284-2fcf-43bc-b81a-874884ab4591')\"\n",
              "            title=\"Convert this dataframe to an interactive table.\"\n",
              "            style=\"display:none;\">\n",
              "\n",
              "  <svg xmlns=\"http://www.w3.org/2000/svg\" height=\"24px\" viewBox=\"0 -960 960 960\">\n",
              "    <path d=\"M120-120v-720h720v720H120Zm60-500h600v-160H180v160Zm220 220h160v-160H400v160Zm0 220h160v-160H400v160ZM180-400h160v-160H180v160Zm440 0h160v-160H620v160ZM180-180h160v-160H180v160Zm440 0h160v-160H620v160Z\"/>\n",
              "  </svg>\n",
              "    </button>\n",
              "\n",
              "  <style>\n",
              "    .colab-df-container {\n",
              "      display:flex;\n",
              "      gap: 12px;\n",
              "    }\n",
              "\n",
              "    .colab-df-convert {\n",
              "      background-color: #E8F0FE;\n",
              "      border: none;\n",
              "      border-radius: 50%;\n",
              "      cursor: pointer;\n",
              "      display: none;\n",
              "      fill: #1967D2;\n",
              "      height: 32px;\n",
              "      padding: 0 0 0 0;\n",
              "      width: 32px;\n",
              "    }\n",
              "\n",
              "    .colab-df-convert:hover {\n",
              "      background-color: #E2EBFA;\n",
              "      box-shadow: 0px 1px 2px rgba(60, 64, 67, 0.3), 0px 1px 3px 1px rgba(60, 64, 67, 0.15);\n",
              "      fill: #174EA6;\n",
              "    }\n",
              "\n",
              "    .colab-df-buttons div {\n",
              "      margin-bottom: 4px;\n",
              "    }\n",
              "\n",
              "    [theme=dark] .colab-df-convert {\n",
              "      background-color: #3B4455;\n",
              "      fill: #D2E3FC;\n",
              "    }\n",
              "\n",
              "    [theme=dark] .colab-df-convert:hover {\n",
              "      background-color: #434B5C;\n",
              "      box-shadow: 0px 1px 3px 1px rgba(0, 0, 0, 0.15);\n",
              "      filter: drop-shadow(0px 1px 2px rgba(0, 0, 0, 0.3));\n",
              "      fill: #FFFFFF;\n",
              "    }\n",
              "  </style>\n",
              "\n",
              "    <script>\n",
              "      const buttonEl =\n",
              "        document.querySelector('#df-e697a284-2fcf-43bc-b81a-874884ab4591 button.colab-df-convert');\n",
              "      buttonEl.style.display =\n",
              "        google.colab.kernel.accessAllowed ? 'block' : 'none';\n",
              "\n",
              "      async function convertToInteractive(key) {\n",
              "        const element = document.querySelector('#df-e697a284-2fcf-43bc-b81a-874884ab4591');\n",
              "        const dataTable =\n",
              "          await google.colab.kernel.invokeFunction('convertToInteractive',\n",
              "                                                    [key], {});\n",
              "        if (!dataTable) return;\n",
              "\n",
              "        const docLinkHtml = 'Like what you see? Visit the ' +\n",
              "          '<a target=\"_blank\" href=https://colab.research.google.com/notebooks/data_table.ipynb>data table notebook</a>'\n",
              "          + ' to learn more about interactive tables.';\n",
              "        element.innerHTML = '';\n",
              "        dataTable['output_type'] = 'display_data';\n",
              "        await google.colab.output.renderOutput(dataTable, element);\n",
              "        const docLink = document.createElement('div');\n",
              "        docLink.innerHTML = docLinkHtml;\n",
              "        element.appendChild(docLink);\n",
              "      }\n",
              "    </script>\n",
              "  </div>\n",
              "\n",
              "\n",
              "<div id=\"df-506b3d77-5658-451c-9930-20f58ed0df23\">\n",
              "  <button class=\"colab-df-quickchart\" onclick=\"quickchart('df-506b3d77-5658-451c-9930-20f58ed0df23')\"\n",
              "            title=\"Suggest charts\"\n",
              "            style=\"display:none;\">\n",
              "\n",
              "<svg xmlns=\"http://www.w3.org/2000/svg\" height=\"24px\"viewBox=\"0 0 24 24\"\n",
              "     width=\"24px\">\n",
              "    <g>\n",
              "        <path d=\"M19 3H5c-1.1 0-2 .9-2 2v14c0 1.1.9 2 2 2h14c1.1 0 2-.9 2-2V5c0-1.1-.9-2-2-2zM9 17H7v-7h2v7zm4 0h-2V7h2v10zm4 0h-2v-4h2v4z\"/>\n",
              "    </g>\n",
              "</svg>\n",
              "  </button>\n",
              "\n",
              "<style>\n",
              "  .colab-df-quickchart {\n",
              "      --bg-color: #E8F0FE;\n",
              "      --fill-color: #1967D2;\n",
              "      --hover-bg-color: #E2EBFA;\n",
              "      --hover-fill-color: #174EA6;\n",
              "      --disabled-fill-color: #AAA;\n",
              "      --disabled-bg-color: #DDD;\n",
              "  }\n",
              "\n",
              "  [theme=dark] .colab-df-quickchart {\n",
              "      --bg-color: #3B4455;\n",
              "      --fill-color: #D2E3FC;\n",
              "      --hover-bg-color: #434B5C;\n",
              "      --hover-fill-color: #FFFFFF;\n",
              "      --disabled-bg-color: #3B4455;\n",
              "      --disabled-fill-color: #666;\n",
              "  }\n",
              "\n",
              "  .colab-df-quickchart {\n",
              "    background-color: var(--bg-color);\n",
              "    border: none;\n",
              "    border-radius: 50%;\n",
              "    cursor: pointer;\n",
              "    display: none;\n",
              "    fill: var(--fill-color);\n",
              "    height: 32px;\n",
              "    padding: 0;\n",
              "    width: 32px;\n",
              "  }\n",
              "\n",
              "  .colab-df-quickchart:hover {\n",
              "    background-color: var(--hover-bg-color);\n",
              "    box-shadow: 0 1px 2px rgba(60, 64, 67, 0.3), 0 1px 3px 1px rgba(60, 64, 67, 0.15);\n",
              "    fill: var(--button-hover-fill-color);\n",
              "  }\n",
              "\n",
              "  .colab-df-quickchart-complete:disabled,\n",
              "  .colab-df-quickchart-complete:disabled:hover {\n",
              "    background-color: var(--disabled-bg-color);\n",
              "    fill: var(--disabled-fill-color);\n",
              "    box-shadow: none;\n",
              "  }\n",
              "\n",
              "  .colab-df-spinner {\n",
              "    border: 2px solid var(--fill-color);\n",
              "    border-color: transparent;\n",
              "    border-bottom-color: var(--fill-color);\n",
              "    animation:\n",
              "      spin 1s steps(1) infinite;\n",
              "  }\n",
              "\n",
              "  @keyframes spin {\n",
              "    0% {\n",
              "      border-color: transparent;\n",
              "      border-bottom-color: var(--fill-color);\n",
              "      border-left-color: var(--fill-color);\n",
              "    }\n",
              "    20% {\n",
              "      border-color: transparent;\n",
              "      border-left-color: var(--fill-color);\n",
              "      border-top-color: var(--fill-color);\n",
              "    }\n",
              "    30% {\n",
              "      border-color: transparent;\n",
              "      border-left-color: var(--fill-color);\n",
              "      border-top-color: var(--fill-color);\n",
              "      border-right-color: var(--fill-color);\n",
              "    }\n",
              "    40% {\n",
              "      border-color: transparent;\n",
              "      border-right-color: var(--fill-color);\n",
              "      border-top-color: var(--fill-color);\n",
              "    }\n",
              "    60% {\n",
              "      border-color: transparent;\n",
              "      border-right-color: var(--fill-color);\n",
              "    }\n",
              "    80% {\n",
              "      border-color: transparent;\n",
              "      border-right-color: var(--fill-color);\n",
              "      border-bottom-color: var(--fill-color);\n",
              "    }\n",
              "    90% {\n",
              "      border-color: transparent;\n",
              "      border-bottom-color: var(--fill-color);\n",
              "    }\n",
              "  }\n",
              "</style>\n",
              "\n",
              "  <script>\n",
              "    async function quickchart(key) {\n",
              "      const quickchartButtonEl =\n",
              "        document.querySelector('#' + key + ' button');\n",
              "      quickchartButtonEl.disabled = true;  // To prevent multiple clicks.\n",
              "      quickchartButtonEl.classList.add('colab-df-spinner');\n",
              "      try {\n",
              "        const charts = await google.colab.kernel.invokeFunction(\n",
              "            'suggestCharts', [key], {});\n",
              "      } catch (error) {\n",
              "        console.error('Error during call to suggestCharts:', error);\n",
              "      }\n",
              "      quickchartButtonEl.classList.remove('colab-df-spinner');\n",
              "      quickchartButtonEl.classList.add('colab-df-quickchart-complete');\n",
              "    }\n",
              "    (() => {\n",
              "      let quickchartButtonEl =\n",
              "        document.querySelector('#df-506b3d77-5658-451c-9930-20f58ed0df23 button');\n",
              "      quickchartButtonEl.style.display =\n",
              "        google.colab.kernel.accessAllowed ? 'block' : 'none';\n",
              "    })();\n",
              "  </script>\n",
              "</div>\n",
              "\n",
              "    </div>\n",
              "  </div>\n"
            ],
            "application/vnd.google.colaboratory.intrinsic+json": {
              "type": "dataframe",
              "variable_name": "dfMvs",
              "summary": "{\n  \"name\": \"dfMvs\",\n  \"rows\": 100,\n  \"fields\": [\n    {\n      \"column\": \"JokeId\",\n      \"properties\": {\n        \"dtype\": \"number\",\n        \"std\": 29,\n        \"min\": 0,\n        \"max\": 99,\n        \"num_unique_values\": 100,\n        \"samples\": [\n          83,\n          53,\n          70\n        ],\n        \"semantic_type\": \"\",\n        \"description\": \"\"\n      }\n    },\n    {\n      \"column\": \"JokeText\",\n      \"properties\": {\n        \"dtype\": \"string\",\n        \"num_unique_values\": 100,\n        \"samples\": [\n          \"Q: What is the difference between Mechanical Engineers and Civil \\nEngineers?\\n \\nA: Mechanical Engineers build weapons, Civil Engineers build targets.\\n\",\n          \"The Pope dies and, naturally, goes to heaven. He's met by the reception\\ncommittee, and after a whirlwind tour he is told that he can enjoy any\\nof the myriad of recreations available.\\nHe decides that he wants to read all of the ancient original text of the\\nHoly Scriptures, so he spends the next eon or so learning languages.\\nAfter becoming a linguistic master, he sits down in the library and\\nbegins to pour over every version of the Bible, working back from most\\nrecent \\\"Easy Reading\\\" to the original script.\\nAll of a sudden there is a scream in the library. The Angels come\\nrunning in only to find the Pope huddled in his chair, crying to himself\\nand muttering, \\\"An 'R'! The scribes left out the 'R'.\\\" \\nA particularly concerned Angel takes him aside, offering comfort, asks\\nhim what the problem is and what does he mean. \\nAfter collecting his\\nwits, the Pope sobs again, \\\"It's the letter 'R'. They left out the 'R'.\\nThe word was supposed to be CELEBRATE!\\\"\\n\",\n          \"At a recent Sacramento PC Users Group meeting,\\na company was demonstrating its latest speech-\\nrecognition software.   A representative from the\\ncompany was just about ready to start the\\ndemonstration and asked everyone in the room\\nto quiet down.\\n\\nJust then someone in the back of the room yelled,\\n\\\"Format C: Return.\\\"\\n\\nSomeone else chimed in:\\n\\\"Yes, Return\\\"\\n\\nUnfortunately, the software worked.\\n\\n\"\n        ],\n        \"semantic_type\": \"\",\n        \"description\": \"\"\n      }\n    }\n  ]\n}"
            }
          },
          "metadata": {},
          "execution_count": 4
        }
      ],
      "source": [
        "dfMvs.head()"
      ]
    },
    {
      "cell_type": "code",
      "execution_count": 5,
      "metadata": {
        "colab": {
          "base_uri": "https://localhost:8080/"
        },
        "id": "ZSTcL2ZHpV9F",
        "outputId": "41ccca2e-e400-44dd-aaf2-da3c830ef1ff"
      },
      "outputs": [
        {
          "output_type": "execute_result",
          "data": {
            "text/plain": [
              "(100, 2)"
            ]
          },
          "metadata": {},
          "execution_count": 5
        }
      ],
      "source": [
        "dfMvs.shape"
      ]
    },
    {
      "cell_type": "code",
      "execution_count": 6,
      "metadata": {
        "colab": {
          "base_uri": "https://localhost:8080/"
        },
        "id": "GlhH4NfNpV9G",
        "outputId": "ab46c034-c793-4215-cd23-3616ee01aa7d"
      },
      "outputs": [
        {
          "output_type": "execute_result",
          "data": {
            "text/plain": [
              "(100, 2)"
            ]
          },
          "metadata": {},
          "execution_count": 6
        }
      ],
      "source": [
        "# Remove duplicates\n",
        "dfMvs.drop_duplicates(subset ='JokeId', keep = 'first', inplace = True)\n",
        "dfMvs.shape"
      ]
    },
    {
      "cell_type": "markdown",
      "metadata": {
        "id": "YqpOBEwJpV9G"
      },
      "source": [
        "#### Build Model"
      ]
    },
    {
      "cell_type": "code",
      "execution_count": 7,
      "metadata": {
        "colab": {
          "base_uri": "https://localhost:8080/"
        },
        "id": "8J-wf-XepV9G",
        "outputId": "49a06d57-dedc-4305-eaf0-08e66142a49a"
      },
      "outputs": [
        {
          "output_type": "execute_result",
          "data": {
            "text/plain": [
              "(100, 3774)"
            ]
          },
          "metadata": {},
          "execution_count": 7
        }
      ],
      "source": [
        "# Generate a matrix of common terms that show up in each movie\n",
        "\n",
        "from sklearn.feature_extraction.text import TfidfVectorizer\n",
        "mdlTfvMvs = TfidfVectorizer(analyzer='word',ngram_range=(1, 2),min_df=1, stop_words='english')\n",
        "tfidf_matrix = mdlTfvMvs.fit_transform(dfMvs['JokeText'])\n",
        "tfidf_matrix.shape\n"
      ]
    },
    {
      "cell_type": "markdown",
      "metadata": {
        "id": "9qaHBKgZpV9H"
      },
      "source": [
        "The similarity between any two movies (x) and (y) is defined as the **Cosine Similarity**:\n",
        "cosine(x,y)=x.y⊺||x||.||y||\n",
        "\n",
        "Since we have used the TF-IDF Vectorizer, calculating the Dot Product will directly give us the Cosine Similarity Score."
      ]
    },
    {
      "cell_type": "code",
      "execution_count": 8,
      "metadata": {
        "id": "uuUlranCpV9H",
        "colab": {
          "base_uri": "https://localhost:8080/"
        },
        "outputId": "39fc61b4-e016-4a4a-d257-0496b4525bb0"
      },
      "outputs": [
        {
          "output_type": "execute_result",
          "data": {
            "text/plain": [
              "(100, 100)"
            ]
          },
          "metadata": {},
          "execution_count": 8
        }
      ],
      "source": [
        "# Calculate cosine similarity between each pair of movies as a function of the similarity of the common terms\n",
        "\n",
        "from sklearn.metrics.pairwise import cosine_similarity\n",
        "cosine_sim = cosine_similarity(tfidf_matrix, tfidf_matrix)\n",
        "cosine_sim.shape"
      ]
    },
    {
      "cell_type": "markdown",
      "metadata": {
        "id": "xcewNXDApV9I"
      },
      "source": [
        "#### Predict"
      ]
    },
    {
      "cell_type": "code",
      "execution_count": 9,
      "metadata": {
        "id": "1qXe9z3LpV9I"
      },
      "outputs": [],
      "source": [
        "# Prepare recommendation function (build code from scratch and then package as function for ease of understanding)\n",
        "\n",
        "JokeTexts = dfMvs['JokeText']\n",
        "indices = pd.Series(dfMvs.index, index=dfMvs['JokeText'])\n",
        "\n",
        "def get_recommendations(JokeText, top_n=10):\n",
        "    # Find jokes containing the keyword\n",
        "    keyword_jokes = dfMvs[dfMvs['JokeText'].str.contains(JokeText, case=False)]\n",
        "\n",
        "    if keyword_jokes.empty:\n",
        "        return f\"No jokes containing the word '{JokeText}' found in the dataset.\"\n",
        "\n",
        "    # Use the first joke containing the keyword as the closest match\n",
        "    closest_joke = keyword_jokes['JokeText'].iloc[0]\n",
        "    idx = indices[closest_joke]\n",
        "    sim_scores = list(enumerate(cosine_sim[idx]))\n",
        "    sim_scores = sorted(sim_scores, key=lambda x: x[1], reverse=True)\n",
        "    sim_scores = sim_scores[1:top_n+1]\n",
        "    joke_indices = [i[0] for i in sim_scores]\n",
        "\n",
        "    recommendations = JokeTexts.iloc[joke_indices]\n",
        "    return closest_joke, recommendations\n"
      ]
    },
    {
      "cell_type": "code",
      "execution_count": 10,
      "metadata": {
        "id": "nuj2VaCzpV9I",
        "outputId": "e20ac321-59f1-478d-91d3-4a6422bdb175",
        "colab": {
          "base_uri": "https://localhost:8080/"
        }
      },
      "outputs": [
        {
          "output_type": "stream",
          "name": "stdout",
          "text": [
            "Closest joke found: A man visits the doctor. The doctor says \"I have bad news for you.You have\n",
            "cancer and Alzheimer's disease\". \n",
            "The man replies \"Well,thank God I don't have cancer!\"\n",
            "\n",
            "\n",
            "86    A man, recently completing a routine physical ...\n",
            "67    A man piloting a hot air balloon discovers he ...\n",
            "87    A Czechoslovakian man felt his eyesight was gr...\n",
            "75    There once was a man and a woman that both  go...\n",
            "31    A man arrives at the gates of heaven. St. Pete...\n",
            "38    What is the difference between men and women:\\...\n",
            "55    A man and Cindy Crawford get stranded on a des...\n",
            "80    An Asian man goes into a New York CityBank to ...\n",
            "32    What do you call an American in the finals of ...\n",
            "3     Q. What's the difference between a man and a t...\n",
            "Name: JokeText, dtype: object\n"
          ]
        }
      ],
      "source": [
        "# Example usage\n",
        "example_joke = 'doctor'\n",
        "result = get_recommendations(example_joke)\n",
        "\n",
        "if isinstance(result, str):\n",
        "    print(result)\n",
        "else:\n",
        "    closest_joke, recommendations = result\n",
        "    print(f\"Closest joke found: {closest_joke}\\n\")\n",
        "    print(recommendations.head(10))\n"
      ]
    },
    {
      "cell_type": "code",
      "execution_count": 11,
      "metadata": {
        "id": "Ae5Gb26dpV9J",
        "outputId": "329943d2-fa4c-434c-839e-30d8969e89a8",
        "colab": {
          "base_uri": "https://localhost:8080/"
        }
      },
      "outputs": [
        {
          "output_type": "stream",
          "name": "stdout",
          "text": [
            "Closest joke found: Two cannibals are eating a clown, one turns to other and says: \n",
            "\"Does this taste funny to you? \n",
            "\n",
            "\n",
            "6     How many feminists does it take to screw in a ...\n",
            "36    A Jewish young man was seeing a psychiatrist f...\n",
            "89    Q: How many programmers does it take to change...\n",
            "16    How many men does it take to screw in a light ...\n",
            "39    How many Irishmen does it take to change a lig...\n",
            "57    How many teddybears does it take to change a l...\n",
            "73    Q: How many stalkers does it take to change a ...\n",
            "40    What does an atheist say during an orgasm?\\n\"O...\n",
            "84    Q: How many Presidents does it take to screw i...\n",
            "5     Bill & Hillary are on a trip back to Arkansas....\n",
            "Name: JokeText, dtype: object\n"
          ]
        }
      ],
      "source": [
        "# Example usage\n",
        "example_joke = 'Clown'\n",
        "result = get_recommendations(example_joke)\n",
        "\n",
        "if isinstance(result, str):\n",
        "    print(result)\n",
        "else:\n",
        "    closest_joke, recommendations = result\n",
        "    print(f\"Closest joke found: {closest_joke}\\n\")\n",
        "    print(recommendations.head(10))\n"
      ]
    },
    {
      "cell_type": "markdown",
      "metadata": {
        "id": "dAaqXpKNpV9K"
      },
      "source": [
        "![utexas_ds_orie_divider_gray.png](data:image/png;base64,iVBORw0KGgoAAAANSUhEUgAAB0YAAAAKCAYAAAAgjz0QAAAAAXNSR0IArs4c6QAAAHhlWElmTU0AKgAAAAgABAEaAAUAAAABAAAAPgEbAAUAAAABAAAARgEoAAMAAAABAAIAAIdpAAQAAAABAAAATgAAAAAAAACWAAAAAQAAAJYAAAABAAOgAQADAAAAAQABAACgAgAEAAAAAQAAB0agAwAEAAAAAQAAAAoAAAAAoOuQ6gAAAAlwSFlzAAAXEgAAFxIBZ5/SUgAAAbBJREFUeAHt2bEVAiEURcHFsxyKMLU6jcyogQKsxzo01h6IEAqwgb9DQnwHsrdtDgECBAgQIECAAAECBAgQIECAAAECBAgQIECAAAECBIILpNVXa73knM/BW+URIECAAAECBAgQIECAAAECBAgQIECAAAECBAgQIHAwgd77u7X23Vd3KeU+r+vBDOQSIECAAAECBAgQIECAAAECBAgQIECAAAECBAgQIBBcYG6ht5n4OAXvlEeAAAECBAgQIECAAAECBAgQIECAAAECBAgQIECAAIHNMOoTECBAgAABAgQIECBAgAABAgQIECBAgAABAgQIECAQXsAwGv6JBRIgQIAAAQIECBAgQIAAAQIECBAgQIAAAQIECBAgYBj1BwgQIECAAAECBAgQIECAAAECBAgQIECAAAECBAgQCC9gGA3/xAIJECBAgAABAgQIECBAgAABAgQIECBAgAABAgQIENgXwRjjlVJ64iBAgAABAgQIECBAgAABAgQIECBAgAABAgQIECBAgEAkgbmDfiL1aCFAgAABAgQIECBAgAABAgQIECBAgAABAgQIECBAgMBfgR+MbQ+c2cysKQAAAABJRU5ErkJggg==)"
      ]
    },
    {
      "cell_type": "markdown",
      "metadata": {
        "id": "EavwswN3pV9K"
      },
      "source": [
        "### 2. Collaborative Filtering"
      ]
    },
    {
      "cell_type": "markdown",
      "metadata": {
        "id": "VSz2G7jjpV9M"
      },
      "source": [
        "#### Prepare data"
      ]
    },
    {
      "cell_type": "code",
      "execution_count": 12,
      "metadata": {
        "id": "-xuiymqqpV9M",
        "outputId": "1c7809a0-501d-4b88-a802-313c03889c7e",
        "colab": {
          "base_uri": "https://localhost:8080/",
          "height": 392
        }
      },
      "outputs": [
        {
          "output_type": "execute_result",
          "data": {
            "text/plain": [
              "   JokeId  User1  User2  User3  User4  User5  User6  User7  User8  User9  ...  \\\n",
              "0       0   5.10  -8.79  -3.50   7.14  -8.79   9.22  -4.03   3.11  -3.64  ...   \n",
              "1       1   4.90  -0.87  -2.91  -3.88  -0.58   9.37  -1.55   0.92  -3.35  ...   \n",
              "2       2   1.75   1.99  -2.18  -3.06  -0.58  -3.93  -3.64   7.52  -6.46  ...   \n",
              "3       3  -4.17  -4.61  -0.10   0.05   8.98   9.27  -6.99   0.49  -3.40  ...   \n",
              "4       4   5.15   5.39   7.52   6.26   7.67   3.45   5.44  -0.58   1.26  ...   \n",
              "5       5   1.75  -0.78   1.26   6.65   8.25  -8.11  -6.75   2.14   0.34  ...   \n",
              "6       6   4.76   1.60  -5.39  -7.52   4.08   4.42  -0.15  -0.24  -3.01  ...   \n",
              "7       7   3.30   1.07   1.50   7.28   2.52   2.72  -5.87   8.06  -6.65  ...   \n",
              "8       8  -2.57  -8.69  -8.40  -5.15  -9.66   9.08  -3.54   2.82  -3.40  ...   \n",
              "9       9  -1.41  -4.66   4.37  -7.14   2.48   9.13  -5.19   7.52   1.36  ...   \n",
              "\n",
              "   User36701  User36702  User36703  User36704  User36705  User36706  \\\n",
              "0        NaN        NaN        NaN        NaN        NaN        NaN   \n",
              "1        NaN        NaN        NaN      -5.63        NaN      -6.07   \n",
              "2        NaN        NaN        NaN        NaN        NaN       4.08   \n",
              "3        NaN        NaN        NaN        NaN        NaN        NaN   \n",
              "4       2.28      -0.49       5.10      -0.29      -3.54      -1.36   \n",
              "5        NaN      -3.40      -0.92      -4.27        NaN      -2.57   \n",
              "6      -9.95      -4.42       0.97      -3.54       6.36       3.01   \n",
              "7       4.32      -1.07       0.49      -2.14       2.57      -5.73   \n",
              "8        NaN        NaN        NaN        NaN        NaN        NaN   \n",
              "9      -8.40      -6.26      -1.17       0.44       7.52       8.59   \n",
              "\n",
              "   User36707  User36708  User36709  User36710  \n",
              "0        NaN        NaN       2.91        NaN  \n",
              "1        NaN      -1.60      -4.56        NaN  \n",
              "2        NaN        NaN       8.98        NaN  \n",
              "3        NaN        NaN        NaN        NaN  \n",
              "4       7.48      -5.78       0.73       2.62  \n",
              "5       9.32       7.96      -9.13       3.30  \n",
              "6       3.74       5.19      -9.42       0.53  \n",
              "7      -2.33       2.67       8.69      -2.62  \n",
              "8        NaN        NaN        NaN        NaN  \n",
              "9       8.88       6.07       8.35       3.06  \n",
              "\n",
              "[10 rows x 36711 columns]"
            ],
            "text/html": [
              "\n",
              "  <div id=\"df-ef603f52-a900-4f95-8e12-718efc5f8783\" class=\"colab-df-container\">\n",
              "    <div>\n",
              "<style scoped>\n",
              "    .dataframe tbody tr th:only-of-type {\n",
              "        vertical-align: middle;\n",
              "    }\n",
              "\n",
              "    .dataframe tbody tr th {\n",
              "        vertical-align: top;\n",
              "    }\n",
              "\n",
              "    .dataframe thead th {\n",
              "        text-align: right;\n",
              "    }\n",
              "</style>\n",
              "<table border=\"1\" class=\"dataframe\">\n",
              "  <thead>\n",
              "    <tr style=\"text-align: right;\">\n",
              "      <th></th>\n",
              "      <th>JokeId</th>\n",
              "      <th>User1</th>\n",
              "      <th>User2</th>\n",
              "      <th>User3</th>\n",
              "      <th>User4</th>\n",
              "      <th>User5</th>\n",
              "      <th>User6</th>\n",
              "      <th>User7</th>\n",
              "      <th>User8</th>\n",
              "      <th>User9</th>\n",
              "      <th>...</th>\n",
              "      <th>User36701</th>\n",
              "      <th>User36702</th>\n",
              "      <th>User36703</th>\n",
              "      <th>User36704</th>\n",
              "      <th>User36705</th>\n",
              "      <th>User36706</th>\n",
              "      <th>User36707</th>\n",
              "      <th>User36708</th>\n",
              "      <th>User36709</th>\n",
              "      <th>User36710</th>\n",
              "    </tr>\n",
              "  </thead>\n",
              "  <tbody>\n",
              "    <tr>\n",
              "      <th>0</th>\n",
              "      <td>0</td>\n",
              "      <td>5.10</td>\n",
              "      <td>-8.79</td>\n",
              "      <td>-3.50</td>\n",
              "      <td>7.14</td>\n",
              "      <td>-8.79</td>\n",
              "      <td>9.22</td>\n",
              "      <td>-4.03</td>\n",
              "      <td>3.11</td>\n",
              "      <td>-3.64</td>\n",
              "      <td>...</td>\n",
              "      <td>NaN</td>\n",
              "      <td>NaN</td>\n",
              "      <td>NaN</td>\n",
              "      <td>NaN</td>\n",
              "      <td>NaN</td>\n",
              "      <td>NaN</td>\n",
              "      <td>NaN</td>\n",
              "      <td>NaN</td>\n",
              "      <td>2.91</td>\n",
              "      <td>NaN</td>\n",
              "    </tr>\n",
              "    <tr>\n",
              "      <th>1</th>\n",
              "      <td>1</td>\n",
              "      <td>4.90</td>\n",
              "      <td>-0.87</td>\n",
              "      <td>-2.91</td>\n",
              "      <td>-3.88</td>\n",
              "      <td>-0.58</td>\n",
              "      <td>9.37</td>\n",
              "      <td>-1.55</td>\n",
              "      <td>0.92</td>\n",
              "      <td>-3.35</td>\n",
              "      <td>...</td>\n",
              "      <td>NaN</td>\n",
              "      <td>NaN</td>\n",
              "      <td>NaN</td>\n",
              "      <td>-5.63</td>\n",
              "      <td>NaN</td>\n",
              "      <td>-6.07</td>\n",
              "      <td>NaN</td>\n",
              "      <td>-1.60</td>\n",
              "      <td>-4.56</td>\n",
              "      <td>NaN</td>\n",
              "    </tr>\n",
              "    <tr>\n",
              "      <th>2</th>\n",
              "      <td>2</td>\n",
              "      <td>1.75</td>\n",
              "      <td>1.99</td>\n",
              "      <td>-2.18</td>\n",
              "      <td>-3.06</td>\n",
              "      <td>-0.58</td>\n",
              "      <td>-3.93</td>\n",
              "      <td>-3.64</td>\n",
              "      <td>7.52</td>\n",
              "      <td>-6.46</td>\n",
              "      <td>...</td>\n",
              "      <td>NaN</td>\n",
              "      <td>NaN</td>\n",
              "      <td>NaN</td>\n",
              "      <td>NaN</td>\n",
              "      <td>NaN</td>\n",
              "      <td>4.08</td>\n",
              "      <td>NaN</td>\n",
              "      <td>NaN</td>\n",
              "      <td>8.98</td>\n",
              "      <td>NaN</td>\n",
              "    </tr>\n",
              "    <tr>\n",
              "      <th>3</th>\n",
              "      <td>3</td>\n",
              "      <td>-4.17</td>\n",
              "      <td>-4.61</td>\n",
              "      <td>-0.10</td>\n",
              "      <td>0.05</td>\n",
              "      <td>8.98</td>\n",
              "      <td>9.27</td>\n",
              "      <td>-6.99</td>\n",
              "      <td>0.49</td>\n",
              "      <td>-3.40</td>\n",
              "      <td>...</td>\n",
              "      <td>NaN</td>\n",
              "      <td>NaN</td>\n",
              "      <td>NaN</td>\n",
              "      <td>NaN</td>\n",
              "      <td>NaN</td>\n",
              "      <td>NaN</td>\n",
              "      <td>NaN</td>\n",
              "      <td>NaN</td>\n",
              "      <td>NaN</td>\n",
              "      <td>NaN</td>\n",
              "    </tr>\n",
              "    <tr>\n",
              "      <th>4</th>\n",
              "      <td>4</td>\n",
              "      <td>5.15</td>\n",
              "      <td>5.39</td>\n",
              "      <td>7.52</td>\n",
              "      <td>6.26</td>\n",
              "      <td>7.67</td>\n",
              "      <td>3.45</td>\n",
              "      <td>5.44</td>\n",
              "      <td>-0.58</td>\n",
              "      <td>1.26</td>\n",
              "      <td>...</td>\n",
              "      <td>2.28</td>\n",
              "      <td>-0.49</td>\n",
              "      <td>5.10</td>\n",
              "      <td>-0.29</td>\n",
              "      <td>-3.54</td>\n",
              "      <td>-1.36</td>\n",
              "      <td>7.48</td>\n",
              "      <td>-5.78</td>\n",
              "      <td>0.73</td>\n",
              "      <td>2.62</td>\n",
              "    </tr>\n",
              "    <tr>\n",
              "      <th>5</th>\n",
              "      <td>5</td>\n",
              "      <td>1.75</td>\n",
              "      <td>-0.78</td>\n",
              "      <td>1.26</td>\n",
              "      <td>6.65</td>\n",
              "      <td>8.25</td>\n",
              "      <td>-8.11</td>\n",
              "      <td>-6.75</td>\n",
              "      <td>2.14</td>\n",
              "      <td>0.34</td>\n",
              "      <td>...</td>\n",
              "      <td>NaN</td>\n",
              "      <td>-3.40</td>\n",
              "      <td>-0.92</td>\n",
              "      <td>-4.27</td>\n",
              "      <td>NaN</td>\n",
              "      <td>-2.57</td>\n",
              "      <td>9.32</td>\n",
              "      <td>7.96</td>\n",
              "      <td>-9.13</td>\n",
              "      <td>3.30</td>\n",
              "    </tr>\n",
              "    <tr>\n",
              "      <th>6</th>\n",
              "      <td>6</td>\n",
              "      <td>4.76</td>\n",
              "      <td>1.60</td>\n",
              "      <td>-5.39</td>\n",
              "      <td>-7.52</td>\n",
              "      <td>4.08</td>\n",
              "      <td>4.42</td>\n",
              "      <td>-0.15</td>\n",
              "      <td>-0.24</td>\n",
              "      <td>-3.01</td>\n",
              "      <td>...</td>\n",
              "      <td>-9.95</td>\n",
              "      <td>-4.42</td>\n",
              "      <td>0.97</td>\n",
              "      <td>-3.54</td>\n",
              "      <td>6.36</td>\n",
              "      <td>3.01</td>\n",
              "      <td>3.74</td>\n",
              "      <td>5.19</td>\n",
              "      <td>-9.42</td>\n",
              "      <td>0.53</td>\n",
              "    </tr>\n",
              "    <tr>\n",
              "      <th>7</th>\n",
              "      <td>7</td>\n",
              "      <td>3.30</td>\n",
              "      <td>1.07</td>\n",
              "      <td>1.50</td>\n",
              "      <td>7.28</td>\n",
              "      <td>2.52</td>\n",
              "      <td>2.72</td>\n",
              "      <td>-5.87</td>\n",
              "      <td>8.06</td>\n",
              "      <td>-6.65</td>\n",
              "      <td>...</td>\n",
              "      <td>4.32</td>\n",
              "      <td>-1.07</td>\n",
              "      <td>0.49</td>\n",
              "      <td>-2.14</td>\n",
              "      <td>2.57</td>\n",
              "      <td>-5.73</td>\n",
              "      <td>-2.33</td>\n",
              "      <td>2.67</td>\n",
              "      <td>8.69</td>\n",
              "      <td>-2.62</td>\n",
              "    </tr>\n",
              "    <tr>\n",
              "      <th>8</th>\n",
              "      <td>8</td>\n",
              "      <td>-2.57</td>\n",
              "      <td>-8.69</td>\n",
              "      <td>-8.40</td>\n",
              "      <td>-5.15</td>\n",
              "      <td>-9.66</td>\n",
              "      <td>9.08</td>\n",
              "      <td>-3.54</td>\n",
              "      <td>2.82</td>\n",
              "      <td>-3.40</td>\n",
              "      <td>...</td>\n",
              "      <td>NaN</td>\n",
              "      <td>NaN</td>\n",
              "      <td>NaN</td>\n",
              "      <td>NaN</td>\n",
              "      <td>NaN</td>\n",
              "      <td>NaN</td>\n",
              "      <td>NaN</td>\n",
              "      <td>NaN</td>\n",
              "      <td>NaN</td>\n",
              "      <td>NaN</td>\n",
              "    </tr>\n",
              "    <tr>\n",
              "      <th>9</th>\n",
              "      <td>9</td>\n",
              "      <td>-1.41</td>\n",
              "      <td>-4.66</td>\n",
              "      <td>4.37</td>\n",
              "      <td>-7.14</td>\n",
              "      <td>2.48</td>\n",
              "      <td>9.13</td>\n",
              "      <td>-5.19</td>\n",
              "      <td>7.52</td>\n",
              "      <td>1.36</td>\n",
              "      <td>...</td>\n",
              "      <td>-8.40</td>\n",
              "      <td>-6.26</td>\n",
              "      <td>-1.17</td>\n",
              "      <td>0.44</td>\n",
              "      <td>7.52</td>\n",
              "      <td>8.59</td>\n",
              "      <td>8.88</td>\n",
              "      <td>6.07</td>\n",
              "      <td>8.35</td>\n",
              "      <td>3.06</td>\n",
              "    </tr>\n",
              "  </tbody>\n",
              "</table>\n",
              "<p>10 rows × 36711 columns</p>\n",
              "</div>\n",
              "    <div class=\"colab-df-buttons\">\n",
              "\n",
              "  <div class=\"colab-df-container\">\n",
              "    <button class=\"colab-df-convert\" onclick=\"convertToInteractive('df-ef603f52-a900-4f95-8e12-718efc5f8783')\"\n",
              "            title=\"Convert this dataframe to an interactive table.\"\n",
              "            style=\"display:none;\">\n",
              "\n",
              "  <svg xmlns=\"http://www.w3.org/2000/svg\" height=\"24px\" viewBox=\"0 -960 960 960\">\n",
              "    <path d=\"M120-120v-720h720v720H120Zm60-500h600v-160H180v160Zm220 220h160v-160H400v160Zm0 220h160v-160H400v160ZM180-400h160v-160H180v160Zm440 0h160v-160H620v160ZM180-180h160v-160H180v160Zm440 0h160v-160H620v160Z\"/>\n",
              "  </svg>\n",
              "    </button>\n",
              "\n",
              "  <style>\n",
              "    .colab-df-container {\n",
              "      display:flex;\n",
              "      gap: 12px;\n",
              "    }\n",
              "\n",
              "    .colab-df-convert {\n",
              "      background-color: #E8F0FE;\n",
              "      border: none;\n",
              "      border-radius: 50%;\n",
              "      cursor: pointer;\n",
              "      display: none;\n",
              "      fill: #1967D2;\n",
              "      height: 32px;\n",
              "      padding: 0 0 0 0;\n",
              "      width: 32px;\n",
              "    }\n",
              "\n",
              "    .colab-df-convert:hover {\n",
              "      background-color: #E2EBFA;\n",
              "      box-shadow: 0px 1px 2px rgba(60, 64, 67, 0.3), 0px 1px 3px 1px rgba(60, 64, 67, 0.15);\n",
              "      fill: #174EA6;\n",
              "    }\n",
              "\n",
              "    .colab-df-buttons div {\n",
              "      margin-bottom: 4px;\n",
              "    }\n",
              "\n",
              "    [theme=dark] .colab-df-convert {\n",
              "      background-color: #3B4455;\n",
              "      fill: #D2E3FC;\n",
              "    }\n",
              "\n",
              "    [theme=dark] .colab-df-convert:hover {\n",
              "      background-color: #434B5C;\n",
              "      box-shadow: 0px 1px 3px 1px rgba(0, 0, 0, 0.15);\n",
              "      filter: drop-shadow(0px 1px 2px rgba(0, 0, 0, 0.3));\n",
              "      fill: #FFFFFF;\n",
              "    }\n",
              "  </style>\n",
              "\n",
              "    <script>\n",
              "      const buttonEl =\n",
              "        document.querySelector('#df-ef603f52-a900-4f95-8e12-718efc5f8783 button.colab-df-convert');\n",
              "      buttonEl.style.display =\n",
              "        google.colab.kernel.accessAllowed ? 'block' : 'none';\n",
              "\n",
              "      async function convertToInteractive(key) {\n",
              "        const element = document.querySelector('#df-ef603f52-a900-4f95-8e12-718efc5f8783');\n",
              "        const dataTable =\n",
              "          await google.colab.kernel.invokeFunction('convertToInteractive',\n",
              "                                                    [key], {});\n",
              "        if (!dataTable) return;\n",
              "\n",
              "        const docLinkHtml = 'Like what you see? Visit the ' +\n",
              "          '<a target=\"_blank\" href=https://colab.research.google.com/notebooks/data_table.ipynb>data table notebook</a>'\n",
              "          + ' to learn more about interactive tables.';\n",
              "        element.innerHTML = '';\n",
              "        dataTable['output_type'] = 'display_data';\n",
              "        await google.colab.output.renderOutput(dataTable, element);\n",
              "        const docLink = document.createElement('div');\n",
              "        docLink.innerHTML = docLinkHtml;\n",
              "        element.appendChild(docLink);\n",
              "      }\n",
              "    </script>\n",
              "  </div>\n",
              "\n",
              "\n",
              "<div id=\"df-eb98d610-3f7b-415d-a84c-f5f87341b719\">\n",
              "  <button class=\"colab-df-quickchart\" onclick=\"quickchart('df-eb98d610-3f7b-415d-a84c-f5f87341b719')\"\n",
              "            title=\"Suggest charts\"\n",
              "            style=\"display:none;\">\n",
              "\n",
              "<svg xmlns=\"http://www.w3.org/2000/svg\" height=\"24px\"viewBox=\"0 0 24 24\"\n",
              "     width=\"24px\">\n",
              "    <g>\n",
              "        <path d=\"M19 3H5c-1.1 0-2 .9-2 2v14c0 1.1.9 2 2 2h14c1.1 0 2-.9 2-2V5c0-1.1-.9-2-2-2zM9 17H7v-7h2v7zm4 0h-2V7h2v10zm4 0h-2v-4h2v4z\"/>\n",
              "    </g>\n",
              "</svg>\n",
              "  </button>\n",
              "\n",
              "<style>\n",
              "  .colab-df-quickchart {\n",
              "      --bg-color: #E8F0FE;\n",
              "      --fill-color: #1967D2;\n",
              "      --hover-bg-color: #E2EBFA;\n",
              "      --hover-fill-color: #174EA6;\n",
              "      --disabled-fill-color: #AAA;\n",
              "      --disabled-bg-color: #DDD;\n",
              "  }\n",
              "\n",
              "  [theme=dark] .colab-df-quickchart {\n",
              "      --bg-color: #3B4455;\n",
              "      --fill-color: #D2E3FC;\n",
              "      --hover-bg-color: #434B5C;\n",
              "      --hover-fill-color: #FFFFFF;\n",
              "      --disabled-bg-color: #3B4455;\n",
              "      --disabled-fill-color: #666;\n",
              "  }\n",
              "\n",
              "  .colab-df-quickchart {\n",
              "    background-color: var(--bg-color);\n",
              "    border: none;\n",
              "    border-radius: 50%;\n",
              "    cursor: pointer;\n",
              "    display: none;\n",
              "    fill: var(--fill-color);\n",
              "    height: 32px;\n",
              "    padding: 0;\n",
              "    width: 32px;\n",
              "  }\n",
              "\n",
              "  .colab-df-quickchart:hover {\n",
              "    background-color: var(--hover-bg-color);\n",
              "    box-shadow: 0 1px 2px rgba(60, 64, 67, 0.3), 0 1px 3px 1px rgba(60, 64, 67, 0.15);\n",
              "    fill: var(--button-hover-fill-color);\n",
              "  }\n",
              "\n",
              "  .colab-df-quickchart-complete:disabled,\n",
              "  .colab-df-quickchart-complete:disabled:hover {\n",
              "    background-color: var(--disabled-bg-color);\n",
              "    fill: var(--disabled-fill-color);\n",
              "    box-shadow: none;\n",
              "  }\n",
              "\n",
              "  .colab-df-spinner {\n",
              "    border: 2px solid var(--fill-color);\n",
              "    border-color: transparent;\n",
              "    border-bottom-color: var(--fill-color);\n",
              "    animation:\n",
              "      spin 1s steps(1) infinite;\n",
              "  }\n",
              "\n",
              "  @keyframes spin {\n",
              "    0% {\n",
              "      border-color: transparent;\n",
              "      border-bottom-color: var(--fill-color);\n",
              "      border-left-color: var(--fill-color);\n",
              "    }\n",
              "    20% {\n",
              "      border-color: transparent;\n",
              "      border-left-color: var(--fill-color);\n",
              "      border-top-color: var(--fill-color);\n",
              "    }\n",
              "    30% {\n",
              "      border-color: transparent;\n",
              "      border-left-color: var(--fill-color);\n",
              "      border-top-color: var(--fill-color);\n",
              "      border-right-color: var(--fill-color);\n",
              "    }\n",
              "    40% {\n",
              "      border-color: transparent;\n",
              "      border-right-color: var(--fill-color);\n",
              "      border-top-color: var(--fill-color);\n",
              "    }\n",
              "    60% {\n",
              "      border-color: transparent;\n",
              "      border-right-color: var(--fill-color);\n",
              "    }\n",
              "    80% {\n",
              "      border-color: transparent;\n",
              "      border-right-color: var(--fill-color);\n",
              "      border-bottom-color: var(--fill-color);\n",
              "    }\n",
              "    90% {\n",
              "      border-color: transparent;\n",
              "      border-bottom-color: var(--fill-color);\n",
              "    }\n",
              "  }\n",
              "</style>\n",
              "\n",
              "  <script>\n",
              "    async function quickchart(key) {\n",
              "      const quickchartButtonEl =\n",
              "        document.querySelector('#' + key + ' button');\n",
              "      quickchartButtonEl.disabled = true;  // To prevent multiple clicks.\n",
              "      quickchartButtonEl.classList.add('colab-df-spinner');\n",
              "      try {\n",
              "        const charts = await google.colab.kernel.invokeFunction(\n",
              "            'suggestCharts', [key], {});\n",
              "      } catch (error) {\n",
              "        console.error('Error during call to suggestCharts:', error);\n",
              "      }\n",
              "      quickchartButtonEl.classList.remove('colab-df-spinner');\n",
              "      quickchartButtonEl.classList.add('colab-df-quickchart-complete');\n",
              "    }\n",
              "    (() => {\n",
              "      let quickchartButtonEl =\n",
              "        document.querySelector('#df-eb98d610-3f7b-415d-a84c-f5f87341b719 button');\n",
              "      quickchartButtonEl.style.display =\n",
              "        google.colab.kernel.accessAllowed ? 'block' : 'none';\n",
              "    })();\n",
              "  </script>\n",
              "</div>\n",
              "\n",
              "    </div>\n",
              "  </div>\n"
            ],
            "application/vnd.google.colaboratory.intrinsic+json": {
              "type": "dataframe",
              "variable_name": "dfMvsRtg"
            }
          },
          "metadata": {},
          "execution_count": 12
        }
      ],
      "source": [
        "dfMvsRtg.head(10)"
      ]
    },
    {
      "cell_type": "code",
      "source": [
        "# Prepare data into Surprise library format\n",
        "\n",
        "!pip3 install scikit-surprise #or !conda install -c conda-forge scikit-surprise\n",
        "from surprise import Dataset\n",
        "from surprise import Reader\n",
        "from surprise.model_selection import train_test_split\n",
        "\n",
        "# Transform the wide format data into long format\n",
        "df_long = pd.melt(dfMvsRtg, id_vars=['JokeId'], var_name='userId', value_name='rating')\n",
        "\n",
        "# Prepare data into Surprise library format\n",
        "reader = Reader(rating_scale=(-10, 10))  # Adjust rating scale if needed\n",
        "data = Dataset.load_from_df(df_long[['userId', 'JokeId', 'rating']], reader)\n",
        "trainset, testset = train_test_split(data, test_size=0.25)\n",
        "\n",
        "# Example to check the data\n",
        "print(df_long.head())"
      ],
      "metadata": {
        "id": "b5H83BT6_XTx",
        "outputId": "3dc9702f-98ea-4f9d-daf6-f6d81f7eed9b",
        "colab": {
          "base_uri": "https://localhost:8080/"
        }
      },
      "execution_count": 15,
      "outputs": [
        {
          "output_type": "stream",
          "name": "stdout",
          "text": [
            "Requirement already satisfied: scikit-surprise in /usr/local/lib/python3.10/dist-packages (1.1.4)\n",
            "Requirement already satisfied: joblib>=1.2.0 in /usr/local/lib/python3.10/dist-packages (from scikit-surprise) (1.4.2)\n",
            "Requirement already satisfied: numpy>=1.19.5 in /usr/local/lib/python3.10/dist-packages (from scikit-surprise) (1.26.4)\n",
            "Requirement already satisfied: scipy>=1.6.0 in /usr/local/lib/python3.10/dist-packages (from scikit-surprise) (1.13.1)\n",
            "   JokeId userId  rating\n",
            "0       0  User1    5.10\n",
            "1       1  User1    4.90\n",
            "2       2  User1    1.75\n",
            "3       3  User1   -4.17\n",
            "4       4  User1    5.15\n"
          ]
        }
      ]
    },
    {
      "cell_type": "markdown",
      "metadata": {
        "id": "f84nGZC6pV9N"
      },
      "source": [
        "#### Build Model"
      ]
    },
    {
      "cell_type": "code",
      "execution_count": 16,
      "metadata": {
        "id": "k1wBY82VpV9N"
      },
      "outputs": [],
      "source": [
        "reader = Reader(rating_scale=(0,5))\n",
        "X = Dataset.load_from_df(df_long[['userId', 'JokeId', 'rating']], reader)\n",
        "X_train, X_test = train_test_split(X, test_size=.25)"
      ]
    },
    {
      "cell_type": "code",
      "execution_count": 17,
      "metadata": {
        "id": "eC-m4BdtpV9N"
      },
      "outputs": [],
      "source": [
        "# Define SVD model\n",
        "\n",
        "from surprise import SVD\n",
        "\n",
        "mdlSvdMvsRtg = SVD()"
      ]
    },
    {
      "cell_type": "code",
      "execution_count": 18,
      "metadata": {
        "id": "s9O0IMoVpV9O"
      },
      "outputs": [],
      "source": [
        "# Fit SVD model\n",
        "\n",
        "mdlSvdMvsRtg.fit(X_train)\n",
        "test_pred = mdlSvdMvsRtg.test(X_test)"
      ]
    },
    {
      "cell_type": "code",
      "execution_count": 19,
      "metadata": {
        "id": "yhkp9FnapV9O",
        "outputId": "54899680-eb6b-40e2-9b09-9d7d8c71dcb0",
        "colab": {
          "base_uri": "https://localhost:8080/"
        }
      },
      "outputs": [
        {
          "output_type": "stream",
          "name": "stdout",
          "text": [
            "RMSE: nan\n"
          ]
        },
        {
          "output_type": "execute_result",
          "data": {
            "text/plain": [
              "nan"
            ]
          },
          "metadata": {},
          "execution_count": 19
        }
      ],
      "source": [
        "# Evalute SVD accuracy\n",
        "\n",
        "from surprise import accuracy\n",
        "\n",
        "accuracy.rmse(test_pred)"
      ]
    },
    {
      "cell_type": "code",
      "source": [
        "# Check for invalid ratings (outside the range) or NaN values and remove them\n",
        "df_long = df_long[(df_long['rating'] >= -10) & (df_long['rating'] <= 10)]\n",
        "df_long.dropna(subset=['rating'], inplace=True)\n",
        "\n",
        "# Prepare data into Surprise library format\n",
        "reader = Reader(rating_scale=(-10, 10))  # Adjust rating scale based on your data\n",
        "data = Dataset.load_from_df(df_long[['userId', 'JokeId', 'rating']], reader)\n",
        "trainset, testset = train_test_split(data, test_size=0.25)\n",
        "\n",
        "# Define and train the SVD model\n",
        "mdlSvdJokesRtg = SVD()\n",
        "mdlSvdJokesRtg.fit(trainset)\n",
        "\n",
        "# Generate predictions\n",
        "test_pred = mdlSvdJokesRtg.test(testset)\n",
        "\n",
        "# Evaluate RMSE\n",
        "accuracy.rmse(test_pred)\n"
      ],
      "metadata": {
        "id": "q3kZkDx4AmMk",
        "outputId": "b888ee0a-1b7d-4e2c-e728-508296d1036a",
        "colab": {
          "base_uri": "https://localhost:8080/"
        }
      },
      "execution_count": 20,
      "outputs": [
        {
          "output_type": "stream",
          "name": "stderr",
          "text": [
            "<ipython-input-20-bea1adecd0d4>:3: SettingWithCopyWarning: \n",
            "A value is trying to be set on a copy of a slice from a DataFrame\n",
            "\n",
            "See the caveats in the documentation: https://pandas.pydata.org/pandas-docs/stable/user_guide/indexing.html#returning-a-view-versus-a-copy\n",
            "  df_long.dropna(subset=['rating'], inplace=True)\n"
          ]
        },
        {
          "output_type": "stream",
          "name": "stdout",
          "text": [
            "RMSE: 4.1898\n"
          ]
        },
        {
          "output_type": "execute_result",
          "data": {
            "text/plain": [
              "4.189771978065715"
            ]
          },
          "metadata": {},
          "execution_count": 20
        }
      ]
    },
    {
      "cell_type": "code",
      "execution_count": 21,
      "metadata": {
        "collapsed": true,
        "jupyter": {
          "outputs_hidden": true,
          "source_hidden": true
        },
        "id": "nF5xXbGzpV9O",
        "outputId": "848b865c-2411-4344-dd26-264bae9afd12",
        "colab": {
          "base_uri": "https://localhost:8080/"
        }
      },
      "outputs": [
        {
          "output_type": "stream",
          "name": "stdout",
          "text": [
            "nan\n",
            "{'n_epochs': 10, 'lr_all': 0.005, 'reg_all': 0.4}\n"
          ]
        }
      ],
      "source": [
        "# Tune hyperparameters\n",
        "\n",
        "from surprise.model_selection import GridSearchCV\n",
        "\n",
        "param_grid = {'n_epochs': [10, 15], 'lr_all': [0.005],\n",
        "              'reg_all': [0.4]}\n",
        "\n",
        "\n",
        "gs = GridSearchCV(SVD, param_grid, measures=['rmse', 'mae'], cv=2, n_jobs=-1)\n",
        "\n",
        "gs.fit(X)\n",
        "\n",
        "# best RMSE score\n",
        "print(gs.best_score['rmse'])\n",
        "\n",
        "# combination of parameters that gave the best RMSE score\n",
        "print(gs.best_params['rmse'])"
      ]
    },
    {
      "cell_type": "code",
      "execution_count": 22,
      "metadata": {
        "id": "DN8rnX4bpV9O",
        "outputId": "52819415-ea86-4800-8967-6bc2f0482110",
        "colab": {
          "base_uri": "https://localhost:8080/"
        }
      },
      "outputs": [
        {
          "output_type": "stream",
          "name": "stdout",
          "text": [
            "Evaluating RMSE, MAE of algorithm SVD on 5 split(s).\n",
            "\n",
            "                  Fold 1  Fold 2  Fold 3  Fold 4  Fold 5  Mean    Std     \n",
            "RMSE (testset)    nan     nan     nan     nan     nan     nan     nan     \n",
            "MAE (testset)     nan     nan     nan     nan     nan     nan     nan     \n",
            "Fit time          61.89   61.28   62.80   61.13   62.69   61.96   0.69    \n",
            "Test time         11.29   11.15   11.47   11.06   11.20   11.23   0.14    \n"
          ]
        },
        {
          "output_type": "execute_result",
          "data": {
            "text/plain": [
              "{'test_rmse': array([nan, nan, nan, nan, nan]),\n",
              " 'test_mae': array([nan, nan, nan, nan, nan]),\n",
              " 'fit_time': (61.88823366165161,\n",
              "  61.27813196182251,\n",
              "  62.803354263305664,\n",
              "  61.12699341773987,\n",
              "  62.6924614906311),\n",
              " 'test_time': (11.292269945144653,\n",
              "  11.147904872894287,\n",
              "  11.466808080673218,\n",
              "  11.058786153793335,\n",
              "  11.198127269744873)}"
            ]
          },
          "metadata": {},
          "execution_count": 22
        }
      ],
      "source": [
        "# Cross-validate\n",
        "\n",
        "from surprise.model_selection import cross_validate\n",
        "\n",
        "cross_validate(mdlSvdMvsRtg, X, measures=['RMSE', 'MAE'], cv=5, verbose=True)"
      ]
    },
    {
      "cell_type": "markdown",
      "metadata": {
        "id": "XwaaS-rPpV9P"
      },
      "source": [
        "Let us now use the trained model to arrive at predictions."
      ]
    },
    {
      "cell_type": "markdown",
      "metadata": {
        "id": "WlcksueepV9P"
      },
      "source": [
        "#### Predict"
      ]
    },
    {
      "cell_type": "markdown",
      "metadata": {
        "id": "Ar2CXNpMpV9P"
      },
      "source": [
        "Let's first see which movies user # 1 has already viewed."
      ]
    },
    {
      "cell_type": "code",
      "execution_count": 25,
      "metadata": {
        "id": "xj13o-2ApV9P",
        "outputId": "2f70a206-ee3a-4fba-d85b-5248076eda82",
        "colab": {
          "base_uri": "https://localhost:8080/"
        }
      },
      "outputs": [
        {
          "output_type": "stream",
          "name": "stdout",
          "text": [
            "    JokeId userId  rating\n",
            "0        0  User1    5.10\n",
            "1        1  User1    4.90\n",
            "2        2  User1    1.75\n",
            "3        3  User1   -4.17\n",
            "4        4  User1    5.15\n",
            "..     ...    ...     ...\n",
            "95      95  User1    6.31\n",
            "96      96  User1   -4.95\n",
            "97      97  User1   -0.19\n",
            "98      98  User1    3.25\n",
            "99      99  User1    4.37\n",
            "\n",
            "[100 rows x 3 columns]\n"
          ]
        }
      ],
      "source": [
        "user_jokes = df_long[df_long['userId'] == 'User1']\n",
        "\n",
        "print(user_jokes)\n"
      ]
    },
    {
      "cell_type": "markdown",
      "metadata": {
        "id": "RTSUYlkipV9P"
      },
      "source": [
        "Now, let's find a joke they didnt rated already."
      ]
    },
    {
      "cell_type": "code",
      "execution_count": 27,
      "metadata": {
        "id": "sgsMVkqlpV9Q",
        "outputId": "0390c316-cadb-4ac5-848d-5903a184750a",
        "colab": {
          "base_uri": "https://localhost:8080/"
        }
      },
      "outputs": [
        {
          "output_type": "stream",
          "name": "stdout",
          "text": [
            "User User1 has rated all jokes.\n"
          ]
        }
      ],
      "source": [
        "# Find all jokes\n",
        "all_jokes = df_long['JokeId'].unique()\n",
        "\n",
        "# Find jokes rated by user 1\n",
        "user_id = 'User1'\n",
        "rated_jokes = df_long[df_long['userId'] == user_id]['JokeId'].unique()\n",
        "\n",
        "# Find jokes not rated by user 1\n",
        "unrated_jokes = list(set(all_jokes) - set(rated_jokes))\n",
        "\n",
        "# Select the first unrated joke for prediction\n",
        "if unrated_jokes:\n",
        "    joke_id_to_predict = unrated_jokes[0]\n",
        "\n",
        "    # Predict the rating for the first unrated joke\n",
        "    prediction = mdlSvdMvsRtg.predict(user_id, joke_id_to_predict)\n",
        "    print(f\"Predicted rating for joke ID {joke_id_to_predict} by user {user_id}: {prediction.est}\")\n",
        "else:\n",
        "    print(f\"User {user_id} has rated all jokes.\")\n"
      ]
    },
    {
      "cell_type": "code",
      "source": [
        "# Find jokes rated by user 1\n",
        "user_id = 'User1'\n",
        "rated_jokes = df_long[df_long['userId'] == user_id]['JokeId'].unique()\n",
        "\n",
        "# Select the first rated joke for prediction\n",
        "if rated_jokes.size > 0:\n",
        "    joke_id_to_predict = rated_jokes[0]\n",
        "\n",
        "    # Predict the rating for the first rated joke\n",
        "    prediction = mdlSvdMvsRtg.predict(user_id, joke_id_to_predict)\n",
        "    print(f\"Predicted rating for joke ID {joke_id_to_predict} by user {user_id}: {prediction.est}\")\n",
        "else:\n",
        "    print(f\"User {user_id} has not rated any jokes.\")\n"
      ],
      "metadata": {
        "id": "xM2y1l6cMq9K",
        "outputId": "af6c830d-7f19-4999-ae81-e695d890cb5d",
        "colab": {
          "base_uri": "https://localhost:8080/"
        }
      },
      "execution_count": 28,
      "outputs": [
        {
          "output_type": "stream",
          "name": "stdout",
          "text": [
            "Predicted rating for joke ID 0 by user User1: 5\n"
          ]
        }
      ]
    },
    {
      "cell_type": "code",
      "source": [
        "# Fetch the actual rating from the dataset\n",
        "actual_rating = df_long[(df_long['userId'] == user_id) & (df_long['JokeId'] == joke_id_to_predict)]['rating'].values[0]\n",
        "\n",
        "# Print both predicted and actual ratings\n",
        "print(f\"Predicted rating for joke ID {joke_id_to_predict} by user {user_id}: {prediction.est}\")\n",
        "print(f\"Actual rating for joke ID {joke_id_to_predict} by user {user_id}: {actual_rating}\")\n"
      ],
      "metadata": {
        "id": "E3QJjg3wMx_P",
        "outputId": "778b9a3e-a2a2-47ca-9947-6cd6444bd9b2",
        "colab": {
          "base_uri": "https://localhost:8080/"
        }
      },
      "execution_count": 29,
      "outputs": [
        {
          "output_type": "stream",
          "name": "stdout",
          "text": [
            "Predicted rating for joke ID 0 by user User1: 5\n",
            "Actual rating for joke ID 0 by user User1: 5.1\n"
          ]
        }
      ]
    },
    {
      "cell_type": "markdown",
      "source": [
        "I think this is good."
      ],
      "metadata": {
        "id": "gjPTD5_UMzrL"
      }
    },
    {
      "cell_type": "markdown",
      "metadata": {
        "id": "YhC5XVE_pV9Q"
      },
      "source": [
        "<< WHITEBOARD"
      ]
    },
    {
      "cell_type": "markdown",
      "metadata": {
        "id": "Jd7fiQw5pV9Q"
      },
      "source": [
        "![utexas_ds_orie_divider_gray.png](data:image/png;base64,iVBORw0KGgoAAAANSUhEUgAAB0YAAAAKCAYAAAAgjz0QAAAAAXNSR0IArs4c6QAAAHhlWElmTU0AKgAAAAgABAEaAAUAAAABAAAAPgEbAAUAAAABAAAARgEoAAMAAAABAAIAAIdpAAQAAAABAAAATgAAAAAAAACWAAAAAQAAAJYAAAABAAOgAQADAAAAAQABAACgAgAEAAAAAQAAB0agAwAEAAAAAQAAAAoAAAAAoOuQ6gAAAAlwSFlzAAAXEgAAFxIBZ5/SUgAAAbBJREFUeAHt2bEVAiEURcHFsxyKMLU6jcyogQKsxzo01h6IEAqwgb9DQnwHsrdtDgECBAgQIECAAAECBAgQIECAAAECBAgQIECAAAECBIILpNVXa73knM/BW+URIECAAAECBAgQIECAAAECBAgQIECAAAECBAgQIHAwgd77u7X23Vd3KeU+r+vBDOQSIECAAAECBAgQIECAAAECBAgQIECAAAECBAgQIBBcYG6ht5n4OAXvlEeAAAECBAgQIECAAAECBAgQIECAAAECBAgQIECAAIHNMOoTECBAgAABAgQIECBAgAABAgQIECBAgAABAgQIECAQXsAwGv6JBRIgQIAAAQIECBAgQIAAAQIECBAgQIAAAQIECBAgYBj1BwgQIECAAAECBAgQIECAAAECBAgQIECAAAECBAgQCC9gGA3/xAIJECBAgAABAgQIECBAgAABAgQIECBAgAABAgQIENgXwRjjlVJ64iBAgAABAgQIECBAgAABAgQIECBAgAABAgQIECBAgEAkgbmDfiL1aCFAgAABAgQIECBAgAABAgQIECBAgAABAgQIECBAgMBfgR+MbQ+c2cysKQAAAABJRU5ErkJggg==)"
      ]
    }
  ],
  "metadata": {
    "kernelspec": {
      "display_name": "Python 3",
      "language": "python",
      "name": "python3"
    },
    "language_info": {
      "codemirror_mode": {
        "name": "ipython",
        "version": 3
      },
      "file_extension": ".py",
      "mimetype": "text/x-python",
      "name": "python",
      "nbconvert_exporter": "python",
      "pygments_lexer": "ipython3",
      "version": "3.7.1"
    },
    "colab": {
      "name": "n8.ipynb",
      "provenance": [],
      "include_colab_link": true
    }
  },
  "nbformat": 4,
  "nbformat_minor": 0
}