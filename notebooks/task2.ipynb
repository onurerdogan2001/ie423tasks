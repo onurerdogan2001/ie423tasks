{
  "cells": [
    {
      "cell_type": "markdown",
      "metadata": {
        "id": "view-in-github",
        "colab_type": "text"
      },
      "source": [
        "<a href=\"https://colab.research.google.com/github/onurerdogan2001/ie423tasks/blob/main/notebooks/task2.ipynb\" target=\"_parent\"><img src=\"https://colab.research.google.com/assets/colab-badge.svg\" alt=\"Open In Colab\"/></a>"
      ]
    },
    {
      "cell_type": "markdown",
      "source": [
        "![utexas_ds_orie_divider.png](data:image/png;base64,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)"
      ],
      "metadata": {
        "id": "QegpN7sWB6Rz"
      }
    },
    {
      "cell_type": "markdown",
      "metadata": {
        "id": "Doww1HcOyzj9"
      },
      "source": [
        "## <font color='#475468'> Football Players Value:</font>\n",
        "### <font color='#475468'> Can you predict player value based on information?</font>"
      ]
    },
    {
      "cell_type": "markdown",
      "source": [
        "![utexas_ds_orie_divider.png](data:image/png;base64,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)"
      ],
      "metadata": {
        "id": "EnIWCiztCaRj"
      }
    },
    {
      "cell_type": "markdown",
      "metadata": {
        "id": "LLhyCHzC6s7v"
      },
      "source": [
        "## Initialize"
      ]
    },
    {
      "cell_type": "code",
      "execution_count": 1,
      "metadata": {
        "id": "RfUurqwu6s7v"
      },
      "outputs": [],
      "source": [
        "import pandas as pd\n",
        "import numpy as np"
      ]
    },
    {
      "cell_type": "markdown",
      "metadata": {
        "id": "k71UeYhg6s7x"
      },
      "source": [
        "## Load Data"
      ]
    },
    {
      "cell_type": "code",
      "source": [
        "from google.colab import drive\n",
        "drive.mount('/content/drive')"
      ],
      "metadata": {
        "colab": {
          "base_uri": "https://localhost:8080/"
        },
        "id": "eItHcjT81JxW",
        "outputId": "0a02ad97-0ef4-4be5-8b73-0b8debb0d02e"
      },
      "execution_count": 2,
      "outputs": [
        {
          "output_type": "stream",
          "name": "stdout",
          "text": [
            "Mounted at /content/drive\n"
          ]
        }
      ]
    },
    {
      "cell_type": "code",
      "execution_count": 3,
      "metadata": {
        "id": "pv0wDCJ46s7x"
      },
      "outputs": [],
      "source": [
        "dfMlb = pd.read_csv('/content/drive/MyDrive/yazokulu/football.csv')"
      ]
    },
    {
      "cell_type": "code",
      "execution_count": 4,
      "metadata": {
        "colab": {
          "base_uri": "https://localhost:8080/"
        },
        "id": "k0lHZjTs6s7y",
        "outputId": "cab4012a-467e-4ce5-eb5a-e4fa64c7c95b"
      },
      "outputs": [
        {
          "output_type": "execute_result",
          "data": {
            "text/plain": [
              "Index(['player', 'team', 'name', 'position', 'height', 'age', 'appearance',\n",
              "       'goals', 'assists', 'yellow cards', 'second yellow cards', 'red cards',\n",
              "       'goals conceded', 'clean sheets', 'minutes played', 'days_injured',\n",
              "       'games_injured', 'award', 'current_value', 'highest_value',\n",
              "       'position_encoded', 'winger'],\n",
              "      dtype='object')"
            ]
          },
          "metadata": {},
          "execution_count": 4
        }
      ],
      "source": [
        "dfMlb.columns"
      ]
    },
    {
      "cell_type": "markdown",
      "metadata": {
        "id": "KPeEfOOJ6s70"
      },
      "source": [
        "## Select Data"
      ]
    },
    {
      "cell_type": "markdown",
      "metadata": {
        "id": "fCSJXsMP6s70"
      },
      "source": [
        "### Select a prediction \"Target\"\n",
        "The column we want to predict is called the prediction **target**. By convention, the prediction target is called y. In our case, we want to predict Price."
      ]
    },
    {
      "cell_type": "code",
      "execution_count": 5,
      "metadata": {
        "id": "rb_UIHDO6s71"
      },
      "outputs": [],
      "source": [
        "y = dfMlb.loc[:,['current_value']]"
      ]
    },
    {
      "cell_type": "markdown",
      "metadata": {
        "id": "5TJb0s456s71"
      },
      "source": [
        "### Choose \"Features\"\n",
        "The columns that are input into our model (and later used to make predictions) are called **features**. In our case, those would be the columns used to determine the home price."
      ]
    },
    {
      "cell_type": "code",
      "execution_count": 6,
      "metadata": {
        "id": "VefHyw7_6s72"
      },
      "outputs": [],
      "source": [
        "X = dfMlb.loc[:,['goals', 'assists', 'clean sheets', 'award', 'height', 'age']]"
      ]
    },
    {
      "cell_type": "code",
      "execution_count": 7,
      "metadata": {
        "colab": {
          "base_uri": "https://localhost:8080/",
          "height": 206
        },
        "id": "mKqLP5ZE6s72",
        "outputId": "c11c4e39-7415-417e-cb5d-0f679a4f01aa"
      },
      "outputs": [
        {
          "output_type": "execute_result",
          "data": {
            "text/plain": [
              "      goals   assists  clean sheets  award  height   age\n",
              "0  0.000000  0.000000      0.335463     13   189.0  32.0\n",
              "1  0.000000  0.000000      0.207055      1   196.0  30.0\n",
              "2  0.000000  0.000000      0.924658      4   188.0  37.0\n",
              "3  0.028090  0.056180      0.000000      9   175.0  25.0\n",
              "4  0.017889  0.017889      0.000000     21   191.0  30.0"
            ],
            "text/html": [
              "\n",
              "  <div id=\"df-55e62e0e-1a86-48e3-a430-6e77bafc8693\" class=\"colab-df-container\">\n",
              "    <div>\n",
              "<style scoped>\n",
              "    .dataframe tbody tr th:only-of-type {\n",
              "        vertical-align: middle;\n",
              "    }\n",
              "\n",
              "    .dataframe tbody tr th {\n",
              "        vertical-align: top;\n",
              "    }\n",
              "\n",
              "    .dataframe thead th {\n",
              "        text-align: right;\n",
              "    }\n",
              "</style>\n",
              "<table border=\"1\" class=\"dataframe\">\n",
              "  <thead>\n",
              "    <tr style=\"text-align: right;\">\n",
              "      <th></th>\n",
              "      <th>goals</th>\n",
              "      <th>assists</th>\n",
              "      <th>clean sheets</th>\n",
              "      <th>award</th>\n",
              "      <th>height</th>\n",
              "      <th>age</th>\n",
              "    </tr>\n",
              "  </thead>\n",
              "  <tbody>\n",
              "    <tr>\n",
              "      <th>0</th>\n",
              "      <td>0.000000</td>\n",
              "      <td>0.000000</td>\n",
              "      <td>0.335463</td>\n",
              "      <td>13</td>\n",
              "      <td>189.0</td>\n",
              "      <td>32.0</td>\n",
              "    </tr>\n",
              "    <tr>\n",
              "      <th>1</th>\n",
              "      <td>0.000000</td>\n",
              "      <td>0.000000</td>\n",
              "      <td>0.207055</td>\n",
              "      <td>1</td>\n",
              "      <td>196.0</td>\n",
              "      <td>30.0</td>\n",
              "    </tr>\n",
              "    <tr>\n",
              "      <th>2</th>\n",
              "      <td>0.000000</td>\n",
              "      <td>0.000000</td>\n",
              "      <td>0.924658</td>\n",
              "      <td>4</td>\n",
              "      <td>188.0</td>\n",
              "      <td>37.0</td>\n",
              "    </tr>\n",
              "    <tr>\n",
              "      <th>3</th>\n",
              "      <td>0.028090</td>\n",
              "      <td>0.056180</td>\n",
              "      <td>0.000000</td>\n",
              "      <td>9</td>\n",
              "      <td>175.0</td>\n",
              "      <td>25.0</td>\n",
              "    </tr>\n",
              "    <tr>\n",
              "      <th>4</th>\n",
              "      <td>0.017889</td>\n",
              "      <td>0.017889</td>\n",
              "      <td>0.000000</td>\n",
              "      <td>21</td>\n",
              "      <td>191.0</td>\n",
              "      <td>30.0</td>\n",
              "    </tr>\n",
              "  </tbody>\n",
              "</table>\n",
              "</div>\n",
              "    <div class=\"colab-df-buttons\">\n",
              "\n",
              "  <div class=\"colab-df-container\">\n",
              "    <button class=\"colab-df-convert\" onclick=\"convertToInteractive('df-55e62e0e-1a86-48e3-a430-6e77bafc8693')\"\n",
              "            title=\"Convert this dataframe to an interactive table.\"\n",
              "            style=\"display:none;\">\n",
              "\n",
              "  <svg xmlns=\"http://www.w3.org/2000/svg\" height=\"24px\" viewBox=\"0 -960 960 960\">\n",
              "    <path d=\"M120-120v-720h720v720H120Zm60-500h600v-160H180v160Zm220 220h160v-160H400v160Zm0 220h160v-160H400v160ZM180-400h160v-160H180v160Zm440 0h160v-160H620v160ZM180-180h160v-160H180v160Zm440 0h160v-160H620v160Z\"/>\n",
              "  </svg>\n",
              "    </button>\n",
              "\n",
              "  <style>\n",
              "    .colab-df-container {\n",
              "      display:flex;\n",
              "      gap: 12px;\n",
              "    }\n",
              "\n",
              "    .colab-df-convert {\n",
              "      background-color: #E8F0FE;\n",
              "      border: none;\n",
              "      border-radius: 50%;\n",
              "      cursor: pointer;\n",
              "      display: none;\n",
              "      fill: #1967D2;\n",
              "      height: 32px;\n",
              "      padding: 0 0 0 0;\n",
              "      width: 32px;\n",
              "    }\n",
              "\n",
              "    .colab-df-convert:hover {\n",
              "      background-color: #E2EBFA;\n",
              "      box-shadow: 0px 1px 2px rgba(60, 64, 67, 0.3), 0px 1px 3px 1px rgba(60, 64, 67, 0.15);\n",
              "      fill: #174EA6;\n",
              "    }\n",
              "\n",
              "    .colab-df-buttons div {\n",
              "      margin-bottom: 4px;\n",
              "    }\n",
              "\n",
              "    [theme=dark] .colab-df-convert {\n",
              "      background-color: #3B4455;\n",
              "      fill: #D2E3FC;\n",
              "    }\n",
              "\n",
              "    [theme=dark] .colab-df-convert:hover {\n",
              "      background-color: #434B5C;\n",
              "      box-shadow: 0px 1px 3px 1px rgba(0, 0, 0, 0.15);\n",
              "      filter: drop-shadow(0px 1px 2px rgba(0, 0, 0, 0.3));\n",
              "      fill: #FFFFFF;\n",
              "    }\n",
              "  </style>\n",
              "\n",
              "    <script>\n",
              "      const buttonEl =\n",
              "        document.querySelector('#df-55e62e0e-1a86-48e3-a430-6e77bafc8693 button.colab-df-convert');\n",
              "      buttonEl.style.display =\n",
              "        google.colab.kernel.accessAllowed ? 'block' : 'none';\n",
              "\n",
              "      async function convertToInteractive(key) {\n",
              "        const element = document.querySelector('#df-55e62e0e-1a86-48e3-a430-6e77bafc8693');\n",
              "        const dataTable =\n",
              "          await google.colab.kernel.invokeFunction('convertToInteractive',\n",
              "                                                    [key], {});\n",
              "        if (!dataTable) return;\n",
              "\n",
              "        const docLinkHtml = 'Like what you see? Visit the ' +\n",
              "          '<a target=\"_blank\" href=https://colab.research.google.com/notebooks/data_table.ipynb>data table notebook</a>'\n",
              "          + ' to learn more about interactive tables.';\n",
              "        element.innerHTML = '';\n",
              "        dataTable['output_type'] = 'display_data';\n",
              "        await google.colab.output.renderOutput(dataTable, element);\n",
              "        const docLink = document.createElement('div');\n",
              "        docLink.innerHTML = docLinkHtml;\n",
              "        element.appendChild(docLink);\n",
              "      }\n",
              "    </script>\n",
              "  </div>\n",
              "\n",
              "\n",
              "<div id=\"df-45b0c982-179c-44fe-a980-f68758f52d5e\">\n",
              "  <button class=\"colab-df-quickchart\" onclick=\"quickchart('df-45b0c982-179c-44fe-a980-f68758f52d5e')\"\n",
              "            title=\"Suggest charts\"\n",
              "            style=\"display:none;\">\n",
              "\n",
              "<svg xmlns=\"http://www.w3.org/2000/svg\" height=\"24px\"viewBox=\"0 0 24 24\"\n",
              "     width=\"24px\">\n",
              "    <g>\n",
              "        <path d=\"M19 3H5c-1.1 0-2 .9-2 2v14c0 1.1.9 2 2 2h14c1.1 0 2-.9 2-2V5c0-1.1-.9-2-2-2zM9 17H7v-7h2v7zm4 0h-2V7h2v10zm4 0h-2v-4h2v4z\"/>\n",
              "    </g>\n",
              "</svg>\n",
              "  </button>\n",
              "\n",
              "<style>\n",
              "  .colab-df-quickchart {\n",
              "      --bg-color: #E8F0FE;\n",
              "      --fill-color: #1967D2;\n",
              "      --hover-bg-color: #E2EBFA;\n",
              "      --hover-fill-color: #174EA6;\n",
              "      --disabled-fill-color: #AAA;\n",
              "      --disabled-bg-color: #DDD;\n",
              "  }\n",
              "\n",
              "  [theme=dark] .colab-df-quickchart {\n",
              "      --bg-color: #3B4455;\n",
              "      --fill-color: #D2E3FC;\n",
              "      --hover-bg-color: #434B5C;\n",
              "      --hover-fill-color: #FFFFFF;\n",
              "      --disabled-bg-color: #3B4455;\n",
              "      --disabled-fill-color: #666;\n",
              "  }\n",
              "\n",
              "  .colab-df-quickchart {\n",
              "    background-color: var(--bg-color);\n",
              "    border: none;\n",
              "    border-radius: 50%;\n",
              "    cursor: pointer;\n",
              "    display: none;\n",
              "    fill: var(--fill-color);\n",
              "    height: 32px;\n",
              "    padding: 0;\n",
              "    width: 32px;\n",
              "  }\n",
              "\n",
              "  .colab-df-quickchart:hover {\n",
              "    background-color: var(--hover-bg-color);\n",
              "    box-shadow: 0 1px 2px rgba(60, 64, 67, 0.3), 0 1px 3px 1px rgba(60, 64, 67, 0.15);\n",
              "    fill: var(--button-hover-fill-color);\n",
              "  }\n",
              "\n",
              "  .colab-df-quickchart-complete:disabled,\n",
              "  .colab-df-quickchart-complete:disabled:hover {\n",
              "    background-color: var(--disabled-bg-color);\n",
              "    fill: var(--disabled-fill-color);\n",
              "    box-shadow: none;\n",
              "  }\n",
              "\n",
              "  .colab-df-spinner {\n",
              "    border: 2px solid var(--fill-color);\n",
              "    border-color: transparent;\n",
              "    border-bottom-color: var(--fill-color);\n",
              "    animation:\n",
              "      spin 1s steps(1) infinite;\n",
              "  }\n",
              "\n",
              "  @keyframes spin {\n",
              "    0% {\n",
              "      border-color: transparent;\n",
              "      border-bottom-color: var(--fill-color);\n",
              "      border-left-color: var(--fill-color);\n",
              "    }\n",
              "    20% {\n",
              "      border-color: transparent;\n",
              "      border-left-color: var(--fill-color);\n",
              "      border-top-color: var(--fill-color);\n",
              "    }\n",
              "    30% {\n",
              "      border-color: transparent;\n",
              "      border-left-color: var(--fill-color);\n",
              "      border-top-color: var(--fill-color);\n",
              "      border-right-color: var(--fill-color);\n",
              "    }\n",
              "    40% {\n",
              "      border-color: transparent;\n",
              "      border-right-color: var(--fill-color);\n",
              "      border-top-color: var(--fill-color);\n",
              "    }\n",
              "    60% {\n",
              "      border-color: transparent;\n",
              "      border-right-color: var(--fill-color);\n",
              "    }\n",
              "    80% {\n",
              "      border-color: transparent;\n",
              "      border-right-color: var(--fill-color);\n",
              "      border-bottom-color: var(--fill-color);\n",
              "    }\n",
              "    90% {\n",
              "      border-color: transparent;\n",
              "      border-bottom-color: var(--fill-color);\n",
              "    }\n",
              "  }\n",
              "</style>\n",
              "\n",
              "  <script>\n",
              "    async function quickchart(key) {\n",
              "      const quickchartButtonEl =\n",
              "        document.querySelector('#' + key + ' button');\n",
              "      quickchartButtonEl.disabled = true;  // To prevent multiple clicks.\n",
              "      quickchartButtonEl.classList.add('colab-df-spinner');\n",
              "      try {\n",
              "        const charts = await google.colab.kernel.invokeFunction(\n",
              "            'suggestCharts', [key], {});\n",
              "      } catch (error) {\n",
              "        console.error('Error during call to suggestCharts:', error);\n",
              "      }\n",
              "      quickchartButtonEl.classList.remove('colab-df-spinner');\n",
              "      quickchartButtonEl.classList.add('colab-df-quickchart-complete');\n",
              "    }\n",
              "    (() => {\n",
              "      let quickchartButtonEl =\n",
              "        document.querySelector('#df-45b0c982-179c-44fe-a980-f68758f52d5e button');\n",
              "      quickchartButtonEl.style.display =\n",
              "        google.colab.kernel.accessAllowed ? 'block' : 'none';\n",
              "    })();\n",
              "  </script>\n",
              "</div>\n",
              "\n",
              "    </div>\n",
              "  </div>\n"
            ],
            "application/vnd.google.colaboratory.intrinsic+json": {
              "type": "dataframe",
              "variable_name": "X",
              "summary": "{\n  \"name\": \"X\",\n  \"rows\": 10754,\n  \"fields\": [\n    {\n      \"column\": \"goals\",\n      \"properties\": {\n        \"dtype\": \"number\",\n        \"std\": 0.2355851495496577,\n        \"min\": 0.0,\n        \"max\": 11.25,\n        \"num_unique_values\": 5329,\n        \"samples\": [\n          0.057933698,\n          0.058737151,\n          0.745394831\n        ],\n        \"semantic_type\": \"\",\n        \"description\": \"\"\n      }\n    },\n    {\n      \"column\": \"assists\",\n      \"properties\": {\n        \"dtype\": \"number\",\n        \"std\": 0.14335133241006232,\n        \"min\": 0.0,\n        \"max\": 4.0,\n        \"num_unique_values\": 5065,\n        \"samples\": [\n          0.084014002,\n          0.077087794,\n          0.192610948\n        ],\n        \"semantic_type\": \"\",\n        \"description\": \"\"\n      }\n    },\n    {\n      \"column\": \"clean sheets\",\n      \"properties\": {\n        \"dtype\": \"number\",\n        \"std\": 0.9244373006929671,\n        \"min\": 0.0,\n        \"max\": 90.0,\n        \"num_unique_values\": 635,\n        \"samples\": [\n          0.550458716,\n          0.133333333,\n          0.194244604\n        ],\n        \"semantic_type\": \"\",\n        \"description\": \"\"\n      }\n    },\n    {\n      \"column\": \"award\",\n      \"properties\": {\n        \"dtype\": \"number\",\n        \"std\": 3,\n        \"min\": 0,\n        \"max\": 92,\n        \"num_unique_values\": 46,\n        \"samples\": [\n          31,\n          17,\n          33\n        ],\n        \"semantic_type\": \"\",\n        \"description\": \"\"\n      }\n    },\n    {\n      \"column\": \"height\",\n      \"properties\": {\n        \"dtype\": \"number\",\n        \"std\": 6.969818188670933,\n        \"min\": 156.0,\n        \"max\": 206.0,\n        \"num_unique_values\": 47,\n        \"samples\": [\n          198.0,\n          164.0,\n          167.0\n        ],\n        \"semantic_type\": \"\",\n        \"description\": \"\"\n      }\n    },\n    {\n      \"column\": \"age\",\n      \"properties\": {\n        \"dtype\": \"number\",\n        \"std\": 4.777628742246696,\n        \"min\": 15.0,\n        \"max\": 43.0,\n        \"num_unique_values\": 30,\n        \"samples\": [\n          15.0,\n          38.0,\n          17.0\n        ],\n        \"semantic_type\": \"\",\n        \"description\": \"\"\n      }\n    }\n  ]\n}"
            }
          },
          "metadata": {},
          "execution_count": 7
        }
      ],
      "source": [
        "# View top few rows\n",
        "X.head()"
      ]
    },
    {
      "cell_type": "code",
      "execution_count": 8,
      "metadata": {
        "colab": {
          "base_uri": "https://localhost:8080/",
          "height": 300
        },
        "id": "x9Gi1BIU6s72",
        "outputId": "c63526a7-2db9-4725-96df-ec752c72ddfc"
      },
      "outputs": [
        {
          "output_type": "execute_result",
          "data": {
            "text/plain": [
              "              goals       assists  clean sheets         award        height  \\\n",
              "count  10754.000000  10754.000000  10754.000000  10754.000000  10754.000000   \n",
              "mean       0.125554      0.086978      0.044881      1.960759    181.240353   \n",
              "std        0.235585      0.143351      0.924437      3.743936      6.969818   \n",
              "min        0.000000      0.000000      0.000000      0.000000    156.000000   \n",
              "25%        0.000000      0.000000      0.000000      0.000000    176.000000   \n",
              "50%        0.045969      0.040773      0.000000      1.000000    181.240353   \n",
              "75%        0.172263      0.133136      0.000000      2.000000    186.000000   \n",
              "max       11.250000      4.000000     90.000000     92.000000    206.000000   \n",
              "\n",
              "                age  \n",
              "count  10754.000000  \n",
              "mean      26.041903  \n",
              "std        4.777629  \n",
              "min       15.000000  \n",
              "25%       22.000000  \n",
              "50%       26.000000  \n",
              "75%       29.000000  \n",
              "max       43.000000  "
            ],
            "text/html": [
              "\n",
              "  <div id=\"df-efab3365-4fca-4d72-9aed-ea8ae286a616\" class=\"colab-df-container\">\n",
              "    <div>\n",
              "<style scoped>\n",
              "    .dataframe tbody tr th:only-of-type {\n",
              "        vertical-align: middle;\n",
              "    }\n",
              "\n",
              "    .dataframe tbody tr th {\n",
              "        vertical-align: top;\n",
              "    }\n",
              "\n",
              "    .dataframe thead th {\n",
              "        text-align: right;\n",
              "    }\n",
              "</style>\n",
              "<table border=\"1\" class=\"dataframe\">\n",
              "  <thead>\n",
              "    <tr style=\"text-align: right;\">\n",
              "      <th></th>\n",
              "      <th>goals</th>\n",
              "      <th>assists</th>\n",
              "      <th>clean sheets</th>\n",
              "      <th>award</th>\n",
              "      <th>height</th>\n",
              "      <th>age</th>\n",
              "    </tr>\n",
              "  </thead>\n",
              "  <tbody>\n",
              "    <tr>\n",
              "      <th>count</th>\n",
              "      <td>10754.000000</td>\n",
              "      <td>10754.000000</td>\n",
              "      <td>10754.000000</td>\n",
              "      <td>10754.000000</td>\n",
              "      <td>10754.000000</td>\n",
              "      <td>10754.000000</td>\n",
              "    </tr>\n",
              "    <tr>\n",
              "      <th>mean</th>\n",
              "      <td>0.125554</td>\n",
              "      <td>0.086978</td>\n",
              "      <td>0.044881</td>\n",
              "      <td>1.960759</td>\n",
              "      <td>181.240353</td>\n",
              "      <td>26.041903</td>\n",
              "    </tr>\n",
              "    <tr>\n",
              "      <th>std</th>\n",
              "      <td>0.235585</td>\n",
              "      <td>0.143351</td>\n",
              "      <td>0.924437</td>\n",
              "      <td>3.743936</td>\n",
              "      <td>6.969818</td>\n",
              "      <td>4.777629</td>\n",
              "    </tr>\n",
              "    <tr>\n",
              "      <th>min</th>\n",
              "      <td>0.000000</td>\n",
              "      <td>0.000000</td>\n",
              "      <td>0.000000</td>\n",
              "      <td>0.000000</td>\n",
              "      <td>156.000000</td>\n",
              "      <td>15.000000</td>\n",
              "    </tr>\n",
              "    <tr>\n",
              "      <th>25%</th>\n",
              "      <td>0.000000</td>\n",
              "      <td>0.000000</td>\n",
              "      <td>0.000000</td>\n",
              "      <td>0.000000</td>\n",
              "      <td>176.000000</td>\n",
              "      <td>22.000000</td>\n",
              "    </tr>\n",
              "    <tr>\n",
              "      <th>50%</th>\n",
              "      <td>0.045969</td>\n",
              "      <td>0.040773</td>\n",
              "      <td>0.000000</td>\n",
              "      <td>1.000000</td>\n",
              "      <td>181.240353</td>\n",
              "      <td>26.000000</td>\n",
              "    </tr>\n",
              "    <tr>\n",
              "      <th>75%</th>\n",
              "      <td>0.172263</td>\n",
              "      <td>0.133136</td>\n",
              "      <td>0.000000</td>\n",
              "      <td>2.000000</td>\n",
              "      <td>186.000000</td>\n",
              "      <td>29.000000</td>\n",
              "    </tr>\n",
              "    <tr>\n",
              "      <th>max</th>\n",
              "      <td>11.250000</td>\n",
              "      <td>4.000000</td>\n",
              "      <td>90.000000</td>\n",
              "      <td>92.000000</td>\n",
              "      <td>206.000000</td>\n",
              "      <td>43.000000</td>\n",
              "    </tr>\n",
              "  </tbody>\n",
              "</table>\n",
              "</div>\n",
              "    <div class=\"colab-df-buttons\">\n",
              "\n",
              "  <div class=\"colab-df-container\">\n",
              "    <button class=\"colab-df-convert\" onclick=\"convertToInteractive('df-efab3365-4fca-4d72-9aed-ea8ae286a616')\"\n",
              "            title=\"Convert this dataframe to an interactive table.\"\n",
              "            style=\"display:none;\">\n",
              "\n",
              "  <svg xmlns=\"http://www.w3.org/2000/svg\" height=\"24px\" viewBox=\"0 -960 960 960\">\n",
              "    <path d=\"M120-120v-720h720v720H120Zm60-500h600v-160H180v160Zm220 220h160v-160H400v160Zm0 220h160v-160H400v160ZM180-400h160v-160H180v160Zm440 0h160v-160H620v160ZM180-180h160v-160H180v160Zm440 0h160v-160H620v160Z\"/>\n",
              "  </svg>\n",
              "    </button>\n",
              "\n",
              "  <style>\n",
              "    .colab-df-container {\n",
              "      display:flex;\n",
              "      gap: 12px;\n",
              "    }\n",
              "\n",
              "    .colab-df-convert {\n",
              "      background-color: #E8F0FE;\n",
              "      border: none;\n",
              "      border-radius: 50%;\n",
              "      cursor: pointer;\n",
              "      display: none;\n",
              "      fill: #1967D2;\n",
              "      height: 32px;\n",
              "      padding: 0 0 0 0;\n",
              "      width: 32px;\n",
              "    }\n",
              "\n",
              "    .colab-df-convert:hover {\n",
              "      background-color: #E2EBFA;\n",
              "      box-shadow: 0px 1px 2px rgba(60, 64, 67, 0.3), 0px 1px 3px 1px rgba(60, 64, 67, 0.15);\n",
              "      fill: #174EA6;\n",
              "    }\n",
              "\n",
              "    .colab-df-buttons div {\n",
              "      margin-bottom: 4px;\n",
              "    }\n",
              "\n",
              "    [theme=dark] .colab-df-convert {\n",
              "      background-color: #3B4455;\n",
              "      fill: #D2E3FC;\n",
              "    }\n",
              "\n",
              "    [theme=dark] .colab-df-convert:hover {\n",
              "      background-color: #434B5C;\n",
              "      box-shadow: 0px 1px 3px 1px rgba(0, 0, 0, 0.15);\n",
              "      filter: drop-shadow(0px 1px 2px rgba(0, 0, 0, 0.3));\n",
              "      fill: #FFFFFF;\n",
              "    }\n",
              "  </style>\n",
              "\n",
              "    <script>\n",
              "      const buttonEl =\n",
              "        document.querySelector('#df-efab3365-4fca-4d72-9aed-ea8ae286a616 button.colab-df-convert');\n",
              "      buttonEl.style.display =\n",
              "        google.colab.kernel.accessAllowed ? 'block' : 'none';\n",
              "\n",
              "      async function convertToInteractive(key) {\n",
              "        const element = document.querySelector('#df-efab3365-4fca-4d72-9aed-ea8ae286a616');\n",
              "        const dataTable =\n",
              "          await google.colab.kernel.invokeFunction('convertToInteractive',\n",
              "                                                    [key], {});\n",
              "        if (!dataTable) return;\n",
              "\n",
              "        const docLinkHtml = 'Like what you see? Visit the ' +\n",
              "          '<a target=\"_blank\" href=https://colab.research.google.com/notebooks/data_table.ipynb>data table notebook</a>'\n",
              "          + ' to learn more about interactive tables.';\n",
              "        element.innerHTML = '';\n",
              "        dataTable['output_type'] = 'display_data';\n",
              "        await google.colab.output.renderOutput(dataTable, element);\n",
              "        const docLink = document.createElement('div');\n",
              "        docLink.innerHTML = docLinkHtml;\n",
              "        element.appendChild(docLink);\n",
              "      }\n",
              "    </script>\n",
              "  </div>\n",
              "\n",
              "\n",
              "<div id=\"df-d3457452-a08a-4275-91d9-fa36d1f85a90\">\n",
              "  <button class=\"colab-df-quickchart\" onclick=\"quickchart('df-d3457452-a08a-4275-91d9-fa36d1f85a90')\"\n",
              "            title=\"Suggest charts\"\n",
              "            style=\"display:none;\">\n",
              "\n",
              "<svg xmlns=\"http://www.w3.org/2000/svg\" height=\"24px\"viewBox=\"0 0 24 24\"\n",
              "     width=\"24px\">\n",
              "    <g>\n",
              "        <path d=\"M19 3H5c-1.1 0-2 .9-2 2v14c0 1.1.9 2 2 2h14c1.1 0 2-.9 2-2V5c0-1.1-.9-2-2-2zM9 17H7v-7h2v7zm4 0h-2V7h2v10zm4 0h-2v-4h2v4z\"/>\n",
              "    </g>\n",
              "</svg>\n",
              "  </button>\n",
              "\n",
              "<style>\n",
              "  .colab-df-quickchart {\n",
              "      --bg-color: #E8F0FE;\n",
              "      --fill-color: #1967D2;\n",
              "      --hover-bg-color: #E2EBFA;\n",
              "      --hover-fill-color: #174EA6;\n",
              "      --disabled-fill-color: #AAA;\n",
              "      --disabled-bg-color: #DDD;\n",
              "  }\n",
              "\n",
              "  [theme=dark] .colab-df-quickchart {\n",
              "      --bg-color: #3B4455;\n",
              "      --fill-color: #D2E3FC;\n",
              "      --hover-bg-color: #434B5C;\n",
              "      --hover-fill-color: #FFFFFF;\n",
              "      --disabled-bg-color: #3B4455;\n",
              "      --disabled-fill-color: #666;\n",
              "  }\n",
              "\n",
              "  .colab-df-quickchart {\n",
              "    background-color: var(--bg-color);\n",
              "    border: none;\n",
              "    border-radius: 50%;\n",
              "    cursor: pointer;\n",
              "    display: none;\n",
              "    fill: var(--fill-color);\n",
              "    height: 32px;\n",
              "    padding: 0;\n",
              "    width: 32px;\n",
              "  }\n",
              "\n",
              "  .colab-df-quickchart:hover {\n",
              "    background-color: var(--hover-bg-color);\n",
              "    box-shadow: 0 1px 2px rgba(60, 64, 67, 0.3), 0 1px 3px 1px rgba(60, 64, 67, 0.15);\n",
              "    fill: var(--button-hover-fill-color);\n",
              "  }\n",
              "\n",
              "  .colab-df-quickchart-complete:disabled,\n",
              "  .colab-df-quickchart-complete:disabled:hover {\n",
              "    background-color: var(--disabled-bg-color);\n",
              "    fill: var(--disabled-fill-color);\n",
              "    box-shadow: none;\n",
              "  }\n",
              "\n",
              "  .colab-df-spinner {\n",
              "    border: 2px solid var(--fill-color);\n",
              "    border-color: transparent;\n",
              "    border-bottom-color: var(--fill-color);\n",
              "    animation:\n",
              "      spin 1s steps(1) infinite;\n",
              "  }\n",
              "\n",
              "  @keyframes spin {\n",
              "    0% {\n",
              "      border-color: transparent;\n",
              "      border-bottom-color: var(--fill-color);\n",
              "      border-left-color: var(--fill-color);\n",
              "    }\n",
              "    20% {\n",
              "      border-color: transparent;\n",
              "      border-left-color: var(--fill-color);\n",
              "      border-top-color: var(--fill-color);\n",
              "    }\n",
              "    30% {\n",
              "      border-color: transparent;\n",
              "      border-left-color: var(--fill-color);\n",
              "      border-top-color: var(--fill-color);\n",
              "      border-right-color: var(--fill-color);\n",
              "    }\n",
              "    40% {\n",
              "      border-color: transparent;\n",
              "      border-right-color: var(--fill-color);\n",
              "      border-top-color: var(--fill-color);\n",
              "    }\n",
              "    60% {\n",
              "      border-color: transparent;\n",
              "      border-right-color: var(--fill-color);\n",
              "    }\n",
              "    80% {\n",
              "      border-color: transparent;\n",
              "      border-right-color: var(--fill-color);\n",
              "      border-bottom-color: var(--fill-color);\n",
              "    }\n",
              "    90% {\n",
              "      border-color: transparent;\n",
              "      border-bottom-color: var(--fill-color);\n",
              "    }\n",
              "  }\n",
              "</style>\n",
              "\n",
              "  <script>\n",
              "    async function quickchart(key) {\n",
              "      const quickchartButtonEl =\n",
              "        document.querySelector('#' + key + ' button');\n",
              "      quickchartButtonEl.disabled = true;  // To prevent multiple clicks.\n",
              "      quickchartButtonEl.classList.add('colab-df-spinner');\n",
              "      try {\n",
              "        const charts = await google.colab.kernel.invokeFunction(\n",
              "            'suggestCharts', [key], {});\n",
              "      } catch (error) {\n",
              "        console.error('Error during call to suggestCharts:', error);\n",
              "      }\n",
              "      quickchartButtonEl.classList.remove('colab-df-spinner');\n",
              "      quickchartButtonEl.classList.add('colab-df-quickchart-complete');\n",
              "    }\n",
              "    (() => {\n",
              "      let quickchartButtonEl =\n",
              "        document.querySelector('#df-d3457452-a08a-4275-91d9-fa36d1f85a90 button');\n",
              "      quickchartButtonEl.style.display =\n",
              "        google.colab.kernel.accessAllowed ? 'block' : 'none';\n",
              "    })();\n",
              "  </script>\n",
              "</div>\n",
              "\n",
              "    </div>\n",
              "  </div>\n"
            ],
            "application/vnd.google.colaboratory.intrinsic+json": {
              "type": "dataframe",
              "summary": "{\n  \"name\": \"X\",\n  \"rows\": 8,\n  \"fields\": [\n    {\n      \"column\": \"goals\",\n      \"properties\": {\n        \"dtype\": \"number\",\n        \"std\": 3801.5176933383914,\n        \"min\": 0.0,\n        \"max\": 10754.0,\n        \"num_unique_values\": 7,\n        \"samples\": [\n          10754.0,\n          0.12555431571759346,\n          0.172262541\n        ],\n        \"semantic_type\": \"\",\n        \"description\": \"\"\n      }\n    },\n    {\n      \"column\": \"assists\",\n      \"properties\": {\n        \"dtype\": \"number\",\n        \"std\": 3801.8909642471567,\n        \"min\": 0.0,\n        \"max\": 10754.0,\n        \"num_unique_values\": 7,\n        \"samples\": [\n          10754.0,\n          0.08697764630537475,\n          0.133136095\n        ],\n        \"semantic_type\": \"\",\n        \"description\": \"\"\n      }\n    },\n    {\n      \"column\": \"clean sheets\",\n      \"properties\": {\n        \"dtype\": \"number\",\n        \"std\": 3797.64865066929,\n        \"min\": 0.0,\n        \"max\": 10754.0,\n        \"num_unique_values\": 5,\n        \"samples\": [\n          0.0448808990385903,\n          90.0,\n          0.9244373006929671\n        ],\n        \"semantic_type\": \"\",\n        \"description\": \"\"\n      }\n    },\n    {\n      \"column\": \"award\",\n      \"properties\": {\n        \"dtype\": \"number\",\n        \"std\": 3797.1592033535107,\n        \"min\": 0.0,\n        \"max\": 10754.0,\n        \"num_unique_values\": 7,\n        \"samples\": [\n          10754.0,\n          1.9607587874279337,\n          2.0\n        ],\n        \"semantic_type\": \"\",\n        \"description\": \"\"\n      }\n    },\n    {\n      \"column\": \"height\",\n      \"properties\": {\n        \"dtype\": \"number\",\n        \"std\": 3747.405659149188,\n        \"min\": 6.969818188670933,\n        \"max\": 10754.0,\n        \"num_unique_values\": 8,\n        \"samples\": [\n          181.24035291761206,\n          181.2403529,\n          10754.0\n        ],\n        \"semantic_type\": \"\",\n        \"description\": \"\"\n      }\n    },\n    {\n      \"column\": \"age\",\n      \"properties\": {\n        \"dtype\": \"number\",\n        \"std\": 3793.753977259435,\n        \"min\": 4.777628742246696,\n        \"max\": 10754.0,\n        \"num_unique_values\": 8,\n        \"samples\": [\n          26.04190334295146,\n          26.0,\n          10754.0\n        ],\n        \"semantic_type\": \"\",\n        \"description\": \"\"\n      }\n    }\n  ]\n}"
            }
          },
          "metadata": {},
          "execution_count": 8
        }
      ],
      "source": [
        "# Describe columns using basic stats\n",
        "X.describe()"
      ]
    },
    {
      "cell_type": "markdown",
      "metadata": {
        "id": "wGrv8p3f6s73"
      },
      "source": [
        "Note: Describing data is a great way to determine if there are any anomalous data points..."
      ]
    },
    {
      "cell_type": "markdown",
      "metadata": {
        "id": "KnsRDk-q6s73"
      },
      "source": [
        "As a sidenote, functions such as df.describe() that include a parantheses are **methods** whereas functions such as df.columns that don't include parantheses are **attributes**."
      ]
    },
    {
      "cell_type": "markdown",
      "metadata": {
        "id": "mftJ5DVT6s74"
      },
      "source": [
        "## Build Model"
      ]
    },
    {
      "cell_type": "markdown",
      "metadata": {
        "id": "YtDQ7wDo6s75"
      },
      "source": [
        "The steps to building and using a model are:\n",
        "\n",
        "* **Define:** Define the appropriate model to use. Depending on the model choice, other parameters are specified too.\n",
        "* **Fit:** Fit the model to the data by capturing patterns.\n",
        "* **Predict:** Predict other data points using the fitted model.\n",
        "* **Evaluate:** Evaluate the model's prediction.\n",
        "\n",
        "We will use the sklearn library to create our models."
      ]
    },
    {
      "cell_type": "markdown",
      "metadata": {
        "id": "02KErHL-6s76"
      },
      "source": [
        "#### Define"
      ]
    },
    {
      "cell_type": "code",
      "execution_count": 9,
      "metadata": {
        "id": "yBpMQTc56s76"
      },
      "outputs": [],
      "source": [
        "import sklearn\n",
        "from sklearn.tree import DecisionTreeRegressor\n",
        "\n",
        "# Fix the seed to the random number generator to ensure same results each run.\n",
        "mdlDtrMlb = DecisionTreeRegressor(random_state=1)"
      ]
    },
    {
      "cell_type": "markdown",
      "metadata": {
        "id": "0d8wnKKW6s76"
      },
      "source": [
        "#### Fit"
      ]
    },
    {
      "cell_type": "code",
      "execution_count": 10,
      "metadata": {
        "colab": {
          "base_uri": "https://localhost:8080/",
          "height": 75
        },
        "id": "r4CKT7qb6s76",
        "outputId": "7c68fd18-c190-4deb-ba20-287fb53e1aa1"
      },
      "outputs": [
        {
          "output_type": "execute_result",
          "data": {
            "text/plain": [
              "DecisionTreeRegressor(random_state=1)"
            ],
            "text/html": [
              "<style>#sk-container-id-1 {color: black;background-color: white;}#sk-container-id-1 pre{padding: 0;}#sk-container-id-1 div.sk-toggleable {background-color: white;}#sk-container-id-1 label.sk-toggleable__label {cursor: pointer;display: block;width: 100%;margin-bottom: 0;padding: 0.3em;box-sizing: border-box;text-align: center;}#sk-container-id-1 label.sk-toggleable__label-arrow:before {content: \"▸\";float: left;margin-right: 0.25em;color: #696969;}#sk-container-id-1 label.sk-toggleable__label-arrow:hover:before {color: black;}#sk-container-id-1 div.sk-estimator:hover label.sk-toggleable__label-arrow:before {color: black;}#sk-container-id-1 div.sk-toggleable__content {max-height: 0;max-width: 0;overflow: hidden;text-align: left;background-color: #f0f8ff;}#sk-container-id-1 div.sk-toggleable__content pre {margin: 0.2em;color: black;border-radius: 0.25em;background-color: #f0f8ff;}#sk-container-id-1 input.sk-toggleable__control:checked~div.sk-toggleable__content {max-height: 200px;max-width: 100%;overflow: auto;}#sk-container-id-1 input.sk-toggleable__control:checked~label.sk-toggleable__label-arrow:before {content: \"▾\";}#sk-container-id-1 div.sk-estimator input.sk-toggleable__control:checked~label.sk-toggleable__label {background-color: #d4ebff;}#sk-container-id-1 div.sk-label input.sk-toggleable__control:checked~label.sk-toggleable__label {background-color: #d4ebff;}#sk-container-id-1 input.sk-hidden--visually {border: 0;clip: rect(1px 1px 1px 1px);clip: rect(1px, 1px, 1px, 1px);height: 1px;margin: -1px;overflow: hidden;padding: 0;position: absolute;width: 1px;}#sk-container-id-1 div.sk-estimator {font-family: monospace;background-color: #f0f8ff;border: 1px dotted black;border-radius: 0.25em;box-sizing: border-box;margin-bottom: 0.5em;}#sk-container-id-1 div.sk-estimator:hover {background-color: #d4ebff;}#sk-container-id-1 div.sk-parallel-item::after {content: \"\";width: 100%;border-bottom: 1px solid gray;flex-grow: 1;}#sk-container-id-1 div.sk-label:hover label.sk-toggleable__label {background-color: #d4ebff;}#sk-container-id-1 div.sk-serial::before {content: \"\";position: absolute;border-left: 1px solid gray;box-sizing: border-box;top: 0;bottom: 0;left: 50%;z-index: 0;}#sk-container-id-1 div.sk-serial {display: flex;flex-direction: column;align-items: center;background-color: white;padding-right: 0.2em;padding-left: 0.2em;position: relative;}#sk-container-id-1 div.sk-item {position: relative;z-index: 1;}#sk-container-id-1 div.sk-parallel {display: flex;align-items: stretch;justify-content: center;background-color: white;position: relative;}#sk-container-id-1 div.sk-item::before, #sk-container-id-1 div.sk-parallel-item::before {content: \"\";position: absolute;border-left: 1px solid gray;box-sizing: border-box;top: 0;bottom: 0;left: 50%;z-index: -1;}#sk-container-id-1 div.sk-parallel-item {display: flex;flex-direction: column;z-index: 1;position: relative;background-color: white;}#sk-container-id-1 div.sk-parallel-item:first-child::after {align-self: flex-end;width: 50%;}#sk-container-id-1 div.sk-parallel-item:last-child::after {align-self: flex-start;width: 50%;}#sk-container-id-1 div.sk-parallel-item:only-child::after {width: 0;}#sk-container-id-1 div.sk-dashed-wrapped {border: 1px dashed gray;margin: 0 0.4em 0.5em 0.4em;box-sizing: border-box;padding-bottom: 0.4em;background-color: white;}#sk-container-id-1 div.sk-label label {font-family: monospace;font-weight: bold;display: inline-block;line-height: 1.2em;}#sk-container-id-1 div.sk-label-container {text-align: center;}#sk-container-id-1 div.sk-container {/* jupyter's `normalize.less` sets `[hidden] { display: none; }` but bootstrap.min.css set `[hidden] { display: none !important; }` so we also need the `!important` here to be able to override the default hidden behavior on the sphinx rendered scikit-learn.org. See: https://github.com/scikit-learn/scikit-learn/issues/21755 */display: inline-block !important;position: relative;}#sk-container-id-1 div.sk-text-repr-fallback {display: none;}</style><div id=\"sk-container-id-1\" class=\"sk-top-container\"><div class=\"sk-text-repr-fallback\"><pre>DecisionTreeRegressor(random_state=1)</pre><b>In a Jupyter environment, please rerun this cell to show the HTML representation or trust the notebook. <br />On GitHub, the HTML representation is unable to render, please try loading this page with nbviewer.org.</b></div><div class=\"sk-container\" hidden><div class=\"sk-item\"><div class=\"sk-estimator sk-toggleable\"><input class=\"sk-toggleable__control sk-hidden--visually\" id=\"sk-estimator-id-1\" type=\"checkbox\" checked><label for=\"sk-estimator-id-1\" class=\"sk-toggleable__label sk-toggleable__label-arrow\">DecisionTreeRegressor</label><div class=\"sk-toggleable__content\"><pre>DecisionTreeRegressor(random_state=1)</pre></div></div></div></div></div>"
            ]
          },
          "metadata": {},
          "execution_count": 10
        }
      ],
      "source": [
        "mdlDtrMlb.fit(X,y)"
      ]
    },
    {
      "cell_type": "code",
      "execution_count": 11,
      "metadata": {
        "colab": {
          "base_uri": "https://localhost:8080/",
          "height": 499
        },
        "id": "n0JNIGer6s76",
        "outputId": "138891a1-de7a-43d6-f88d-4fa2a1f45fcb"
      },
      "outputs": [
        {
          "output_type": "display_data",
          "data": {
            "text/plain": [
              "<Figure size 800x600 with 1 Axes>"
            ],
            "image/png": "[encoded data removed]"
          },
          "metadata": {}
        }
      ],
      "source": [
        "# Show model\n",
        "from sklearn.tree import plot_tree\n",
        "import matplotlib.pyplot as plt\n",
        "\n",
        "plt.figure(figsize=(8, 6), dpi=100)\n",
        "plot_tree(mdlDtrMlb, max_depth=2, feature_names=X.columns, fontsize= 6, filled=True)\n",
        "plt.show()"
      ]
    },
    {
      "cell_type": "markdown",
      "metadata": {
        "id": "ZlGuDKNW6s77"
      },
      "source": [
        "We now have a fitted model that we can use to make predictions.\n",
        "\n",
        "In practice, we'll want to make predictions for new houses coming on the market rather than the houses we already have prices for. But we'll make predictions for the first few rows of the \"Training Data\" to see how the predict function works."
      ]
    },
    {
      "cell_type": "markdown",
      "metadata": {
        "id": "vc2RYTTv6s77"
      },
      "source": [
        "#### Predict"
      ]
    },
    {
      "cell_type": "code",
      "execution_count": 12,
      "metadata": {
        "colab": {
          "base_uri": "https://localhost:8080/"
        },
        "id": "He_kwfuU6s77",
        "outputId": "2ef9da10-38e6-4faf-f7a8-9b45f02c474e"
      },
      "outputs": [
        {
          "output_type": "stream",
          "name": "stdout",
          "text": [
            "First few players:\n",
            "      goals   assists  clean sheets  award  height   age\n",
            "0  0.000000  0.000000      0.335463     13   189.0  32.0\n",
            "1  0.000000  0.000000      0.207055      1   196.0  30.0\n",
            "2  0.000000  0.000000      0.924658      4   188.0  37.0\n",
            "3  0.028090  0.056180      0.000000      9   175.0  25.0\n",
            "4  0.017889  0.017889      0.000000     21   191.0  30.0\n",
            "value predictions:\n",
            "[15000000.  1500000.   600000. 50000000. 40000000.]\n"
          ]
        }
      ],
      "source": [
        "print('First few players:')\n",
        "print(X.head())\n",
        "print('value predictions:')\n",
        "print(mdlDtrMlb.predict(X.head()))"
      ]
    },
    {
      "cell_type": "code",
      "execution_count": 13,
      "metadata": {
        "colab": {
          "base_uri": "https://localhost:8080/",
          "height": 206
        },
        "id": "nOPoT9sf6s77",
        "outputId": "894fa910-6810-4af2-8348-c43d594c7016"
      },
      "outputs": [
        {
          "output_type": "execute_result",
          "data": {
            "text/plain": [
              "   current_value\n",
              "0       15000000\n",
              "1        1500000\n",
              "2         600000\n",
              "3       50000000\n",
              "4       40000000"
            ],
            "text/html": [
              "\n",
              "  <div id=\"df-8dcb52cb-52f4-4042-a32e-bff39b4c47f3\" class=\"colab-df-container\">\n",
              "    <div>\n",
              "<style scoped>\n",
              "    .dataframe tbody tr th:only-of-type {\n",
              "        vertical-align: middle;\n",
              "    }\n",
              "\n",
              "    .dataframe tbody tr th {\n",
              "        vertical-align: top;\n",
              "    }\n",
              "\n",
              "    .dataframe thead th {\n",
              "        text-align: right;\n",
              "    }\n",
              "</style>\n",
              "<table border=\"1\" class=\"dataframe\">\n",
              "  <thead>\n",
              "    <tr style=\"text-align: right;\">\n",
              "      <th></th>\n",
              "      <th>current_value</th>\n",
              "    </tr>\n",
              "  </thead>\n",
              "  <tbody>\n",
              "    <tr>\n",
              "      <th>0</th>\n",
              "      <td>15000000</td>\n",
              "    </tr>\n",
              "    <tr>\n",
              "      <th>1</th>\n",
              "      <td>1500000</td>\n",
              "    </tr>\n",
              "    <tr>\n",
              "      <th>2</th>\n",
              "      <td>600000</td>\n",
              "    </tr>\n",
              "    <tr>\n",
              "      <th>3</th>\n",
              "      <td>50000000</td>\n",
              "    </tr>\n",
              "    <tr>\n",
              "      <th>4</th>\n",
              "      <td>40000000</td>\n",
              "    </tr>\n",
              "  </tbody>\n",
              "</table>\n",
              "</div>\n",
              "    <div class=\"colab-df-buttons\">\n",
              "\n",
              "  <div class=\"colab-df-container\">\n",
              "    <button class=\"colab-df-convert\" onclick=\"convertToInteractive('df-8dcb52cb-52f4-4042-a32e-bff39b4c47f3')\"\n",
              "            title=\"Convert this dataframe to an interactive table.\"\n",
              "            style=\"display:none;\">\n",
              "\n",
              "  <svg xmlns=\"http://www.w3.org/2000/svg\" height=\"24px\" viewBox=\"0 -960 960 960\">\n",
              "    <path d=\"M120-120v-720h720v720H120Zm60-500h600v-160H180v160Zm220 220h160v-160H400v160Zm0 220h160v-160H400v160ZM180-400h160v-160H180v160Zm440 0h160v-160H620v160ZM180-180h160v-160H180v160Zm440 0h160v-160H620v160Z\"/>\n",
              "  </svg>\n",
              "    </button>\n",
              "\n",
              "  <style>\n",
              "    .colab-df-container {\n",
              "      display:flex;\n",
              "      gap: 12px;\n",
              "    }\n",
              "\n",
              "    .colab-df-convert {\n",
              "      background-color: #E8F0FE;\n",
              "      border: none;\n",
              "      border-radius: 50%;\n",
              "      cursor: pointer;\n",
              "      display: none;\n",
              "      fill: #1967D2;\n",
              "      height: 32px;\n",
              "      padding: 0 0 0 0;\n",
              "      width: 32px;\n",
              "    }\n",
              "\n",
              "    .colab-df-convert:hover {\n",
              "      background-color: #E2EBFA;\n",
              "      box-shadow: 0px 1px 2px rgba(60, 64, 67, 0.3), 0px 1px 3px 1px rgba(60, 64, 67, 0.15);\n",
              "      fill: #174EA6;\n",
              "    }\n",
              "\n",
              "    .colab-df-buttons div {\n",
              "      margin-bottom: 4px;\n",
              "    }\n",
              "\n",
              "    [theme=dark] .colab-df-convert {\n",
              "      background-color: #3B4455;\n",
              "      fill: #D2E3FC;\n",
              "    }\n",
              "\n",
              "    [theme=dark] .colab-df-convert:hover {\n",
              "      background-color: #434B5C;\n",
              "      box-shadow: 0px 1px 3px 1px rgba(0, 0, 0, 0.15);\n",
              "      filter: drop-shadow(0px 1px 2px rgba(0, 0, 0, 0.3));\n",
              "      fill: #FFFFFF;\n",
              "    }\n",
              "  </style>\n",
              "\n",
              "    <script>\n",
              "      const buttonEl =\n",
              "        document.querySelector('#df-8dcb52cb-52f4-4042-a32e-bff39b4c47f3 button.colab-df-convert');\n",
              "      buttonEl.style.display =\n",
              "        google.colab.kernel.accessAllowed ? 'block' : 'none';\n",
              "\n",
              "      async function convertToInteractive(key) {\n",
              "        const element = document.querySelector('#df-8dcb52cb-52f4-4042-a32e-bff39b4c47f3');\n",
              "        const dataTable =\n",
              "          await google.colab.kernel.invokeFunction('convertToInteractive',\n",
              "                                                    [key], {});\n",
              "        if (!dataTable) return;\n",
              "\n",
              "        const docLinkHtml = 'Like what you see? Visit the ' +\n",
              "          '<a target=\"_blank\" href=https://colab.research.google.com/notebooks/data_table.ipynb>data table notebook</a>'\n",
              "          + ' to learn more about interactive tables.';\n",
              "        element.innerHTML = '';\n",
              "        dataTable['output_type'] = 'display_data';\n",
              "        await google.colab.output.renderOutput(dataTable, element);\n",
              "        const docLink = document.createElement('div');\n",
              "        docLink.innerHTML = docLinkHtml;\n",
              "        element.appendChild(docLink);\n",
              "      }\n",
              "    </script>\n",
              "  </div>\n",
              "\n",
              "\n",
              "<div id=\"df-f4a585e4-74f2-42e8-b8d3-512e104c0c47\">\n",
              "  <button class=\"colab-df-quickchart\" onclick=\"quickchart('df-f4a585e4-74f2-42e8-b8d3-512e104c0c47')\"\n",
              "            title=\"Suggest charts\"\n",
              "            style=\"display:none;\">\n",
              "\n",
              "<svg xmlns=\"http://www.w3.org/2000/svg\" height=\"24px\"viewBox=\"0 0 24 24\"\n",
              "     width=\"24px\">\n",
              "    <g>\n",
              "        <path d=\"M19 3H5c-1.1 0-2 .9-2 2v14c0 1.1.9 2 2 2h14c1.1 0 2-.9 2-2V5c0-1.1-.9-2-2-2zM9 17H7v-7h2v7zm4 0h-2V7h2v10zm4 0h-2v-4h2v4z\"/>\n",
              "    </g>\n",
              "</svg>\n",
              "  </button>\n",
              "\n",
              "<style>\n",
              "  .colab-df-quickchart {\n",
              "      --bg-color: #E8F0FE;\n",
              "      --fill-color: #1967D2;\n",
              "      --hover-bg-color: #E2EBFA;\n",
              "      --hover-fill-color: #174EA6;\n",
              "      --disabled-fill-color: #AAA;\n",
              "      --disabled-bg-color: #DDD;\n",
              "  }\n",
              "\n",
              "  [theme=dark] .colab-df-quickchart {\n",
              "      --bg-color: #3B4455;\n",
              "      --fill-color: #D2E3FC;\n",
              "      --hover-bg-color: #434B5C;\n",
              "      --hover-fill-color: #FFFFFF;\n",
              "      --disabled-bg-color: #3B4455;\n",
              "      --disabled-fill-color: #666;\n",
              "  }\n",
              "\n",
              "  .colab-df-quickchart {\n",
              "    background-color: var(--bg-color);\n",
              "    border: none;\n",
              "    border-radius: 50%;\n",
              "    cursor: pointer;\n",
              "    display: none;\n",
              "    fill: var(--fill-color);\n",
              "    height: 32px;\n",
              "    padding: 0;\n",
              "    width: 32px;\n",
              "  }\n",
              "\n",
              "  .colab-df-quickchart:hover {\n",
              "    background-color: var(--hover-bg-color);\n",
              "    box-shadow: 0 1px 2px rgba(60, 64, 67, 0.3), 0 1px 3px 1px rgba(60, 64, 67, 0.15);\n",
              "    fill: var(--button-hover-fill-color);\n",
              "  }\n",
              "\n",
              "  .colab-df-quickchart-complete:disabled,\n",
              "  .colab-df-quickchart-complete:disabled:hover {\n",
              "    background-color: var(--disabled-bg-color);\n",
              "    fill: var(--disabled-fill-color);\n",
              "    box-shadow: none;\n",
              "  }\n",
              "\n",
              "  .colab-df-spinner {\n",
              "    border: 2px solid var(--fill-color);\n",
              "    border-color: transparent;\n",
              "    border-bottom-color: var(--fill-color);\n",
              "    animation:\n",
              "      spin 1s steps(1) infinite;\n",
              "  }\n",
              "\n",
              "  @keyframes spin {\n",
              "    0% {\n",
              "      border-color: transparent;\n",
              "      border-bottom-color: var(--fill-color);\n",
              "      border-left-color: var(--fill-color);\n",
              "    }\n",
              "    20% {\n",
              "      border-color: transparent;\n",
              "      border-left-color: var(--fill-color);\n",
              "      border-top-color: var(--fill-color);\n",
              "    }\n",
              "    30% {\n",
              "      border-color: transparent;\n",
              "      border-left-color: var(--fill-color);\n",
              "      border-top-color: var(--fill-color);\n",
              "      border-right-color: var(--fill-color);\n",
              "    }\n",
              "    40% {\n",
              "      border-color: transparent;\n",
              "      border-right-color: var(--fill-color);\n",
              "      border-top-color: var(--fill-color);\n",
              "    }\n",
              "    60% {\n",
              "      border-color: transparent;\n",
              "      border-right-color: var(--fill-color);\n",
              "    }\n",
              "    80% {\n",
              "      border-color: transparent;\n",
              "      border-right-color: var(--fill-color);\n",
              "      border-bottom-color: var(--fill-color);\n",
              "    }\n",
              "    90% {\n",
              "      border-color: transparent;\n",
              "      border-bottom-color: var(--fill-color);\n",
              "    }\n",
              "  }\n",
              "</style>\n",
              "\n",
              "  <script>\n",
              "    async function quickchart(key) {\n",
              "      const quickchartButtonEl =\n",
              "        document.querySelector('#' + key + ' button');\n",
              "      quickchartButtonEl.disabled = true;  // To prevent multiple clicks.\n",
              "      quickchartButtonEl.classList.add('colab-df-spinner');\n",
              "      try {\n",
              "        const charts = await google.colab.kernel.invokeFunction(\n",
              "            'suggestCharts', [key], {});\n",
              "      } catch (error) {\n",
              "        console.error('Error during call to suggestCharts:', error);\n",
              "      }\n",
              "      quickchartButtonEl.classList.remove('colab-df-spinner');\n",
              "      quickchartButtonEl.classList.add('colab-df-quickchart-complete');\n",
              "    }\n",
              "    (() => {\n",
              "      let quickchartButtonEl =\n",
              "        document.querySelector('#df-f4a585e4-74f2-42e8-b8d3-512e104c0c47 button');\n",
              "      quickchartButtonEl.style.display =\n",
              "        google.colab.kernel.accessAllowed ? 'block' : 'none';\n",
              "    })();\n",
              "  </script>\n",
              "</div>\n",
              "\n",
              "    </div>\n",
              "  </div>\n"
            ],
            "application/vnd.google.colaboratory.intrinsic+json": {
              "type": "dataframe",
              "variable_name": "y",
              "summary": "{\n  \"name\": \"y\",\n  \"rows\": 10754,\n  \"fields\": [\n    {\n      \"column\": \"current_value\",\n      \"properties\": {\n        \"dtype\": \"number\",\n        \"std\": 9095409,\n        \"min\": 0,\n        \"max\": 180000000,\n        \"num_unique_values\": 128,\n        \"samples\": [\n          110000000,\n          7000000,\n          14000000\n        ],\n        \"semantic_type\": \"\",\n        \"description\": \"\"\n      }\n    }\n  ]\n}"
            }
          },
          "metadata": {},
          "execution_count": 13
        }
      ],
      "source": [
        "y.head()"
      ]
    },
    {
      "cell_type": "markdown",
      "metadata": {
        "id": "S5-hx8cH6s78"
      },
      "source": [
        "#### Evaluate\n",
        "There are many metrics for summarizing model quality, but we'll start with one called Mean Absolute Error (also called MAE)."
      ]
    },
    {
      "cell_type": "code",
      "execution_count": 14,
      "metadata": {
        "colab": {
          "base_uri": "https://localhost:8080/"
        },
        "id": "cYhCDOsZ6s78",
        "outputId": "43349d02-5733-4261-c047-41d2df176872"
      },
      "outputs": [
        {
          "output_type": "stream",
          "name": "stdout",
          "text": [
            "MAE:\n",
            "77099.08146740793\n"
          ]
        }
      ],
      "source": [
        "from sklearn.metrics import mean_absolute_error\n",
        "\n",
        "y_pred = mdlDtrMlb.predict(X)\n",
        "print('MAE:')\n",
        "print(mean_absolute_error(y,y_pred))"
      ]
    },
    {
      "cell_type": "markdown",
      "metadata": {
        "id": "lqvd8wS_6s78"
      },
      "source": [
        "Hold on... We just \"Trained\" and \"Tested\" the model on the same data.  This is called an in-sample score, but it doesn't reflect the fact that we want to make predictions on future data based on past data.  What we really want is an out-of-sample score.  For this, we will split the data into a **Training set** and a **Test set** so that we can build the model on the Training data set and validate the model on the Test data set."
      ]
    },
    {
      "cell_type": "code",
      "execution_count": 15,
      "metadata": {
        "id": "O5A2o90E6s79"
      },
      "outputs": [],
      "source": [
        "from sklearn.model_selection import train_test_split\n",
        "\n",
        "# Split features and target into training and test sets\n",
        "X_train, X_test, y_train, y_test = train_test_split(X,y,train_size=0.8, test_size=0.2,random_state=1)"
      ]
    },
    {
      "cell_type": "code",
      "execution_count": 16,
      "metadata": {
        "colab": {
          "base_uri": "https://localhost:8080/"
        },
        "id": "qcDlJWII6s7-",
        "outputId": "ee16ae18-5585-48e3-c1d7-b581ea3a0139"
      },
      "outputs": [
        {
          "output_type": "stream",
          "name": "stdout",
          "text": [
            "MAE (after train-test-split):\n",
            "4549506.715388331\n"
          ]
        }
      ],
      "source": [
        "# Rebuild model\n",
        "mdlDtrMlbSpl = DecisionTreeRegressor(random_state=1)\n",
        "mdlDtrMlbSpl.fit(X_train, y_train)\n",
        "\n",
        "# Predict test data\n",
        "y_test_pred = mdlDtrMlbSpl.predict(X_test)\n",
        "\n",
        "# Evaluate test data actual vs prediction\n",
        "print('MAE (after train-test-split):')\n",
        "print(mean_absolute_error(y_test,y_test_pred))"
      ]
    },
    {
      "cell_type": "markdown",
      "metadata": {
        "id": "JiHXYfG26s7-"
      },
      "source": [
        "In-sample model was only 77000 (which is good I think considering the market of football nowadays) from the mean on average whereas the out-of-sample model was a whopping 4,549,506 (not good lol) off from the mean. It is needed to be improved."
      ]
    },
    {
      "cell_type": "markdown",
      "metadata": {
        "id": "sOSOkT0h6s7-"
      },
      "source": [
        "![utexas_ds_orie_divider_gray.png](data:image/png;base64,iVBORw0KGgoAAAANSUhEUgAAB0YAAAAKCAYAAAAgjz0QAAAAAXNSR0IArs4c6QAAAHhlWElmTU0AKgAAAAgABAEaAAUAAAABAAAAPgEbAAUAAAABAAAARgEoAAMAAAABAAIAAIdpAAQAAAABAAAATgAAAAAAAACWAAAAAQAAAJYAAAABAAOgAQADAAAAAQABAACgAgAEAAAAAQAAB0agAwAEAAAAAQAAAAoAAAAAoOuQ6gAAAAlwSFlzAAAXEgAAFxIBZ5/SUgAAAbBJREFUeAHt2bEVAiEURcHFsxyKMLU6jcyogQKsxzo01h6IEAqwgb9DQnwHsrdtDgECBAgQIECAAAECBAgQIECAAAECBAgQIECAAAECBIILpNVXa73knM/BW+URIECAAAECBAgQIECAAAECBAgQIECAAAECBAgQIHAwgd77u7X23Vd3KeU+r+vBDOQSIECAAAECBAgQIECAAAECBAgQIECAAAECBAgQIBBcYG6ht5n4OAXvlEeAAAECBAgQIECAAAECBAgQIECAAAECBAgQIECAAIHNMOoTECBAgAABAgQIECBAgAABAgQIECBAgAABAgQIECAQXsAwGv6JBRIgQIAAAQIECBAgQIAAAQIECBAgQIAAAQIECBAgYBj1BwgQIECAAAECBAgQIECAAAECBAgQIECAAAECBAgQCC9gGA3/xAIJECBAgAABAgQIECBAgAABAgQIECBAgAABAgQIENgXwRjjlVJ64iBAgAABAgQIECBAgAABAgQIECBAgAABAgQIECBAgEAkgbmDfiL1aCFAgAABAgQIECBAgAABAgQIECBAgAABAgQIECBAgMBfgR+MbQ+c2cysKQAAAABJRU5ErkJggg==)"
      ]
    },
    {
      "cell_type": "markdown",
      "metadata": {
        "id": "YMbiwqYk6s7-"
      },
      "source": [
        "## Improve Decision Tree Model\n",
        "There are many settings in a Decision Tree model that we can tweak.  The most important one is the tree's depth.  Let's see what happens when we tweak the max_leaf_nodes in the Decision Tree model."
      ]
    },
    {
      "cell_type": "code",
      "execution_count": 17,
      "metadata": {
        "id": "yDH0ZbFP6s7-"
      },
      "outputs": [],
      "source": [
        "# Function to build and return MAE for a given number of max_leaf_nodes\n",
        "def get_mae(mx_lf_nds, X_trn, X_tst, y_trn, y_tst):\n",
        "    mdlDtrMlbDpt = DecisionTreeRegressor(max_leaf_nodes=mx_lf_nds, random_state=1)\n",
        "    mdlDtrMlbDpt.fit(X_trn,y_trn)\n",
        "    y_tst_prd = mdlDtrMlbDpt.predict(X_tst)\n",
        "    mae = mean_absolute_error(y_tst, y_tst_prd)\n",
        "    return(mae)"
      ]
    },
    {
      "cell_type": "code",
      "execution_count": 18,
      "metadata": {
        "colab": {
          "base_uri": "https://localhost:8080/"
        },
        "id": "1SiQKklT6s7_",
        "outputId": "6b094f29-3721-432b-ec0a-ad2623a57a11"
      },
      "outputs": [
        {
          "output_type": "stream",
          "name": "stdout",
          "text": [
            "Max leaf nodes:  5 \t Mean Absolute Error:  3973941.1639116453\n",
            "Max leaf nodes:  50 \t Mean Absolute Error:  3618227.292059826\n",
            "Max leaf nodes:  500 \t Mean Absolute Error:  4074411.6547684753\n",
            "Max leaf nodes:  50000 \t Mean Absolute Error:  4554475.3346351925\n"
          ]
        }
      ],
      "source": [
        "# Iterate over a list of max_leaf_nodes to determine MAE across all\n",
        "for i in [5, 50, 500, 50000]:\n",
        "    mae = get_mae(i, X_train, X_test, y_train, y_test)\n",
        "    print('Max leaf nodes: ',i, '\\t Mean Absolute Error: ',mae)"
      ]
    },
    {
      "cell_type": "markdown",
      "metadata": {
        "id": "m6zcV3KI6s7_"
      },
      "source": [
        "The best depth of the tree is at 50 max leaf nodes."
      ]
    },
    {
      "cell_type": "markdown",
      "metadata": {
        "id": "xDP0fYsN6s8A"
      },
      "source": [
        "Thus tweaking the settings of the Decision Tree model has resulted in reducing the MAE from 4549506 to 3618227."
      ]
    },
    {
      "cell_type": "markdown",
      "metadata": {
        "id": "dWgwEsVG6s8A"
      },
      "source": [
        "## Build Ensemble Random Forest Model\n",
        "While the Decision Tree is simple, it is also not the most accurate because only a single tree is created and all future data points have to traverse the same tree.  What if we could generate more trees?"
      ]
    },
    {
      "cell_type": "code",
      "execution_count": 20,
      "metadata": {
        "colab": {
          "base_uri": "https://localhost:8080/"
        },
        "id": "jWYdhalc6s8B",
        "outputId": "8eab0119-3c7b-47f8-c956-8af0b444040f"
      },
      "outputs": [
        {
          "output_type": "stream",
          "name": "stderr",
          "text": [
            "<ipython-input-20-f82555515a8a>:7: DataConversionWarning: A column-vector y was passed when a 1d array was expected. Please change the shape of y to (n_samples,), for example using ravel().\n",
            "  mdlRfsMlb.fit(X_train, y_train)\n"
          ]
        },
        {
          "output_type": "stream",
          "name": "stdout",
          "text": [
            "MAE (Random Forest):\n",
            "3558416.539134143\n"
          ]
        }
      ],
      "source": [
        "from sklearn.ensemble import RandomForestRegressor\n",
        "\n",
        "# Define random forest model\n",
        "mdlRfsMlb = RandomForestRegressor(random_state=1)\n",
        "\n",
        "# Fit model\n",
        "mdlRfsMlb.fit(X_train, y_train)\n",
        "\n",
        "# Predict\n",
        "y_test_pred = mdlRfsMlb.predict(X_test)\n",
        "\n",
        "# Evaluate\n",
        "print('MAE (Random Forest):')\n",
        "print(mean_absolute_error(y_test,y_test_pred))"
      ]
    },
    {
      "cell_type": "markdown",
      "metadata": {
        "id": "6WDrfmjX6s8B"
      },
      "source": [
        "So, the Random Forest model reduces the MAE to 3558416. Which is better but not that better. I might need to find a better way to improve my model."
      ]
    }
  ],
  "metadata": {
    "kernelspec": {
      "display_name": "Python 3",
      "language": "python",
      "name": "python3"
    },
    "language_info": {
      "codemirror_mode": {
        "name": "ipython",
        "version": 3
      },
      "file_extension": ".py",
      "mimetype": "text/x-python",
      "name": "python",
      "nbconvert_exporter": "python",
      "pygments_lexer": "ipython3",
      "version": "3.7.1"
    },
    "colab": {
      "name": "n2.ipynb",
      "provenance": [],
      "include_colab_link": true
    }
  },
  "nbformat": 4,
  "nbformat_minor": 0
}