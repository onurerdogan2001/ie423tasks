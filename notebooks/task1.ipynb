{
  "cells": [
    {
      "cell_type": "markdown",
      "metadata": {
        "id": "view-in-github",
        "colab_type": "text"
      },
      "source": [
        "<a href=\"https://colab.research.google.com/github/onurerdogan2001/ie423tasks/blob/main/notebooks/task1.ipynb\" target=\"_parent\"><img src=\"https://colab.research.google.com/assets/colab-badge.svg\" alt=\"Open In Colab\"/></a>"
      ]
    },
    {
      "cell_type": "markdown",
      "source": [
        "![utexas_ds_orie_divider.png](data:image/png;base64,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)"
      ],
      "metadata": {
        "id": "QegpN7sWB6Rz"
      }
    },
    {
      "cell_type": "markdown",
      "metadata": {
        "id": "Doww1HcOyzj9"
      },
      "source": [
        "## <font color='#475468'> Football Players Value:</font>\n",
        "### <font color='#475468'> Can you predict player value based on information?</font>"
      ]
    },
    {
      "cell_type": "markdown",
      "source": [
        "![utexas_ds_orie_divider.png](data:image/png;base64,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)"
      ],
      "metadata": {
        "id": "EnIWCiztCaRj"
      }
    },
    {
      "cell_type": "markdown",
      "metadata": {
        "id": "-SsPuFDCyzj-"
      },
      "source": [
        "## Initialize"
      ]
    },
    {
      "cell_type": "code",
      "execution_count": 2,
      "metadata": {
        "id": "T4JoLjKQyzj-"
      },
      "outputs": [],
      "source": [
        "import pandas as pd\n",
        "import numpy as np\n",
        "import matplotlib.pyplot as plt"
      ]
    },
    {
      "cell_type": "markdown",
      "metadata": {
        "id": "FyS0Vw98yzj_"
      },
      "source": [
        "## Load Data"
      ]
    },
    {
      "cell_type": "code",
      "source": [
        "from google.colab import drive\n",
        "drive.mount('/content/drive')"
      ],
      "metadata": {
        "colab": {
          "base_uri": "https://localhost:8080/"
        },
        "id": "eItHcjT81JxW",
        "outputId": "f5dda421-ea89-4ced-bf73-228d4fe973a9"
      },
      "execution_count": 3,
      "outputs": [
        {
          "output_type": "stream",
          "name": "stdout",
          "text": [
            "Drive already mounted at /content/drive; to attempt to forcibly remount, call drive.mount(\"/content/drive\", force_remount=True).\n"
          ]
        }
      ]
    },
    {
      "cell_type": "code",
      "execution_count": 4,
      "metadata": {
        "id": "FK9_VivSyzkA"
      },
      "outputs": [],
      "source": [
        "dfTips = pd.read_csv('/content/drive/MyDrive/yazokulu/football.csv')\n",
        "\n",
        "#did not change the name of the file \"dfTips\", noticed this lately. - Onur"
      ]
    },
    {
      "cell_type": "code",
      "execution_count": 24,
      "metadata": {
        "colab": {
          "base_uri": "https://localhost:8080/",
          "height": 394
        },
        "id": "BY1d_oc-yzkA",
        "outputId": "a6de6a42-a12d-48df-b784-7086db46def7"
      },
      "outputs": [
        {
          "output_type": "execute_result",
          "data": {
            "text/plain": [
              "                                     player               team  \\\n",
              "0        /david-de-gea/profil/spieler/59377  Manchester United   \n",
              "1       /jack-butland/profil/spieler/128899  Manchester United   \n",
              "2          /tom-heaton/profil/spieler/34130  Manchester United   \n",
              "3  /lisandro-martinez/profil/spieler/480762  Manchester United   \n",
              "4     /raphael-varane/profil/spieler/164770  Manchester United   \n",
              "\n",
              "                name              position  height   age  appearance  \\\n",
              "0       David de Gea            Goalkeeper   189.0  32.0         104   \n",
              "1       Jack Butland            Goalkeeper   196.0  30.0          15   \n",
              "2         Tom Heaton            Goalkeeper   188.0  37.0           4   \n",
              "3  Lisandro Martínez  Defender Centre-Back   175.0  25.0          82   \n",
              "4     Raphaël Varane  Defender Centre-Back   191.0  30.0          63   \n",
              "\n",
              "      goals   assists  yellow cards  ...  goals conceded  clean sheets  \\\n",
              "0  0.000000  0.000000      0.009585  ...        1.217252      0.335463   \n",
              "1  0.000000  0.000000      0.069018  ...        1.242331      0.207055   \n",
              "2  0.000000  0.000000      0.000000  ...        0.616438      0.924658   \n",
              "3  0.028090  0.056180      0.224719  ...        0.000000      0.000000   \n",
              "4  0.017889  0.017889      0.053667  ...        0.000000      0.000000   \n",
              "\n",
              "   minutes played  days_injured  games_injured  award  current_value  \\\n",
              "0            9390            42              5     13       15000000   \n",
              "1            1304           510             58      1        1500000   \n",
              "2             292           697             84      4         600000   \n",
              "3            6408           175             22      9       50000000   \n",
              "4            5031           238             51     21       40000000   \n",
              "\n",
              "   highest_value  position_encoded  winger  \n",
              "0       70000000                 1       0  \n",
              "1       22000000                 1       0  \n",
              "2        6000000                 1       0  \n",
              "3       50000000                 2       0  \n",
              "4       80000000                 2       0  \n",
              "\n",
              "[5 rows x 22 columns]"
            ],
            "text/html": [
              "\n",
              "  <div id=\"df-3d88033f-79c0-4ec1-a70a-71f1be4424a4\" class=\"colab-df-container\">\n",
              "    <div>\n",
              "<style scoped>\n",
              "    .dataframe tbody tr th:only-of-type {\n",
              "        vertical-align: middle;\n",
              "    }\n",
              "\n",
              "    .dataframe tbody tr th {\n",
              "        vertical-align: top;\n",
              "    }\n",
              "\n",
              "    .dataframe thead th {\n",
              "        text-align: right;\n",
              "    }\n",
              "</style>\n",
              "<table border=\"1\" class=\"dataframe\">\n",
              "  <thead>\n",
              "    <tr style=\"text-align: right;\">\n",
              "      <th></th>\n",
              "      <th>player</th>\n",
              "      <th>team</th>\n",
              "      <th>name</th>\n",
              "      <th>position</th>\n",
              "      <th>height</th>\n",
              "      <th>age</th>\n",
              "      <th>appearance</th>\n",
              "      <th>goals</th>\n",
              "      <th>assists</th>\n",
              "      <th>yellow cards</th>\n",
              "      <th>...</th>\n",
              "      <th>goals conceded</th>\n",
              "      <th>clean sheets</th>\n",
              "      <th>minutes played</th>\n",
              "      <th>days_injured</th>\n",
              "      <th>games_injured</th>\n",
              "      <th>award</th>\n",
              "      <th>current_value</th>\n",
              "      <th>highest_value</th>\n",
              "      <th>position_encoded</th>\n",
              "      <th>winger</th>\n",
              "    </tr>\n",
              "  </thead>\n",
              "  <tbody>\n",
              "    <tr>\n",
              "      <th>0</th>\n",
              "      <td>/david-de-gea/profil/spieler/59377</td>\n",
              "      <td>Manchester United</td>\n",
              "      <td>David de Gea</td>\n",
              "      <td>Goalkeeper</td>\n",
              "      <td>189.0</td>\n",
              "      <td>32.0</td>\n",
              "      <td>104</td>\n",
              "      <td>0.000000</td>\n",
              "      <td>0.000000</td>\n",
              "      <td>0.009585</td>\n",
              "      <td>...</td>\n",
              "      <td>1.217252</td>\n",
              "      <td>0.335463</td>\n",
              "      <td>9390</td>\n",
              "      <td>42</td>\n",
              "      <td>5</td>\n",
              "      <td>13</td>\n",
              "      <td>15000000</td>\n",
              "      <td>70000000</td>\n",
              "      <td>1</td>\n",
              "      <td>0</td>\n",
              "    </tr>\n",
              "    <tr>\n",
              "      <th>1</th>\n",
              "      <td>/jack-butland/profil/spieler/128899</td>\n",
              "      <td>Manchester United</td>\n",
              "      <td>Jack Butland</td>\n",
              "      <td>Goalkeeper</td>\n",
              "      <td>196.0</td>\n",
              "      <td>30.0</td>\n",
              "      <td>15</td>\n",
              "      <td>0.000000</td>\n",
              "      <td>0.000000</td>\n",
              "      <td>0.069018</td>\n",
              "      <td>...</td>\n",
              "      <td>1.242331</td>\n",
              "      <td>0.207055</td>\n",
              "      <td>1304</td>\n",
              "      <td>510</td>\n",
              "      <td>58</td>\n",
              "      <td>1</td>\n",
              "      <td>1500000</td>\n",
              "      <td>22000000</td>\n",
              "      <td>1</td>\n",
              "      <td>0</td>\n",
              "    </tr>\n",
              "    <tr>\n",
              "      <th>2</th>\n",
              "      <td>/tom-heaton/profil/spieler/34130</td>\n",
              "      <td>Manchester United</td>\n",
              "      <td>Tom Heaton</td>\n",
              "      <td>Goalkeeper</td>\n",
              "      <td>188.0</td>\n",
              "      <td>37.0</td>\n",
              "      <td>4</td>\n",
              "      <td>0.000000</td>\n",
              "      <td>0.000000</td>\n",
              "      <td>0.000000</td>\n",
              "      <td>...</td>\n",
              "      <td>0.616438</td>\n",
              "      <td>0.924658</td>\n",
              "      <td>292</td>\n",
              "      <td>697</td>\n",
              "      <td>84</td>\n",
              "      <td>4</td>\n",
              "      <td>600000</td>\n",
              "      <td>6000000</td>\n",
              "      <td>1</td>\n",
              "      <td>0</td>\n",
              "    </tr>\n",
              "    <tr>\n",
              "      <th>3</th>\n",
              "      <td>/lisandro-martinez/profil/spieler/480762</td>\n",
              "      <td>Manchester United</td>\n",
              "      <td>Lisandro Martínez</td>\n",
              "      <td>Defender Centre-Back</td>\n",
              "      <td>175.0</td>\n",
              "      <td>25.0</td>\n",
              "      <td>82</td>\n",
              "      <td>0.028090</td>\n",
              "      <td>0.056180</td>\n",
              "      <td>0.224719</td>\n",
              "      <td>...</td>\n",
              "      <td>0.000000</td>\n",
              "      <td>0.000000</td>\n",
              "      <td>6408</td>\n",
              "      <td>175</td>\n",
              "      <td>22</td>\n",
              "      <td>9</td>\n",
              "      <td>50000000</td>\n",
              "      <td>50000000</td>\n",
              "      <td>2</td>\n",
              "      <td>0</td>\n",
              "    </tr>\n",
              "    <tr>\n",
              "      <th>4</th>\n",
              "      <td>/raphael-varane/profil/spieler/164770</td>\n",
              "      <td>Manchester United</td>\n",
              "      <td>Raphaël Varane</td>\n",
              "      <td>Defender Centre-Back</td>\n",
              "      <td>191.0</td>\n",
              "      <td>30.0</td>\n",
              "      <td>63</td>\n",
              "      <td>0.017889</td>\n",
              "      <td>0.017889</td>\n",
              "      <td>0.053667</td>\n",
              "      <td>...</td>\n",
              "      <td>0.000000</td>\n",
              "      <td>0.000000</td>\n",
              "      <td>5031</td>\n",
              "      <td>238</td>\n",
              "      <td>51</td>\n",
              "      <td>21</td>\n",
              "      <td>40000000</td>\n",
              "      <td>80000000</td>\n",
              "      <td>2</td>\n",
              "      <td>0</td>\n",
              "    </tr>\n",
              "  </tbody>\n",
              "</table>\n",
              "<p>5 rows × 22 columns</p>\n",
              "</div>\n",
              "    <div class=\"colab-df-buttons\">\n",
              "\n",
              "  <div class=\"colab-df-container\">\n",
              "    <button class=\"colab-df-convert\" onclick=\"convertToInteractive('df-3d88033f-79c0-4ec1-a70a-71f1be4424a4')\"\n",
              "            title=\"Convert this dataframe to an interactive table.\"\n",
              "            style=\"display:none;\">\n",
              "\n",
              "  <svg xmlns=\"http://www.w3.org/2000/svg\" height=\"24px\" viewBox=\"0 -960 960 960\">\n",
              "    <path d=\"M120-120v-720h720v720H120Zm60-500h600v-160H180v160Zm220 220h160v-160H400v160Zm0 220h160v-160H400v160ZM180-400h160v-160H180v160Zm440 0h160v-160H620v160ZM180-180h160v-160H180v160Zm440 0h160v-160H620v160Z\"/>\n",
              "  </svg>\n",
              "    </button>\n",
              "\n",
              "  <style>\n",
              "    .colab-df-container {\n",
              "      display:flex;\n",
              "      gap: 12px;\n",
              "    }\n",
              "\n",
              "    .colab-df-convert {\n",
              "      background-color: #E8F0FE;\n",
              "      border: none;\n",
              "      border-radius: 50%;\n",
              "      cursor: pointer;\n",
              "      display: none;\n",
              "      fill: #1967D2;\n",
              "      height: 32px;\n",
              "      padding: 0 0 0 0;\n",
              "      width: 32px;\n",
              "    }\n",
              "\n",
              "    .colab-df-convert:hover {\n",
              "      background-color: #E2EBFA;\n",
              "      box-shadow: 0px 1px 2px rgba(60, 64, 67, 0.3), 0px 1px 3px 1px rgba(60, 64, 67, 0.15);\n",
              "      fill: #174EA6;\n",
              "    }\n",
              "\n",
              "    .colab-df-buttons div {\n",
              "      margin-bottom: 4px;\n",
              "    }\n",
              "\n",
              "    [theme=dark] .colab-df-convert {\n",
              "      background-color: #3B4455;\n",
              "      fill: #D2E3FC;\n",
              "    }\n",
              "\n",
              "    [theme=dark] .colab-df-convert:hover {\n",
              "      background-color: #434B5C;\n",
              "      box-shadow: 0px 1px 3px 1px rgba(0, 0, 0, 0.15);\n",
              "      filter: drop-shadow(0px 1px 2px rgba(0, 0, 0, 0.3));\n",
              "      fill: #FFFFFF;\n",
              "    }\n",
              "  </style>\n",
              "\n",
              "    <script>\n",
              "      const buttonEl =\n",
              "        document.querySelector('#df-3d88033f-79c0-4ec1-a70a-71f1be4424a4 button.colab-df-convert');\n",
              "      buttonEl.style.display =\n",
              "        google.colab.kernel.accessAllowed ? 'block' : 'none';\n",
              "\n",
              "      async function convertToInteractive(key) {\n",
              "        const element = document.querySelector('#df-3d88033f-79c0-4ec1-a70a-71f1be4424a4');\n",
              "        const dataTable =\n",
              "          await google.colab.kernel.invokeFunction('convertToInteractive',\n",
              "                                                    [key], {});\n",
              "        if (!dataTable) return;\n",
              "\n",
              "        const docLinkHtml = 'Like what you see? Visit the ' +\n",
              "          '<a target=\"_blank\" href=https://colab.research.google.com/notebooks/data_table.ipynb>data table notebook</a>'\n",
              "          + ' to learn more about interactive tables.';\n",
              "        element.innerHTML = '';\n",
              "        dataTable['output_type'] = 'display_data';\n",
              "        await google.colab.output.renderOutput(dataTable, element);\n",
              "        const docLink = document.createElement('div');\n",
              "        docLink.innerHTML = docLinkHtml;\n",
              "        element.appendChild(docLink);\n",
              "      }\n",
              "    </script>\n",
              "  </div>\n",
              "\n",
              "\n",
              "<div id=\"df-441a1789-c1db-457f-b4f9-63664d6da260\">\n",
              "  <button class=\"colab-df-quickchart\" onclick=\"quickchart('df-441a1789-c1db-457f-b4f9-63664d6da260')\"\n",
              "            title=\"Suggest charts\"\n",
              "            style=\"display:none;\">\n",
              "\n",
              "<svg xmlns=\"http://www.w3.org/2000/svg\" height=\"24px\"viewBox=\"0 0 24 24\"\n",
              "     width=\"24px\">\n",
              "    <g>\n",
              "        <path d=\"M19 3H5c-1.1 0-2 .9-2 2v14c0 1.1.9 2 2 2h14c1.1 0 2-.9 2-2V5c0-1.1-.9-2-2-2zM9 17H7v-7h2v7zm4 0h-2V7h2v10zm4 0h-2v-4h2v4z\"/>\n",
              "    </g>\n",
              "</svg>\n",
              "  </button>\n",
              "\n",
              "<style>\n",
              "  .colab-df-quickchart {\n",
              "      --bg-color: #E8F0FE;\n",
              "      --fill-color: #1967D2;\n",
              "      --hover-bg-color: #E2EBFA;\n",
              "      --hover-fill-color: #174EA6;\n",
              "      --disabled-fill-color: #AAA;\n",
              "      --disabled-bg-color: #DDD;\n",
              "  }\n",
              "\n",
              "  [theme=dark] .colab-df-quickchart {\n",
              "      --bg-color: #3B4455;\n",
              "      --fill-color: #D2E3FC;\n",
              "      --hover-bg-color: #434B5C;\n",
              "      --hover-fill-color: #FFFFFF;\n",
              "      --disabled-bg-color: #3B4455;\n",
              "      --disabled-fill-color: #666;\n",
              "  }\n",
              "\n",
              "  .colab-df-quickchart {\n",
              "    background-color: var(--bg-color);\n",
              "    border: none;\n",
              "    border-radius: 50%;\n",
              "    cursor: pointer;\n",
              "    display: none;\n",
              "    fill: var(--fill-color);\n",
              "    height: 32px;\n",
              "    padding: 0;\n",
              "    width: 32px;\n",
              "  }\n",
              "\n",
              "  .colab-df-quickchart:hover {\n",
              "    background-color: var(--hover-bg-color);\n",
              "    box-shadow: 0 1px 2px rgba(60, 64, 67, 0.3), 0 1px 3px 1px rgba(60, 64, 67, 0.15);\n",
              "    fill: var(--button-hover-fill-color);\n",
              "  }\n",
              "\n",
              "  .colab-df-quickchart-complete:disabled,\n",
              "  .colab-df-quickchart-complete:disabled:hover {\n",
              "    background-color: var(--disabled-bg-color);\n",
              "    fill: var(--disabled-fill-color);\n",
              "    box-shadow: none;\n",
              "  }\n",
              "\n",
              "  .colab-df-spinner {\n",
              "    border: 2px solid var(--fill-color);\n",
              "    border-color: transparent;\n",
              "    border-bottom-color: var(--fill-color);\n",
              "    animation:\n",
              "      spin 1s steps(1) infinite;\n",
              "  }\n",
              "\n",
              "  @keyframes spin {\n",
              "    0% {\n",
              "      border-color: transparent;\n",
              "      border-bottom-color: var(--fill-color);\n",
              "      border-left-color: var(--fill-color);\n",
              "    }\n",
              "    20% {\n",
              "      border-color: transparent;\n",
              "      border-left-color: var(--fill-color);\n",
              "      border-top-color: var(--fill-color);\n",
              "    }\n",
              "    30% {\n",
              "      border-color: transparent;\n",
              "      border-left-color: var(--fill-color);\n",
              "      border-top-color: var(--fill-color);\n",
              "      border-right-color: var(--fill-color);\n",
              "    }\n",
              "    40% {\n",
              "      border-color: transparent;\n",
              "      border-right-color: var(--fill-color);\n",
              "      border-top-color: var(--fill-color);\n",
              "    }\n",
              "    60% {\n",
              "      border-color: transparent;\n",
              "      border-right-color: var(--fill-color);\n",
              "    }\n",
              "    80% {\n",
              "      border-color: transparent;\n",
              "      border-right-color: var(--fill-color);\n",
              "      border-bottom-color: var(--fill-color);\n",
              "    }\n",
              "    90% {\n",
              "      border-color: transparent;\n",
              "      border-bottom-color: var(--fill-color);\n",
              "    }\n",
              "  }\n",
              "</style>\n",
              "\n",
              "  <script>\n",
              "    async function quickchart(key) {\n",
              "      const quickchartButtonEl =\n",
              "        document.querySelector('#' + key + ' button');\n",
              "      quickchartButtonEl.disabled = true;  // To prevent multiple clicks.\n",
              "      quickchartButtonEl.classList.add('colab-df-spinner');\n",
              "      try {\n",
              "        const charts = await google.colab.kernel.invokeFunction(\n",
              "            'suggestCharts', [key], {});\n",
              "      } catch (error) {\n",
              "        console.error('Error during call to suggestCharts:', error);\n",
              "      }\n",
              "      quickchartButtonEl.classList.remove('colab-df-spinner');\n",
              "      quickchartButtonEl.classList.add('colab-df-quickchart-complete');\n",
              "    }\n",
              "    (() => {\n",
              "      let quickchartButtonEl =\n",
              "        document.querySelector('#df-441a1789-c1db-457f-b4f9-63664d6da260 button');\n",
              "      quickchartButtonEl.style.display =\n",
              "        google.colab.kernel.accessAllowed ? 'block' : 'none';\n",
              "    })();\n",
              "  </script>\n",
              "</div>\n",
              "\n",
              "    </div>\n",
              "  </div>\n"
            ],
            "application/vnd.google.colaboratory.intrinsic+json": {
              "type": "dataframe",
              "variable_name": "dfTips"
            }
          },
          "metadata": {},
          "execution_count": 24
        }
      ],
      "source": [
        "dfTips.head()"
      ]
    },
    {
      "cell_type": "code",
      "execution_count": 6,
      "metadata": {
        "colab": {
          "base_uri": "https://localhost:8080/",
          "height": 496
        },
        "id": "MQL-w9x0yzkB",
        "outputId": "abbd9874-a4df-4a94-b666-d1d0af4165fd"
      },
      "outputs": [
        {
          "output_type": "execute_result",
          "data": {
            "text/plain": [
              "                                    player                  team      name  \\\n",
              "count                                10754                 10754     10754   \n",
              "unique                               10754                   374     10584   \n",
              "top     /david-de-gea/profil/spieler/59377  Daejeon Hana Citizen  Paulinho   \n",
              "freq                                     1                    46         6   \n",
              "mean                                   NaN                   NaN       NaN   \n",
              "std                                    NaN                   NaN       NaN   \n",
              "min                                    NaN                   NaN       NaN   \n",
              "25%                                    NaN                   NaN       NaN   \n",
              "50%                                    NaN                   NaN       NaN   \n",
              "75%                                    NaN                   NaN       NaN   \n",
              "max                                    NaN                   NaN       NaN   \n",
              "\n",
              "                    position        height           age    appearance  \\\n",
              "count                  10754  10754.000000  10754.000000  10754.000000   \n",
              "unique                    16           NaN           NaN           NaN   \n",
              "top     Defender Centre-Back           NaN           NaN           NaN   \n",
              "freq                    1821           NaN           NaN           NaN   \n",
              "mean                     NaN    181.240353     26.041903     36.407011   \n",
              "std                      NaN      6.969818      4.777629     26.526541   \n",
              "min                      NaN    156.000000     15.000000      0.000000   \n",
              "25%                      NaN    176.000000     22.000000     12.000000   \n",
              "50%                      NaN    181.240353     26.000000     35.000000   \n",
              "75%                      NaN    186.000000     29.000000     59.000000   \n",
              "max                      NaN    206.000000     43.000000    107.000000   \n",
              "\n",
              "               goals       assists  yellow cards  ...  goals conceded  \\\n",
              "count   10754.000000  10754.000000  10754.000000  ...    10754.000000   \n",
              "unique           NaN           NaN           NaN  ...             NaN   \n",
              "top              NaN           NaN           NaN  ...             NaN   \n",
              "freq             NaN           NaN           NaN  ...             NaN   \n",
              "mean        0.125554      0.086978      0.189757  ...        0.131655   \n",
              "std         0.235585      0.143351      0.432388  ...        0.442335   \n",
              "min         0.000000      0.000000      0.000000  ...        0.000000   \n",
              "25%         0.000000      0.000000      0.053191  ...        0.000000   \n",
              "50%         0.045969      0.040773      0.150250  ...        0.000000   \n",
              "75%         0.172263      0.133136      0.248276  ...        0.000000   \n",
              "max        11.250000      4.000000     30.000000  ...        9.000000   \n",
              "\n",
              "        clean sheets  minutes played  days_injured  games_injured  \\\n",
              "count   10754.000000    10754.000000  10754.000000   10754.000000   \n",
              "unique           NaN             NaN           NaN            NaN   \n",
              "top              NaN             NaN           NaN            NaN   \n",
              "freq             NaN             NaN           NaN            NaN   \n",
              "mean        0.044881     2470.789381    117.961689      15.826297   \n",
              "std         0.924437     2021.703271    175.206827      23.383606   \n",
              "min         0.000000        0.000000      0.000000       0.000000   \n",
              "25%         0.000000      660.000000      0.000000       0.000000   \n",
              "50%         0.000000     2101.500000     37.000000       5.000000   \n",
              "75%         0.000000     3968.000000    181.000000      24.000000   \n",
              "max        90.000000     9510.000000   2349.000000     339.000000   \n",
              "\n",
              "               award  current_value  highest_value  position_encoded  \\\n",
              "count   10754.000000   1.075400e+04   1.075400e+04      10754.000000   \n",
              "unique           NaN            NaN            NaN               NaN   \n",
              "top              NaN            NaN            NaN               NaN   \n",
              "freq             NaN            NaN            NaN               NaN   \n",
              "mean        1.960759   3.622971e+06   6.152606e+06          2.713223   \n",
              "std         3.743936   9.095410e+06   1.338988e+07          0.986356   \n",
              "min         0.000000   0.000000e+00   0.000000e+00          1.000000   \n",
              "25%         0.000000   3.000000e+05   4.500000e+05          2.000000   \n",
              "50%         1.000000   8.000000e+05   1.500000e+06          3.000000   \n",
              "75%         2.000000   3.000000e+06   5.000000e+06          4.000000   \n",
              "max        92.000000   1.800000e+08   2.000000e+08          4.000000   \n",
              "\n",
              "              winger  \n",
              "count   10754.000000  \n",
              "unique           NaN  \n",
              "top              NaN  \n",
              "freq             NaN  \n",
              "mean        0.307513  \n",
              "std         0.461485  \n",
              "min         0.000000  \n",
              "25%         0.000000  \n",
              "50%         0.000000  \n",
              "75%         1.000000  \n",
              "max         1.000000  \n",
              "\n",
              "[11 rows x 22 columns]"
            ],
            "text/html": [
              "\n",
              "  <div id=\"df-02fff95e-42d8-43a0-aecb-8fbeb10b3de6\" class=\"colab-df-container\">\n",
              "    <div>\n",
              "<style scoped>\n",
              "    .dataframe tbody tr th:only-of-type {\n",
              "        vertical-align: middle;\n",
              "    }\n",
              "\n",
              "    .dataframe tbody tr th {\n",
              "        vertical-align: top;\n",
              "    }\n",
              "\n",
              "    .dataframe thead th {\n",
              "        text-align: right;\n",
              "    }\n",
              "</style>\n",
              "<table border=\"1\" class=\"dataframe\">\n",
              "  <thead>\n",
              "    <tr style=\"text-align: right;\">\n",
              "      <th></th>\n",
              "      <th>player</th>\n",
              "      <th>team</th>\n",
              "      <th>name</th>\n",
              "      <th>position</th>\n",
              "      <th>height</th>\n",
              "      <th>age</th>\n",
              "      <th>appearance</th>\n",
              "      <th>goals</th>\n",
              "      <th>assists</th>\n",
              "      <th>yellow cards</th>\n",
              "      <th>...</th>\n",
              "      <th>goals conceded</th>\n",
              "      <th>clean sheets</th>\n",
              "      <th>minutes played</th>\n",
              "      <th>days_injured</th>\n",
              "      <th>games_injured</th>\n",
              "      <th>award</th>\n",
              "      <th>current_value</th>\n",
              "      <th>highest_value</th>\n",
              "      <th>position_encoded</th>\n",
              "      <th>winger</th>\n",
              "    </tr>\n",
              "  </thead>\n",
              "  <tbody>\n",
              "    <tr>\n",
              "      <th>count</th>\n",
              "      <td>10754</td>\n",
              "      <td>10754</td>\n",
              "      <td>10754</td>\n",
              "      <td>10754</td>\n",
              "      <td>10754.000000</td>\n",
              "      <td>10754.000000</td>\n",
              "      <td>10754.000000</td>\n",
              "      <td>10754.000000</td>\n",
              "      <td>10754.000000</td>\n",
              "      <td>10754.000000</td>\n",
              "      <td>...</td>\n",
              "      <td>10754.000000</td>\n",
              "      <td>10754.000000</td>\n",
              "      <td>10754.000000</td>\n",
              "      <td>10754.000000</td>\n",
              "      <td>10754.000000</td>\n",
              "      <td>10754.000000</td>\n",
              "      <td>1.075400e+04</td>\n",
              "      <td>1.075400e+04</td>\n",
              "      <td>10754.000000</td>\n",
              "      <td>10754.000000</td>\n",
              "    </tr>\n",
              "    <tr>\n",
              "      <th>unique</th>\n",
              "      <td>10754</td>\n",
              "      <td>374</td>\n",
              "      <td>10584</td>\n",
              "      <td>16</td>\n",
              "      <td>NaN</td>\n",
              "      <td>NaN</td>\n",
              "      <td>NaN</td>\n",
              "      <td>NaN</td>\n",
              "      <td>NaN</td>\n",
              "      <td>NaN</td>\n",
              "      <td>...</td>\n",
              "      <td>NaN</td>\n",
              "      <td>NaN</td>\n",
              "      <td>NaN</td>\n",
              "      <td>NaN</td>\n",
              "      <td>NaN</td>\n",
              "      <td>NaN</td>\n",
              "      <td>NaN</td>\n",
              "      <td>NaN</td>\n",
              "      <td>NaN</td>\n",
              "      <td>NaN</td>\n",
              "    </tr>\n",
              "    <tr>\n",
              "      <th>top</th>\n",
              "      <td>/david-de-gea/profil/spieler/59377</td>\n",
              "      <td>Daejeon Hana Citizen</td>\n",
              "      <td>Paulinho</td>\n",
              "      <td>Defender Centre-Back</td>\n",
              "      <td>NaN</td>\n",
              "      <td>NaN</td>\n",
              "      <td>NaN</td>\n",
              "      <td>NaN</td>\n",
              "      <td>NaN</td>\n",
              "      <td>NaN</td>\n",
              "      <td>...</td>\n",
              "      <td>NaN</td>\n",
              "      <td>NaN</td>\n",
              "      <td>NaN</td>\n",
              "      <td>NaN</td>\n",
              "      <td>NaN</td>\n",
              "      <td>NaN</td>\n",
              "      <td>NaN</td>\n",
              "      <td>NaN</td>\n",
              "      <td>NaN</td>\n",
              "      <td>NaN</td>\n",
              "    </tr>\n",
              "    <tr>\n",
              "      <th>freq</th>\n",
              "      <td>1</td>\n",
              "      <td>46</td>\n",
              "      <td>6</td>\n",
              "      <td>1821</td>\n",
              "      <td>NaN</td>\n",
              "      <td>NaN</td>\n",
              "      <td>NaN</td>\n",
              "      <td>NaN</td>\n",
              "      <td>NaN</td>\n",
              "      <td>NaN</td>\n",
              "      <td>...</td>\n",
              "      <td>NaN</td>\n",
              "      <td>NaN</td>\n",
              "      <td>NaN</td>\n",
              "      <td>NaN</td>\n",
              "      <td>NaN</td>\n",
              "      <td>NaN</td>\n",
              "      <td>NaN</td>\n",
              "      <td>NaN</td>\n",
              "      <td>NaN</td>\n",
              "      <td>NaN</td>\n",
              "    </tr>\n",
              "    <tr>\n",
              "      <th>mean</th>\n",
              "      <td>NaN</td>\n",
              "      <td>NaN</td>\n",
              "      <td>NaN</td>\n",
              "      <td>NaN</td>\n",
              "      <td>181.240353</td>\n",
              "      <td>26.041903</td>\n",
              "      <td>36.407011</td>\n",
              "      <td>0.125554</td>\n",
              "      <td>0.086978</td>\n",
              "      <td>0.189757</td>\n",
              "      <td>...</td>\n",
              "      <td>0.131655</td>\n",
              "      <td>0.044881</td>\n",
              "      <td>2470.789381</td>\n",
              "      <td>117.961689</td>\n",
              "      <td>15.826297</td>\n",
              "      <td>1.960759</td>\n",
              "      <td>3.622971e+06</td>\n",
              "      <td>6.152606e+06</td>\n",
              "      <td>2.713223</td>\n",
              "      <td>0.307513</td>\n",
              "    </tr>\n",
              "    <tr>\n",
              "      <th>std</th>\n",
              "      <td>NaN</td>\n",
              "      <td>NaN</td>\n",
              "      <td>NaN</td>\n",
              "      <td>NaN</td>\n",
              "      <td>6.969818</td>\n",
              "      <td>4.777629</td>\n",
              "      <td>26.526541</td>\n",
              "      <td>0.235585</td>\n",
              "      <td>0.143351</td>\n",
              "      <td>0.432388</td>\n",
              "      <td>...</td>\n",
              "      <td>0.442335</td>\n",
              "      <td>0.924437</td>\n",
              "      <td>2021.703271</td>\n",
              "      <td>175.206827</td>\n",
              "      <td>23.383606</td>\n",
              "      <td>3.743936</td>\n",
              "      <td>9.095410e+06</td>\n",
              "      <td>1.338988e+07</td>\n",
              "      <td>0.986356</td>\n",
              "      <td>0.461485</td>\n",
              "    </tr>\n",
              "    <tr>\n",
              "      <th>min</th>\n",
              "      <td>NaN</td>\n",
              "      <td>NaN</td>\n",
              "      <td>NaN</td>\n",
              "      <td>NaN</td>\n",
              "      <td>156.000000</td>\n",
              "      <td>15.000000</td>\n",
              "      <td>0.000000</td>\n",
              "      <td>0.000000</td>\n",
              "      <td>0.000000</td>\n",
              "      <td>0.000000</td>\n",
              "      <td>...</td>\n",
              "      <td>0.000000</td>\n",
              "      <td>0.000000</td>\n",
              "      <td>0.000000</td>\n",
              "      <td>0.000000</td>\n",
              "      <td>0.000000</td>\n",
              "      <td>0.000000</td>\n",
              "      <td>0.000000e+00</td>\n",
              "      <td>0.000000e+00</td>\n",
              "      <td>1.000000</td>\n",
              "      <td>0.000000</td>\n",
              "    </tr>\n",
              "    <tr>\n",
              "      <th>25%</th>\n",
              "      <td>NaN</td>\n",
              "      <td>NaN</td>\n",
              "      <td>NaN</td>\n",
              "      <td>NaN</td>\n",
              "      <td>176.000000</td>\n",
              "      <td>22.000000</td>\n",
              "      <td>12.000000</td>\n",
              "      <td>0.000000</td>\n",
              "      <td>0.000000</td>\n",
              "      <td>0.053191</td>\n",
              "      <td>...</td>\n",
              "      <td>0.000000</td>\n",
              "      <td>0.000000</td>\n",
              "      <td>660.000000</td>\n",
              "      <td>0.000000</td>\n",
              "      <td>0.000000</td>\n",
              "      <td>0.000000</td>\n",
              "      <td>3.000000e+05</td>\n",
              "      <td>4.500000e+05</td>\n",
              "      <td>2.000000</td>\n",
              "      <td>0.000000</td>\n",
              "    </tr>\n",
              "    <tr>\n",
              "      <th>50%</th>\n",
              "      <td>NaN</td>\n",
              "      <td>NaN</td>\n",
              "      <td>NaN</td>\n",
              "      <td>NaN</td>\n",
              "      <td>181.240353</td>\n",
              "      <td>26.000000</td>\n",
              "      <td>35.000000</td>\n",
              "      <td>0.045969</td>\n",
              "      <td>0.040773</td>\n",
              "      <td>0.150250</td>\n",
              "      <td>...</td>\n",
              "      <td>0.000000</td>\n",
              "      <td>0.000000</td>\n",
              "      <td>2101.500000</td>\n",
              "      <td>37.000000</td>\n",
              "      <td>5.000000</td>\n",
              "      <td>1.000000</td>\n",
              "      <td>8.000000e+05</td>\n",
              "      <td>1.500000e+06</td>\n",
              "      <td>3.000000</td>\n",
              "      <td>0.000000</td>\n",
              "    </tr>\n",
              "    <tr>\n",
              "      <th>75%</th>\n",
              "      <td>NaN</td>\n",
              "      <td>NaN</td>\n",
              "      <td>NaN</td>\n",
              "      <td>NaN</td>\n",
              "      <td>186.000000</td>\n",
              "      <td>29.000000</td>\n",
              "      <td>59.000000</td>\n",
              "      <td>0.172263</td>\n",
              "      <td>0.133136</td>\n",
              "      <td>0.248276</td>\n",
              "      <td>...</td>\n",
              "      <td>0.000000</td>\n",
              "      <td>0.000000</td>\n",
              "      <td>3968.000000</td>\n",
              "      <td>181.000000</td>\n",
              "      <td>24.000000</td>\n",
              "      <td>2.000000</td>\n",
              "      <td>3.000000e+06</td>\n",
              "      <td>5.000000e+06</td>\n",
              "      <td>4.000000</td>\n",
              "      <td>1.000000</td>\n",
              "    </tr>\n",
              "    <tr>\n",
              "      <th>max</th>\n",
              "      <td>NaN</td>\n",
              "      <td>NaN</td>\n",
              "      <td>NaN</td>\n",
              "      <td>NaN</td>\n",
              "      <td>206.000000</td>\n",
              "      <td>43.000000</td>\n",
              "      <td>107.000000</td>\n",
              "      <td>11.250000</td>\n",
              "      <td>4.000000</td>\n",
              "      <td>30.000000</td>\n",
              "      <td>...</td>\n",
              "      <td>9.000000</td>\n",
              "      <td>90.000000</td>\n",
              "      <td>9510.000000</td>\n",
              "      <td>2349.000000</td>\n",
              "      <td>339.000000</td>\n",
              "      <td>92.000000</td>\n",
              "      <td>1.800000e+08</td>\n",
              "      <td>2.000000e+08</td>\n",
              "      <td>4.000000</td>\n",
              "      <td>1.000000</td>\n",
              "    </tr>\n",
              "  </tbody>\n",
              "</table>\n",
              "<p>11 rows × 22 columns</p>\n",
              "</div>\n",
              "    <div class=\"colab-df-buttons\">\n",
              "\n",
              "  <div class=\"colab-df-container\">\n",
              "    <button class=\"colab-df-convert\" onclick=\"convertToInteractive('df-02fff95e-42d8-43a0-aecb-8fbeb10b3de6')\"\n",
              "            title=\"Convert this dataframe to an interactive table.\"\n",
              "            style=\"display:none;\">\n",
              "\n",
              "  <svg xmlns=\"http://www.w3.org/2000/svg\" height=\"24px\" viewBox=\"0 -960 960 960\">\n",
              "    <path d=\"M120-120v-720h720v720H120Zm60-500h600v-160H180v160Zm220 220h160v-160H400v160Zm0 220h160v-160H400v160ZM180-400h160v-160H180v160Zm440 0h160v-160H620v160ZM180-180h160v-160H180v160Zm440 0h160v-160H620v160Z\"/>\n",
              "  </svg>\n",
              "    </button>\n",
              "\n",
              "  <style>\n",
              "    .colab-df-container {\n",
              "      display:flex;\n",
              "      gap: 12px;\n",
              "    }\n",
              "\n",
              "    .colab-df-convert {\n",
              "      background-color: #E8F0FE;\n",
              "      border: none;\n",
              "      border-radius: 50%;\n",
              "      cursor: pointer;\n",
              "      display: none;\n",
              "      fill: #1967D2;\n",
              "      height: 32px;\n",
              "      padding: 0 0 0 0;\n",
              "      width: 32px;\n",
              "    }\n",
              "\n",
              "    .colab-df-convert:hover {\n",
              "      background-color: #E2EBFA;\n",
              "      box-shadow: 0px 1px 2px rgba(60, 64, 67, 0.3), 0px 1px 3px 1px rgba(60, 64, 67, 0.15);\n",
              "      fill: #174EA6;\n",
              "    }\n",
              "\n",
              "    .colab-df-buttons div {\n",
              "      margin-bottom: 4px;\n",
              "    }\n",
              "\n",
              "    [theme=dark] .colab-df-convert {\n",
              "      background-color: #3B4455;\n",
              "      fill: #D2E3FC;\n",
              "    }\n",
              "\n",
              "    [theme=dark] .colab-df-convert:hover {\n",
              "      background-color: #434B5C;\n",
              "      box-shadow: 0px 1px 3px 1px rgba(0, 0, 0, 0.15);\n",
              "      filter: drop-shadow(0px 1px 2px rgba(0, 0, 0, 0.3));\n",
              "      fill: #FFFFFF;\n",
              "    }\n",
              "  </style>\n",
              "\n",
              "    <script>\n",
              "      const buttonEl =\n",
              "        document.querySelector('#df-02fff95e-42d8-43a0-aecb-8fbeb10b3de6 button.colab-df-convert');\n",
              "      buttonEl.style.display =\n",
              "        google.colab.kernel.accessAllowed ? 'block' : 'none';\n",
              "\n",
              "      async function convertToInteractive(key) {\n",
              "        const element = document.querySelector('#df-02fff95e-42d8-43a0-aecb-8fbeb10b3de6');\n",
              "        const dataTable =\n",
              "          await google.colab.kernel.invokeFunction('convertToInteractive',\n",
              "                                                    [key], {});\n",
              "        if (!dataTable) return;\n",
              "\n",
              "        const docLinkHtml = 'Like what you see? Visit the ' +\n",
              "          '<a target=\"_blank\" href=https://colab.research.google.com/notebooks/data_table.ipynb>data table notebook</a>'\n",
              "          + ' to learn more about interactive tables.';\n",
              "        element.innerHTML = '';\n",
              "        dataTable['output_type'] = 'display_data';\n",
              "        await google.colab.output.renderOutput(dataTable, element);\n",
              "        const docLink = document.createElement('div');\n",
              "        docLink.innerHTML = docLinkHtml;\n",
              "        element.appendChild(docLink);\n",
              "      }\n",
              "    </script>\n",
              "  </div>\n",
              "\n",
              "\n",
              "<div id=\"df-925fae1b-1a01-4037-8784-6dcc4bd684d5\">\n",
              "  <button class=\"colab-df-quickchart\" onclick=\"quickchart('df-925fae1b-1a01-4037-8784-6dcc4bd684d5')\"\n",
              "            title=\"Suggest charts\"\n",
              "            style=\"display:none;\">\n",
              "\n",
              "<svg xmlns=\"http://www.w3.org/2000/svg\" height=\"24px\"viewBox=\"0 0 24 24\"\n",
              "     width=\"24px\">\n",
              "    <g>\n",
              "        <path d=\"M19 3H5c-1.1 0-2 .9-2 2v14c0 1.1.9 2 2 2h14c1.1 0 2-.9 2-2V5c0-1.1-.9-2-2-2zM9 17H7v-7h2v7zm4 0h-2V7h2v10zm4 0h-2v-4h2v4z\"/>\n",
              "    </g>\n",
              "</svg>\n",
              "  </button>\n",
              "\n",
              "<style>\n",
              "  .colab-df-quickchart {\n",
              "      --bg-color: #E8F0FE;\n",
              "      --fill-color: #1967D2;\n",
              "      --hover-bg-color: #E2EBFA;\n",
              "      --hover-fill-color: #174EA6;\n",
              "      --disabled-fill-color: #AAA;\n",
              "      --disabled-bg-color: #DDD;\n",
              "  }\n",
              "\n",
              "  [theme=dark] .colab-df-quickchart {\n",
              "      --bg-color: #3B4455;\n",
              "      --fill-color: #D2E3FC;\n",
              "      --hover-bg-color: #434B5C;\n",
              "      --hover-fill-color: #FFFFFF;\n",
              "      --disabled-bg-color: #3B4455;\n",
              "      --disabled-fill-color: #666;\n",
              "  }\n",
              "\n",
              "  .colab-df-quickchart {\n",
              "    background-color: var(--bg-color);\n",
              "    border: none;\n",
              "    border-radius: 50%;\n",
              "    cursor: pointer;\n",
              "    display: none;\n",
              "    fill: var(--fill-color);\n",
              "    height: 32px;\n",
              "    padding: 0;\n",
              "    width: 32px;\n",
              "  }\n",
              "\n",
              "  .colab-df-quickchart:hover {\n",
              "    background-color: var(--hover-bg-color);\n",
              "    box-shadow: 0 1px 2px rgba(60, 64, 67, 0.3), 0 1px 3px 1px rgba(60, 64, 67, 0.15);\n",
              "    fill: var(--button-hover-fill-color);\n",
              "  }\n",
              "\n",
              "  .colab-df-quickchart-complete:disabled,\n",
              "  .colab-df-quickchart-complete:disabled:hover {\n",
              "    background-color: var(--disabled-bg-color);\n",
              "    fill: var(--disabled-fill-color);\n",
              "    box-shadow: none;\n",
              "  }\n",
              "\n",
              "  .colab-df-spinner {\n",
              "    border: 2px solid var(--fill-color);\n",
              "    border-color: transparent;\n",
              "    border-bottom-color: var(--fill-color);\n",
              "    animation:\n",
              "      spin 1s steps(1) infinite;\n",
              "  }\n",
              "\n",
              "  @keyframes spin {\n",
              "    0% {\n",
              "      border-color: transparent;\n",
              "      border-bottom-color: var(--fill-color);\n",
              "      border-left-color: var(--fill-color);\n",
              "    }\n",
              "    20% {\n",
              "      border-color: transparent;\n",
              "      border-left-color: var(--fill-color);\n",
              "      border-top-color: var(--fill-color);\n",
              "    }\n",
              "    30% {\n",
              "      border-color: transparent;\n",
              "      border-left-color: var(--fill-color);\n",
              "      border-top-color: var(--fill-color);\n",
              "      border-right-color: var(--fill-color);\n",
              "    }\n",
              "    40% {\n",
              "      border-color: transparent;\n",
              "      border-right-color: var(--fill-color);\n",
              "      border-top-color: var(--fill-color);\n",
              "    }\n",
              "    60% {\n",
              "      border-color: transparent;\n",
              "      border-right-color: var(--fill-color);\n",
              "    }\n",
              "    80% {\n",
              "      border-color: transparent;\n",
              "      border-right-color: var(--fill-color);\n",
              "      border-bottom-color: var(--fill-color);\n",
              "    }\n",
              "    90% {\n",
              "      border-color: transparent;\n",
              "      border-bottom-color: var(--fill-color);\n",
              "    }\n",
              "  }\n",
              "</style>\n",
              "\n",
              "  <script>\n",
              "    async function quickchart(key) {\n",
              "      const quickchartButtonEl =\n",
              "        document.querySelector('#' + key + ' button');\n",
              "      quickchartButtonEl.disabled = true;  // To prevent multiple clicks.\n",
              "      quickchartButtonEl.classList.add('colab-df-spinner');\n",
              "      try {\n",
              "        const charts = await google.colab.kernel.invokeFunction(\n",
              "            'suggestCharts', [key], {});\n",
              "      } catch (error) {\n",
              "        console.error('Error during call to suggestCharts:', error);\n",
              "      }\n",
              "      quickchartButtonEl.classList.remove('colab-df-spinner');\n",
              "      quickchartButtonEl.classList.add('colab-df-quickchart-complete');\n",
              "    }\n",
              "    (() => {\n",
              "      let quickchartButtonEl =\n",
              "        document.querySelector('#df-925fae1b-1a01-4037-8784-6dcc4bd684d5 button');\n",
              "      quickchartButtonEl.style.display =\n",
              "        google.colab.kernel.accessAllowed ? 'block' : 'none';\n",
              "    })();\n",
              "  </script>\n",
              "</div>\n",
              "\n",
              "    </div>\n",
              "  </div>\n"
            ],
            "application/vnd.google.colaboratory.intrinsic+json": {
              "type": "dataframe"
            }
          },
          "metadata": {},
          "execution_count": 6
        }
      ],
      "source": [
        "dfTips.describe(include='all')"
      ]
    },
    {
      "cell_type": "markdown",
      "metadata": {
        "id": "lobknQmbyzkC"
      },
      "source": [
        "## Fit a Regression Model to Predict Tip"
      ]
    },
    {
      "cell_type": "code",
      "execution_count": 7,
      "metadata": {
        "id": "TXNmqKfyyzkC"
      },
      "outputs": [],
      "source": [
        "# Assign independent(Y) and dependent(X) variables\n",
        "X = dfTips.loc[:,['height','age', 'appearance', 'goals', 'assists', 'clean sheets', 'days_injured', 'award']]\n",
        "Y = dfTips.loc[:,['current_value']]"
      ]
    },
    {
      "cell_type": "code",
      "execution_count": 8,
      "metadata": {
        "colab": {
          "base_uri": "https://localhost:8080/",
          "height": 75
        },
        "id": "HQZUnI7-yzkC",
        "outputId": "b968771f-f6b0-4df1-ce9e-d76764f70178"
      },
      "outputs": [
        {
          "output_type": "execute_result",
          "data": {
            "text/plain": [
              "LinearRegression()"
            ],
            "text/html": [
              "<style>#sk-container-id-1 {color: black;background-color: white;}#sk-container-id-1 pre{padding: 0;}#sk-container-id-1 div.sk-toggleable {background-color: white;}#sk-container-id-1 label.sk-toggleable__label {cursor: pointer;display: block;width: 100%;margin-bottom: 0;padding: 0.3em;box-sizing: border-box;text-align: center;}#sk-container-id-1 label.sk-toggleable__label-arrow:before {content: \"▸\";float: left;margin-right: 0.25em;color: #696969;}#sk-container-id-1 label.sk-toggleable__label-arrow:hover:before {color: black;}#sk-container-id-1 div.sk-estimator:hover label.sk-toggleable__label-arrow:before {color: black;}#sk-container-id-1 div.sk-toggleable__content {max-height: 0;max-width: 0;overflow: hidden;text-align: left;background-color: #f0f8ff;}#sk-container-id-1 div.sk-toggleable__content pre {margin: 0.2em;color: black;border-radius: 0.25em;background-color: #f0f8ff;}#sk-container-id-1 input.sk-toggleable__control:checked~div.sk-toggleable__content {max-height: 200px;max-width: 100%;overflow: auto;}#sk-container-id-1 input.sk-toggleable__control:checked~label.sk-toggleable__label-arrow:before {content: \"▾\";}#sk-container-id-1 div.sk-estimator input.sk-toggleable__control:checked~label.sk-toggleable__label {background-color: #d4ebff;}#sk-container-id-1 div.sk-label input.sk-toggleable__control:checked~label.sk-toggleable__label {background-color: #d4ebff;}#sk-container-id-1 input.sk-hidden--visually {border: 0;clip: rect(1px 1px 1px 1px);clip: rect(1px, 1px, 1px, 1px);height: 1px;margin: -1px;overflow: hidden;padding: 0;position: absolute;width: 1px;}#sk-container-id-1 div.sk-estimator {font-family: monospace;background-color: #f0f8ff;border: 1px dotted black;border-radius: 0.25em;box-sizing: border-box;margin-bottom: 0.5em;}#sk-container-id-1 div.sk-estimator:hover {background-color: #d4ebff;}#sk-container-id-1 div.sk-parallel-item::after {content: \"\";width: 100%;border-bottom: 1px solid gray;flex-grow: 1;}#sk-container-id-1 div.sk-label:hover label.sk-toggleable__label {background-color: #d4ebff;}#sk-container-id-1 div.sk-serial::before {content: \"\";position: absolute;border-left: 1px solid gray;box-sizing: border-box;top: 0;bottom: 0;left: 50%;z-index: 0;}#sk-container-id-1 div.sk-serial {display: flex;flex-direction: column;align-items: center;background-color: white;padding-right: 0.2em;padding-left: 0.2em;position: relative;}#sk-container-id-1 div.sk-item {position: relative;z-index: 1;}#sk-container-id-1 div.sk-parallel {display: flex;align-items: stretch;justify-content: center;background-color: white;position: relative;}#sk-container-id-1 div.sk-item::before, #sk-container-id-1 div.sk-parallel-item::before {content: \"\";position: absolute;border-left: 1px solid gray;box-sizing: border-box;top: 0;bottom: 0;left: 50%;z-index: -1;}#sk-container-id-1 div.sk-parallel-item {display: flex;flex-direction: column;z-index: 1;position: relative;background-color: white;}#sk-container-id-1 div.sk-parallel-item:first-child::after {align-self: flex-end;width: 50%;}#sk-container-id-1 div.sk-parallel-item:last-child::after {align-self: flex-start;width: 50%;}#sk-container-id-1 div.sk-parallel-item:only-child::after {width: 0;}#sk-container-id-1 div.sk-dashed-wrapped {border: 1px dashed gray;margin: 0 0.4em 0.5em 0.4em;box-sizing: border-box;padding-bottom: 0.4em;background-color: white;}#sk-container-id-1 div.sk-label label {font-family: monospace;font-weight: bold;display: inline-block;line-height: 1.2em;}#sk-container-id-1 div.sk-label-container {text-align: center;}#sk-container-id-1 div.sk-container {/* jupyter's `normalize.less` sets `[hidden] { display: none; }` but bootstrap.min.css set `[hidden] { display: none !important; }` so we also need the `!important` here to be able to override the default hidden behavior on the sphinx rendered scikit-learn.org. See: https://github.com/scikit-learn/scikit-learn/issues/21755 */display: inline-block !important;position: relative;}#sk-container-id-1 div.sk-text-repr-fallback {display: none;}</style><div id=\"sk-container-id-1\" class=\"sk-top-container\"><div class=\"sk-text-repr-fallback\"><pre>LinearRegression()</pre><b>In a Jupyter environment, please rerun this cell to show the HTML representation or trust the notebook. <br />On GitHub, the HTML representation is unable to render, please try loading this page with nbviewer.org.</b></div><div class=\"sk-container\" hidden><div class=\"sk-item\"><div class=\"sk-estimator sk-toggleable\"><input class=\"sk-toggleable__control sk-hidden--visually\" id=\"sk-estimator-id-1\" type=\"checkbox\" checked><label for=\"sk-estimator-id-1\" class=\"sk-toggleable__label sk-toggleable__label-arrow\">LinearRegression</label><div class=\"sk-toggleable__content\"><pre>LinearRegression()</pre></div></div></div></div></div>"
            ]
          },
          "metadata": {},
          "execution_count": 8
        }
      ],
      "source": [
        "# Fit linear regression model - aka train model\n",
        "from sklearn import linear_model\n",
        "regr = linear_model.LinearRegression()\n",
        "regr.fit(X, Y)"
      ]
    },
    {
      "cell_type": "code",
      "execution_count": 9,
      "metadata": {
        "colab": {
          "base_uri": "https://localhost:8080/"
        },
        "id": "vwHSGWHHyzkD",
        "outputId": "fbf4ea83-49ec-4676-e477-4471a5abf396"
      },
      "outputs": [
        {
          "output_type": "stream",
          "name": "stdout",
          "text": [
            "Intercept: \n",
            " [-568835.5265041]\n",
            "Coefficients: \n",
            " [[ 4.68392007e+04 -4.21224768e+05  1.26462075e+05  1.05873841e+06\n",
            "   3.04838120e+06  8.44277416e+04  2.94714137e+03  6.72460374e+05]]\n"
          ]
        }
      ],
      "source": [
        "# Display regression model\n",
        "print('Intercept: \\n', regr.intercept_)\n",
        "print('Coefficients: \\n', regr.coef_)"
      ]
    },
    {
      "cell_type": "code",
      "execution_count": 10,
      "metadata": {
        "colab": {
          "base_uri": "https://localhost:8080/"
        },
        "id": "C_UAPiW0yzkD",
        "outputId": "442b4fbe-e56e-42eb-bfda-744b633a0554"
      },
      "outputs": [
        {
          "output_type": "stream",
          "name": "stdout",
          "text": [
            "Predicted current_value: \n",
            " [[44184362.91821593]]\n"
          ]
        },
        {
          "output_type": "stream",
          "name": "stderr",
          "text": [
            "/usr/local/lib/python3.10/dist-packages/sklearn/base.py:439: UserWarning: X does not have valid feature names, but LinearRegression was fitted with feature names\n",
            "  warnings.warn(\n"
          ]
        }
      ],
      "source": [
        "# Generate new prediction - aka run scoring model\n",
        "New_Height = 186.0\n",
        "New_Age = 27\n",
        "New_Appearance = 78\n",
        "New_Goals = 14\n",
        "New_Assists = 7\n",
        "New_Clean_Sheets = 0\n",
        "New_Days_Injured = 15\n",
        "New_Award = 2\n",
        "print ('Predicted current_value: \\n', regr.predict([[New_Height ,New_Age ,New_Appearance,New_Goals,New_Assists,New_Clean_Sheets,New_Days_Injured,New_Award]]))"
      ]
    },
    {
      "cell_type": "markdown",
      "metadata": {
        "id": "m9P8c1IvyzkE"
      },
      "source": [
        "## Explore Data"
      ]
    },
    {
      "cell_type": "markdown",
      "metadata": {
        "id": "BcPhES5qyzkH"
      },
      "source": [
        "### EDA in Python"
      ]
    },
    {
      "cell_type": "markdown",
      "metadata": {
        "id": "snJaOpZXyzkH"
      },
      "source": [
        "#### Histogram of value where the bins cover 1,000,000 increments"
      ]
    },
    {
      "cell_type": "code",
      "execution_count": 18,
      "metadata": {
        "collapsed": true,
        "jupyter": {
          "outputs_hidden": true,
          "source_hidden": true
        },
        "colab": {
          "base_uri": "https://localhost:8080/",
          "height": 450
        },
        "id": "JIEz2mljyzkH",
        "outputId": "e3bb554c-4e2e-4762-b1ba-d278c5cc5e80"
      },
      "outputs": [
        {
          "output_type": "display_data",
          "data": {
            "text/plain": [
              "<Figure size 640x480 with 1 Axes>"
            ],
            "image/png": "[encoded data removed]"
          },
          "metadata": {}
        }
      ],
      "source": [
        "# Set data fields\n",
        "y = dfTips.loc[:,'current_value']\n",
        "\n",
        "# Set histogram parameters\n",
        "binwidth = 1000000.0\n",
        "binrange=np.arange(min(y), max(y) + binwidth, binwidth)\n",
        "\n",
        "# Show plot\n",
        "plt.hist(y, bins=binrange)\n",
        "plt.xlabel('current_value')\n",
        "plt.ylabel('count')\n",
        "plt.show()"
      ]
    },
    {
      "cell_type": "markdown",
      "metadata": {
        "jupyter": {
          "source_hidden": true
        },
        "id": "fMUEaaCAyzkH"
      },
      "source": [
        "The distribution of values is skewed right and unimodal."
      ]
    },
    {
      "cell_type": "markdown",
      "metadata": {
        "jupyter": {
          "source_hidden": true
        },
        "id": "yD7vulMsyzkI"
      },
      "source": [
        "#### Histogram of value where the bins cover 20,000 increments"
      ]
    },
    {
      "cell_type": "code",
      "execution_count": 20,
      "metadata": {
        "collapsed": true,
        "jupyter": {
          "outputs_hidden": true,
          "source_hidden": true
        },
        "colab": {
          "base_uri": "https://localhost:8080/",
          "height": 450
        },
        "id": "HR5pYjEvyzkI",
        "outputId": "f72f1a94-12ff-4de0-c441-98ca1d2b93a0"
      },
      "outputs": [
        {
          "output_type": "display_data",
          "data": {
            "text/plain": [
              "<Figure size 640x480 with 1 Axes>"
            ],
            "image/png": "[encoded data removed]"
          },
          "metadata": {}
        }
      ],
      "source": [
        "# Set data fields\n",
        "y = dfTips.loc[:,'current_value']\n",
        "\n",
        "# Set histogram parameters\n",
        "binwidth = 20000.0\n",
        "binrange=np.arange(min(y), max(y) + binwidth, binwidth)\n",
        "\n",
        "# Show plot\n",
        "plt.hist(y, bins=binrange)\n",
        "plt.xlabel('current_value')\n",
        "plt.ylabel('count')\n",
        "plt.show()"
      ]
    },
    {
      "cell_type": "markdown",
      "metadata": {
        "jupyter": {
          "source_hidden": true
        },
        "id": "4GZLD7qwyzkI"
      },
      "source": [
        "A not very interesting thing is that values are peaked at some certain levels with many zeros, (probably) like 1,000,000 etc."
      ]
    },
    {
      "cell_type": "markdown",
      "metadata": {
        "jupyter": {
          "source_hidden": true
        },
        "id": "66VxcxaDyzkI"
      },
      "source": [
        "#### Scatterplot of tips vs. bill"
      ]
    },
    {
      "cell_type": "code",
      "execution_count": 23,
      "metadata": {
        "collapsed": true,
        "jupyter": {
          "outputs_hidden": true,
          "source_hidden": true
        },
        "colab": {
          "base_uri": "https://localhost:8080/",
          "height": 465
        },
        "id": "yTT1dIuHyzkI",
        "outputId": "df550289-a9be-4214-f67e-517f76eb1e9e"
      },
      "outputs": [
        {
          "output_type": "display_data",
          "data": {
            "text/plain": [
              "<Figure size 640x480 with 1 Axes>"
            ],
            "image/png": "[encoded data removed]"
          },
          "metadata": {}
        }
      ],
      "source": [
        "# Set data fields\n",
        "x = dfTips.loc[:,'age']\n",
        "y = dfTips.loc[:,'current_value']\n",
        "\n",
        "# Generate trendline\n",
        "z = np.polyfit(x, y, 1)\n",
        "p = np.poly1d(z)\n",
        "\n",
        "# Show plot\n",
        "plt.scatter(x, y)\n",
        "plt.plot(x,p(x),\"r--\")\n",
        "plt.xlim(0,np.max(dfTips.loc[:,'age']))\n",
        "plt.ylim(0,np.max(dfTips.loc[:,'current_value']))\n",
        "plt.xlabel('Age')\n",
        "plt.ylabel('current_value')\n",
        "plt.show()"
      ]
    },
    {
      "cell_type": "markdown",
      "metadata": {
        "jupyter": {
          "source_hidden": true
        },
        "id": "9Zpc5OuOyzkJ"
      },
      "source": [
        "To be honest I expected more in this plot, but still it can be seen that with age goes higher, maximum value among current_value gets lower. This is an expected phenomenon in football, since younger players shows more promise."
      ]
    },
    {
      "cell_type": "markdown",
      "metadata": {
        "jupyter": {
          "source_hidden": true
        },
        "id": "6Ftt4x3NyzkJ"
      },
      "source": [
        "#### Scatterplot of current value vs. age separated by positions"
      ]
    },
    {
      "cell_type": "code",
      "execution_count": 36,
      "metadata": {
        "collapsed": true,
        "jupyter": {
          "outputs_hidden": true,
          "source_hidden": true
        },
        "colab": {
          "base_uri": "https://localhost:8080/",
          "height": 446
        },
        "id": "ZuO9FokUyzkJ",
        "outputId": "28be9a12-a076-4ac7-d83e-13dccdc959e9"
      },
      "outputs": [
        {
          "output_type": "display_data",
          "data": {
            "text/plain": [
              "<Figure size 640x480 with 4 Axes>"
            ],
            "image/png": "[encoded data removed]"
          },
          "metadata": {}
        }
      ],
      "source": [
        "### Matrix of plots\n",
        "fig, axs = plt.subplots(2, 2)\n",
        "\n",
        "## Top left plot\n",
        "x = dfTips.loc[(dfTips['position']=='Goalkeeper'),'age']\n",
        "y = dfTips.loc[(dfTips['position']=='Goalkeeper'),'current_value']\n",
        "z = np.polyfit(x, y, 1)\n",
        "p = np.poly1d(z)\n",
        "\n",
        "axs[0, 0].scatter(x,y)\n",
        "axs[0, 0].plot(x,p(x),\"r--\")\n",
        "axs[0, 0].set_xlim(0,np.max(dfTips.loc[:,'age']))\n",
        "axs[0, 0].set_ylim(0,np.max(dfTips.loc[:,'current_value']))\n",
        "axs[0, 0].set_xlabel('position = Goalkeeper')\n",
        "axs[0, 0].xaxis.set_label_position(\"top\")\n",
        "#axs[0, 0].set_ylabel('position = Goalkeeper')\n",
        "#axs[0, 0].yaxis.set_label_position(\"right\")\n",
        "\n",
        "## Top right plot\n",
        "x = dfTips.loc[(dfTips['position']=='Attack-LeftWinger'),'age']\n",
        "y = dfTips.loc[(dfTips['position']=='Attack-LeftWinger'),'current_value']\n",
        "z = np.polyfit(x, y, 1)\n",
        "p = np.poly1d(z)\n",
        "\n",
        "axs[0, 1].scatter(x,y)\n",
        "axs[0, 1].plot(x,p(x),\"r--\")\n",
        "axs[0, 1].set_xlim(0,np.max(dfTips.loc[:,'age']))\n",
        "axs[0, 1].set_ylim(0,np.max(dfTips.loc[:,'current_value']))\n",
        "axs[0, 1].set_xlabel('position = Attack-LeftWinger')\n",
        "axs[0, 1].xaxis.set_label_position(\"top\")\n",
        "\n",
        "## Bottom left plot\n",
        "x = dfTips.loc[(dfTips['position']=='midfield-CentralMidfield'),'age']\n",
        "y = dfTips.loc[(dfTips['position']=='midfield-CentralMidfield'),'current_value']\n",
        "z = np.polyfit(x, y, 1)\n",
        "p = np.poly1d(z)\n",
        "\n",
        "axs[1, 0].scatter(x,y)\n",
        "axs[1, 0].plot(x,p(x),\"r--\")\n",
        "axs[1, 0].set_xlim(0,np.max(dfTips.loc[:,'age']))\n",
        "axs[1, 0].set_ylim(0,np.max(dfTips.loc[:,'current_value']))\n",
        "axs[1, 0].set_xlabel('position = midfield-CentralMidfield')\n",
        "axs[1, 0].xaxis.set_label_position(\"top\")\n",
        "\n",
        "## Bottom right plot\n",
        "x = dfTips.loc[(dfTips['position']=='Defender Centre-Back'),'age']\n",
        "y = dfTips.loc[(dfTips['position']=='Defender Centre-Back'),'current_value']\n",
        "z = np.polyfit(x, y, 1)\n",
        "p = np.poly1d(z)\n",
        "\n",
        "axs[1, 1].scatter(x,y)\n",
        "axs[1, 1].plot(x,p(x),\"r--\")\n",
        "axs[1, 1].set_xlim(0,np.max(dfTips.loc[:,'age']))\n",
        "axs[1, 1].set_ylim(0,np.max(dfTips.loc[:,'current_value']))\n",
        "axs[1, 1].set_xlabel('position = Defender Centre-Back')\n",
        "axs[1, 1].xaxis.set_label_position(\"top\")"
      ]
    },
    {
      "cell_type": "markdown",
      "metadata": {
        "jupyter": {
          "source_hidden": true
        },
        "id": "Kp0etNGtyzkK"
      },
      "source": [
        "It can be seen that if age increase the wingers' value goes down, however goalkeepers' value doesnt seem to be effected by age this much. Again, defenders seem to be less effected than midfields and wingers by age.\n",
        "\n"
      ]
    },
    {
      "cell_type": "markdown",
      "metadata": {
        "id": "7Q-dLnNPyzkK"
      },
      "source": [
        "## Takeaways"
      ]
    },
    {
      "cell_type": "markdown",
      "metadata": {
        "id": "uARAxmVHyzkK"
      },
      "source": [
        "More analysis can be conducted through more comparisions. For example, the importance of the physicality of the football is increased in the last decade, Thus, I want to see how height affects the value."
      ]
    },
    {
      "cell_type": "code",
      "execution_count": 46,
      "metadata": {
        "collapsed": true,
        "jupyter": {
          "outputs_hidden": true,
          "source_hidden": true
        },
        "colab": {
          "base_uri": "https://localhost:8080/",
          "height": 465
        },
        "outputId": "6c62e715-114c-4a1f-e56a-007c1d55acea",
        "id": "8M-wvxjx8ypd"
      },
      "outputs": [
        {
          "output_type": "display_data",
          "data": {
            "text/plain": [
              "<Figure size 640x480 with 1 Axes>"
            ],
            "image/png": "[encoded data removed]"
          },
          "metadata": {}
        }
      ],
      "source": [
        "# Set data fields\n",
        "x = dfTips.loc[:,'height']\n",
        "y = dfTips.loc[:,'current_value']\n",
        "\n",
        "# Generate trendline\n",
        "z = np.polyfit(x, y, 1)\n",
        "p = np.poly1d(z)\n",
        "\n",
        "# Show plot\n",
        "plt.scatter(x, y)\n",
        "plt.plot(x,p(x),\"r--\")\n",
        "plt.xlim(0,np.max(dfTips.loc[:,'height']))\n",
        "plt.ylim(0,np.max(dfTips.loc[:,'current_value']))\n",
        "plt.xlabel('height')\n",
        "plt.ylabel('current_value')\n",
        "plt.show()"
      ]
    },
    {
      "cell_type": "markdown",
      "source": [
        "It can be seen that with height increases, the value increases too. I think this will be more noticeable in next years."
      ],
      "metadata": {
        "id": "dPt8oKgP90lV"
      }
    },
    {
      "cell_type": "markdown",
      "metadata": {
        "id": "vsCgQOY0yzkK"
      },
      "source": [
        "![utexas_ds_orie_divider_gray.png](data:image/png;base64,iVBORw0KGgoAAAANSUhEUgAAB0YAAAAKCAYAAAAgjz0QAAAAAXNSR0IArs4c6QAAAHhlWElmTU0AKgAAAAgABAEaAAUAAAABAAAAPgEbAAUAAAABAAAARgEoAAMAAAABAAIAAIdpAAQAAAABAAAATgAAAAAAAACWAAAAAQAAAJYAAAABAAOgAQADAAAAAQABAACgAgAEAAAAAQAAB0agAwAEAAAAAQAAAAoAAAAAoOuQ6gAAAAlwSFlzAAAXEgAAFxIBZ5/SUgAAAbBJREFUeAHt2bEVAiEURcHFsxyKMLU6jcyogQKsxzo01h6IEAqwgb9DQnwHsrdtDgECBAgQIECAAAECBAgQIECAAAECBAgQIECAAAECBIILpNVXa73knM/BW+URIECAAAECBAgQIECAAAECBAgQIECAAAECBAgQIHAwgd77u7X23Vd3KeU+r+vBDOQSIECAAAECBAgQIECAAAECBAgQIECAAAECBAgQIBBcYG6ht5n4OAXvlEeAAAECBAgQIECAAAECBAgQIECAAAECBAgQIECAAIHNMOoTECBAgAABAgQIECBAgAABAgQIECBAgAABAgQIECAQXsAwGv6JBRIgQIAAAQIECBAgQIAAAQIECBAgQIAAAQIECBAgYBj1BwgQIECAAAECBAgQIECAAAECBAgQIECAAAECBAgQCC9gGA3/xAIJECBAgAABAgQIECBAgAABAgQIECBAgAABAgQIENgXwRjjlVJ64iBAgAABAgQIECBAgAABAgQIECBAgAABAgQIECBAgEAkgbmDfiL1aCFAgAABAgQIECBAgAABAgQIECBAgAABAgQIECBAgMBfgR+MbQ+c2cysKQAAAABJRU5ErkJggg==)"
      ]
    }
  ],
  "metadata": {
    "kernelspec": {
      "display_name": "Python 3",
      "language": "python",
      "name": "python3"
    },
    "language_info": {
      "codemirror_mode": {
        "name": "ipython",
        "version": 3
      },
      "file_extension": ".py",
      "mimetype": "text/x-python",
      "name": "python",
      "nbconvert_exporter": "python",
      "pygments_lexer": "ipython3",
      "version": "3.7.1"
    },
    "colab": {
      "name": "n1.ipynb",
      "provenance": [],
      "include_colab_link": true
    }
  },
  "nbformat": 4,
  "nbformat_minor": 0
}